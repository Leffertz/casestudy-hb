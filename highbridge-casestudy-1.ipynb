{
 "cells": [
  {
   "cell_type": "code",
   "execution_count": 1,
   "id": "3766ea8f",
   "metadata": {},
   "outputs": [
    {
     "data": {
      "text/html": [
       "        <script type=\"text/javascript\">\n",
       "        window.PlotlyConfig = {MathJaxConfig: 'local'};\n",
       "        if (window.MathJax && window.MathJax.Hub && window.MathJax.Hub.Config) {window.MathJax.Hub.Config({SVG: {font: \"STIX-Web\"}});}\n",
       "        if (typeof require !== 'undefined') {\n",
       "        require.undef(\"plotly\");\n",
       "        requirejs.config({\n",
       "            paths: {\n",
       "                'plotly': ['https://cdn.plot.ly/plotly-2.32.0.min']\n",
       "            }\n",
       "        });\n",
       "        require(['plotly'], function(Plotly) {\n",
       "            window._Plotly = Plotly;\n",
       "        });\n",
       "        }\n",
       "        </script>\n",
       "        "
      ]
     },
     "metadata": {},
     "output_type": "display_data"
    },
    {
     "data": {
      "text/html": [
       "        <script type=\"text/javascript\">\n",
       "        window.PlotlyConfig = {MathJaxConfig: 'local'};\n",
       "        if (window.MathJax && window.MathJax.Hub && window.MathJax.Hub.Config) {window.MathJax.Hub.Config({SVG: {font: \"STIX-Web\"}});}\n",
       "        if (typeof require !== 'undefined') {\n",
       "        require.undef(\"plotly\");\n",
       "        requirejs.config({\n",
       "            paths: {\n",
       "                'plotly': ['https://cdn.plot.ly/plotly-2.32.0.min']\n",
       "            }\n",
       "        });\n",
       "        require(['plotly'], function(Plotly) {\n",
       "            window._Plotly = Plotly;\n",
       "        });\n",
       "        }\n",
       "        </script>\n",
       "        "
      ]
     },
     "metadata": {},
     "output_type": "display_data"
    }
   ],
   "source": [
    "from datetime import date\n",
    "import numpy as np\n",
    "import pandas as pd\n",
    "from scipy.stats import norm\n",
    "import cufflinks as cf\n",
    "\n",
    "cf.go_offline()"
   ]
  },
  {
   "cell_type": "code",
   "execution_count": 119,
   "id": "b7e1515f",
   "metadata": {},
   "outputs": [],
   "source": [
    "N = norm.cdf\n",
    "N_prime = norm.pdf\n",
    "\n",
    "def d1(S,K,r,q,T,sigma):\n",
    "    return (np.log(S/K)+(r-q+sigma**2/2)*T)/(sigma*np.sqrt(T))\n",
    "\n",
    "def d2(S,K,r,q,T,sigma):\n",
    "    return d1(S,K,r,q,T,sigma)-sigma*np.sqrt(T)\n",
    "\n",
    "def bs_price(S,K,r,q,T,sigma,option_type):\n",
    "    if option_type == 'C':\n",
    "        return np.exp(-q*T)*S*N(d1(S,K,r,q,T,sigma))-np.exp(-r*T)*K*N(d2(S,K,r,q,T,sigma))\n",
    "    elif option_type == 'P':\n",
    "        return -np.exp(-q*T)*S*N(-d1(S,K,r,q,T,sigma))+np.exp(-r*T)*K*N(-d2(S,K,r,q,T,sigma))\n",
    "    \n",
    "def bs_delta(S,K,r,q,T,sigma,option_type):\n",
    "    if option_type == 'C':\n",
    "        return np.exp(-q*T)*N(d1(S,K,r,q,T,sigma))\n",
    "    elif option_type == 'P':\n",
    "        return -np.exp(-q*T)*N(-d1(S,K,r,q,T,sigma))"
   ]
  },
  {
   "cell_type": "code",
   "execution_count": 218,
   "id": "7e210098",
   "metadata": {},
   "outputs": [],
   "source": [
    "def load_warrant_historical_prices(ticker):\n",
    "    df = pd.read_excel('case_study_q1_data.xlsx', sheet_name='Warrant history', skiprows=3)\n",
    "    \n",
    "    df.rename(columns={\n",
    "        'LVWR/WS': 'LVWR/WS_date',\n",
    "        'Unnamed: 1': 'LVWR/WS_price',\n",
    "        'TLSIW': 'TLSIW_date',\n",
    "        'Unnamed: 3': 'TLSIW_price',\n",
    "        'AFRIW': 'AFRIW_date',\n",
    "        'Unnamed: 5': 'AFRIW_price',\n",
    "        'CLBTW': 'CLBTW_date',\n",
    "        'Unnamed: 7': 'CLBTW_price',\n",
    "        'GRND/WS': 'GRND/WS_date',\n",
    "        'Unnamed: 9': 'GRND/WS_price',\n",
    "    }, inplace=True)\n",
    "    \n",
    "    df = df.loc[:,df.columns.str.startswith(ticker)]\n",
    "    df.dropna(inplace=True)\n",
    "    \n",
    "    df.set_index(ticker+'_date', inplace=True)\n",
    "    df.rename_axis(index={ticker+'_date': 'date'}, inplace=True)\n",
    "    \n",
    "    return df\n",
    "\n",
    "def load_stock_historical_prices(ticker):\n",
    "    df = pd.read_excel('case_study_q1_data.xlsx', sheet_name='Stock history', skiprows=2)\n",
    "    \n",
    "    df.rename(columns={\n",
    "        'LVWR': 'LVWR_date',\n",
    "        'LVWR.1': 'LVWR_price',\n",
    "        'TLSI': 'TLSI_date',\n",
    "        'TLSI.1': 'TLSI_price',\n",
    "        'AFRI': 'AFRI_date',\n",
    "        'AFRI.1': 'AFRI_price',\n",
    "        'CLBT': 'CLBT_date',\n",
    "        'CLBT.1': 'CLBT_price',\n",
    "        'GRND': 'GRND_date',\n",
    "        'GRND.1': 'GRND_price',\n",
    "    }, inplace=True)\n",
    "    \n",
    "    df = df.loc[:,df.columns.str.startswith(ticker)]\n",
    "    df.dropna(inplace=True)\n",
    "    \n",
    "    df.set_index(ticker+'_date', inplace=True)\n",
    "    df.rename_axis(index={ticker+'_date': 'date'}, inplace=True)\n",
    "    \n",
    "    return df\n",
    "\n",
    "def load_warrant_static_data(ticker):\n",
    "    df = pd.read_excel('case_study_q1_data.xlsx', sheet_name='Warrant static data', skiprows=1)\n",
    "    \n",
    "    df.rename(columns={\n",
    "        'Unnamed: 1': 'field'\n",
    "    }, inplace=True)\n",
    "    \n",
    "    df.set_index('field', inplace=True)\n",
    "    \n",
    "    df = df.loc[:,df.columns.str.startswith(ticker)]    \n",
    "    \n",
    "    return df.T\n",
    "\n",
    "def calculate_theoretical_delta(u_ticker, w_ticker):\n",
    "    \n",
    "    df_und = load_stock_historical_prices(u_ticker)\n",
    "    u_date = pd.to_datetime(df_und.iloc[[-1]].index.values[0]).date()\n",
    "    u_price = df_und.iloc[-1,0]\n",
    "\n",
    "    #estimate implied vol using realized volatility of stock\n",
    "    df_und['return'] = np.log(df_und[u_ticker+'_price'] / df_und[u_ticker+'_price'].shift(1))\n",
    "    iv = df_und['return'].dropna().std()*np.sqrt(252)\n",
    "\n",
    "    df_wrt = load_warrant_static_data(w_ticker)\n",
    "    expiry = pd.to_datetime(df_wrt['Expiry'], format='%m/%d/%Y', errors='coerce').iloc[0].date()\n",
    "    strike = pd.to_numeric(df_wrt['Strike'], errors='coerce').iloc[0]\n",
    "    years_to_expiry = (expiry - u_date).days / 365\n",
    "\n",
    "    return bs_delta(S=u_price, K=strike, r=0.055, q=0, T=years_to_expiry, sigma=iv, option_type='C')\n",
    "\n",
    "def calculate_delta_notional(eval_date, w_tkr, qty):\n",
    "    df_wrt = load_warrant_static_data(w_tkr)\n",
    "    expiry = pd.to_datetime(df_wrt['Expiry'], format='%m/%d/%Y', errors='coerce').iloc[0].date()\n",
    "    strike = pd.to_numeric(df_wrt['Strike'], errors='coerce').iloc[0]\n",
    "    years_to_expiry = (expiry - eval_date).days / 365\n",
    "\n",
    "    d = bs_delta(S=u_price, K=strike, r=0.055, q=0, T=years_to_expiry, sigma=iv, option_type='C')    \n",
    "    \n",
    "    return qty * strike * d"
   ]
  },
  {
   "cell_type": "code",
   "execution_count": 137,
   "id": "dfd53f33",
   "metadata": {},
   "outputs": [
    {
     "data": {
      "text/html": [
       "<div>\n",
       "<style scoped>\n",
       "    .dataframe tbody tr th:only-of-type {\n",
       "        vertical-align: middle;\n",
       "    }\n",
       "\n",
       "    .dataframe tbody tr th {\n",
       "        vertical-align: top;\n",
       "    }\n",
       "\n",
       "    .dataframe thead th {\n",
       "        text-align: right;\n",
       "    }\n",
       "</style>\n",
       "<table border=\"1\" class=\"dataframe\">\n",
       "  <thead>\n",
       "    <tr style=\"text-align: right;\">\n",
       "      <th></th>\n",
       "      <th>LVWR/WS_price</th>\n",
       "    </tr>\n",
       "    <tr>\n",
       "      <th>date</th>\n",
       "      <th></th>\n",
       "    </tr>\n",
       "  </thead>\n",
       "  <tbody>\n",
       "    <tr>\n",
       "      <th>2024-01-02</th>\n",
       "      <td>0.3999</td>\n",
       "    </tr>\n",
       "    <tr>\n",
       "      <th>2024-01-03</th>\n",
       "      <td>0.4000</td>\n",
       "    </tr>\n",
       "    <tr>\n",
       "      <th>2024-01-04</th>\n",
       "      <td>0.4490</td>\n",
       "    </tr>\n",
       "    <tr>\n",
       "      <th>2024-01-05</th>\n",
       "      <td>0.4489</td>\n",
       "    </tr>\n",
       "    <tr>\n",
       "      <th>2024-01-08</th>\n",
       "      <td>0.4130</td>\n",
       "    </tr>\n",
       "    <tr>\n",
       "      <th>...</th>\n",
       "      <td>...</td>\n",
       "    </tr>\n",
       "    <tr>\n",
       "      <th>2024-04-19</th>\n",
       "      <td>0.2599</td>\n",
       "    </tr>\n",
       "    <tr>\n",
       "      <th>2024-04-22</th>\n",
       "      <td>0.2525</td>\n",
       "    </tr>\n",
       "    <tr>\n",
       "      <th>2024-04-26</th>\n",
       "      <td>0.2244</td>\n",
       "    </tr>\n",
       "    <tr>\n",
       "      <th>2024-04-29</th>\n",
       "      <td>0.2320</td>\n",
       "    </tr>\n",
       "    <tr>\n",
       "      <th>2024-04-30</th>\n",
       "      <td>0.2490</td>\n",
       "    </tr>\n",
       "  </tbody>\n",
       "</table>\n",
       "<p>69 rows × 1 columns</p>\n",
       "</div>"
      ],
      "text/plain": [
       "            LVWR/WS_price\n",
       "date                     \n",
       "2024-01-02         0.3999\n",
       "2024-01-03         0.4000\n",
       "2024-01-04         0.4490\n",
       "2024-01-05         0.4489\n",
       "2024-01-08         0.4130\n",
       "...                   ...\n",
       "2024-04-19         0.2599\n",
       "2024-04-22         0.2525\n",
       "2024-04-26         0.2244\n",
       "2024-04-29         0.2320\n",
       "2024-04-30         0.2490\n",
       "\n",
       "[69 rows x 1 columns]"
      ]
     },
     "execution_count": 137,
     "metadata": {},
     "output_type": "execute_result"
    }
   ],
   "source": [
    "#load_warrant_static_data('LVWR')\n",
    "#load_stock_historical_prices('LVWR')\n",
    "load_warrant_historical_prices('LVWR/WS')"
   ]
  },
  {
   "cell_type": "markdown",
   "id": "430ab497-d690-4736-89af-4f96b8ede2af",
   "metadata": {},
   "source": [
    "#### 1) Quantify this security’s theoretical delta using a Black-Scholes model based on recent observable data (approximations are fine, no need to derive BS model here)."
   ]
  },
  {
   "cell_type": "code",
   "execution_count": 190,
   "id": "f79b2b7d-aa29-48ce-8d0c-da130a134e95",
   "metadata": {},
   "outputs": [
    {
     "name": "stdout",
     "output_type": "stream",
     "text": [
      "Black-Scholes delta: 0.62\n"
     ]
    }
   ],
   "source": [
    "df_und = load_stock_historical_prices('LVWR')\n",
    "u_date = pd.to_datetime(df_und.iloc[[-1]].index.values[0]).date()\n",
    "u_price = df_und.iloc[-1,0]\n",
    "\n",
    "#estimate implied vol using realized volatility of stock\n",
    "df_und['return'] = np.log(df_und['LVWR_price'] / df_und['LVWR_price'].shift(1))\n",
    "iv = df_und['return'].dropna().std()*np.sqrt(252)\n",
    "\n",
    "df_wrt = load_warrant_static_data('LVWR')\n",
    "expiry = pd.to_datetime(df_wrt['Expiry'], format='%m/%d/%Y', errors='coerce').iloc[0].date()\n",
    "strike = pd.to_numeric(df_wrt['Strike'], errors='coerce').iloc[0]\n",
    "years_to_expiry = (expiry - u_date).days / 365\n",
    "\n",
    "print(f\"Black-Scholes delta: {bs_delta(S=u_price, K=strike, r=0.055, q=0, T=years_to_expiry, sigma=iv, option_type='C'):0.2f}\")"
   ]
  },
  {
   "cell_type": "markdown",
   "id": "bce8b2ef",
   "metadata": {},
   "source": [
    "#### 2) Quantify this security’s observed (realized) delta over recent history"
   ]
  },
  {
   "cell_type": "code",
   "execution_count": 194,
   "id": "808858a7",
   "metadata": {},
   "outputs": [
    {
     "name": "stdout",
     "output_type": "stream",
     "text": [
      "realized delta: 0.06\n"
     ]
    }
   ],
   "source": [
    "df_und = load_stock_historical_prices('LVWR')\n",
    "#df_und['LVWR_return'] = np.log(df_und['LVWR_price'] / df_und['LVWR_price'].shift(1))\n",
    "df_und['LVWR_change'] = df_und['LVWR_price'] - df_und['LVWR_price'].shift(1)\n",
    "df_wrt = load_warrant_historical_prices('LVWR/WS')\n",
    "#df_wrt['LVWR/WS_return'] = np.log(df_wrt['LVWR/WS_price'] / df_wrt['LVWR/WS_price'].shift(1))\n",
    "df_wrt['LVWR/WS_change'] = df_wrt['LVWR/WS_price'] - df_wrt['LVWR/WS_price'].shift(1)\n",
    "\n",
    "df = df_und.join(df_wrt, how='left')\n",
    "df.ffill(inplace=True)\n",
    "df.dropna(inplace=True)\n",
    "\n",
    "#df[['LVWR/WS_change', 'LVWR_change']].iplot(kind='bar')\n",
    "\n",
    "df['rlzd_delta'] = df.loc[df['LVWR_change'] != 0,'LVWR/WS_change'].div(df.loc[df['LVWR_change'] != 0, 'LVWR_change'])\n",
    "\n",
    "df.fillna(0., inplace=True)\n",
    "\n",
    "#df['rlzd_delta'].iplot(kind='bar', title='ratio of price changes')\n",
    "\n",
    "print(f\"realized delta: {df['rlzd_delta'].mean():0.2f}\")\n"
   ]
  },
  {
   "cell_type": "markdown",
   "id": "33b68909",
   "metadata": {},
   "source": [
    "#### 3) How do these measures compare?"
   ]
  },
  {
   "cell_type": "code",
   "execution_count": 196,
   "id": "afe8de0b",
   "metadata": {},
   "outputs": [
    {
     "name": "stdout",
     "output_type": "stream",
     "text": [
      "realized delta is 10% of theoretical delta\n"
     ]
    }
   ],
   "source": [
    "print(f\"realized delta is 10% of theoretical delta\")"
   ]
  },
  {
   "cell_type": "markdown",
   "id": "d20dd9af",
   "metadata": {},
   "source": [
    "#### 4) What factors do you believe are affecting security pricing?"
   ]
  },
  {
   "cell_type": "code",
   "execution_count": 201,
   "id": "f12dae27",
   "metadata": {},
   "outputs": [
    {
     "name": "stdout",
     "output_type": "stream",
     "text": [
      "Warrant volume is likely very low relative to underlying shares.  There were 14 days when the underlying shares traded and the warrants did not\n"
     ]
    }
   ],
   "source": [
    "n_obs_wrt = load_warrant_historical_prices('LVWR/WS').shape[0]\n",
    "n_obs_und = load_stock_historical_prices('LVWR').shape[0]\n",
    "\n",
    "print(f\"Warrant volume is likely very low relative to underlying shares.  There were {n_obs_und - n_obs_wrt} days when the underlying shares traded and the warrants did not\")"
   ]
  },
  {
   "cell_type": "markdown",
   "id": "e5326484",
   "metadata": {},
   "source": [
    "#### 5) Quantify the theoretical delta 1% risk of this portfolio using real world inputs. Please detail any assumptions that you make"
   ]
  },
  {
   "cell_type": "code",
   "execution_count": 231,
   "id": "c6169b4a",
   "metadata": {},
   "outputs": [
    {
     "data": {
      "text/html": [
       "<div>\n",
       "<style scoped>\n",
       "    .dataframe tbody tr th:only-of-type {\n",
       "        vertical-align: middle;\n",
       "    }\n",
       "\n",
       "    .dataframe tbody tr th {\n",
       "        vertical-align: top;\n",
       "    }\n",
       "\n",
       "    .dataframe thead th {\n",
       "        text-align: right;\n",
       "    }\n",
       "</style>\n",
       "<table border=\"1\" class=\"dataframe\">\n",
       "  <thead>\n",
       "    <tr style=\"text-align: right;\">\n",
       "      <th></th>\n",
       "      <th>expiry</th>\n",
       "      <th>strike</th>\n",
       "      <th>delta</th>\n",
       "      <th>exposure</th>\n",
       "    </tr>\n",
       "  </thead>\n",
       "  <tbody>\n",
       "    <tr>\n",
       "      <th>LVWR/WS</th>\n",
       "      <td>2027-09-27</td>\n",
       "      <td>11.50</td>\n",
       "      <td>0.62</td>\n",
       "      <td>7,135,867.43</td>\n",
       "    </tr>\n",
       "    <tr>\n",
       "      <th>TLSIW</th>\n",
       "      <td>2028-08-10</td>\n",
       "      <td>11.50</td>\n",
       "      <td>0.70</td>\n",
       "      <td>7,732,268.69</td>\n",
       "    </tr>\n",
       "    <tr>\n",
       "      <th>AFRIW</th>\n",
       "      <td>2027-06-09</td>\n",
       "      <td>11.50</td>\n",
       "      <td>0.64</td>\n",
       "      <td>6,890,762.29</td>\n",
       "    </tr>\n",
       "    <tr>\n",
       "      <th>CLBTW</th>\n",
       "      <td>2026-08-30</td>\n",
       "      <td>11.50</td>\n",
       "      <td>0.66</td>\n",
       "      <td>6,125,436.17</td>\n",
       "    </tr>\n",
       "    <tr>\n",
       "      <th>GRND/WS</th>\n",
       "      <td>2027-11-18</td>\n",
       "      <td>11.50</td>\n",
       "      <td>0.66</td>\n",
       "      <td>7,243,886.49</td>\n",
       "    </tr>\n",
       "  </tbody>\n",
       "</table>\n",
       "</div>"
      ],
      "text/plain": [
       "             expiry  strike  delta     exposure\n",
       "LVWR/WS  2027-09-27   11.50   0.62 7,135,867.43\n",
       "TLSIW    2028-08-10   11.50   0.70 7,732,268.69\n",
       "AFRIW    2027-06-09   11.50   0.64 6,890,762.29\n",
       "CLBTW    2026-08-30   11.50   0.66 6,125,436.17\n",
       "GRND/WS  2027-11-18   11.50   0.66 7,243,886.49"
      ]
     },
     "metadata": {},
     "output_type": "display_data"
    },
    {
     "name": "stdout",
     "output_type": "stream",
     "text": [
      "Portfolio delta 1%: 351,282\n"
     ]
    }
   ],
   "source": [
    "pd.options.display.float_format = \"{:0,.2f}\".format\n",
    "\n",
    "positions = {\n",
    "    'LVWR/WS': ['LVWR', 'LVWR/WS', 1e6],\n",
    "    'TLSIW': ['TLSI', 'TLSIW', 1e6],\n",
    "    'AFRIW': ['AFRI', 'AFRIW', 1e6],\n",
    "    'CLBTW': ['CLBT', 'CLBTW', 1e6],\n",
    "    'GRND/WS': ['GRND', 'GRND/WS', 1e6],\n",
    "}\n",
    "\n",
    "results = {}\n",
    "\n",
    "for name, pos in positions.items():\n",
    "    \n",
    "    \n",
    "    u_tkr = pos[0]\n",
    "    w_tkr = pos[1]\n",
    "    w_qty = pos[2]\n",
    "    \n",
    "    df_wrt = load_warrant_static_data(w_tkr)\n",
    "    expiry = pd.to_datetime(df_wrt['Expiry'], format='%m/%d/%Y', errors='coerce').iloc[0].date()\n",
    "    strike = pd.to_numeric(df_wrt['Strike'], errors='coerce').iloc[0]\n",
    "    years_to_expiry = (expiry - u_date).days / 365\n",
    "    \n",
    "    results[name] = [\n",
    "        \n",
    "        expiry,\n",
    "        strike,\n",
    "        calculate_theoretical_delta(u_tkr, w_tkr),\n",
    "        calculate_delta_notional(date(2024,4,30), w_tkr, w_qty)\n",
    "    ]\n",
    "    \n",
    "    \n",
    "\n",
    "port = pd.DataFrame.from_dict(results, orient='index', columns=['expiry', 'strike', 'delta', 'exposure'])\n",
    "\n",
    "display(port)\n",
    "\n",
    "print(f\"Portfolio delta 1%: {port[['exposure']].sum().iloc[0] * 0.01:0,.0f}\")"
   ]
  },
  {
   "cell_type": "markdown",
   "id": "cf00d38a",
   "metadata": {},
   "source": [
    "#### 6) Would the answer change if you were asked for the delta 10% or delta 20%? If so, why?"
   ]
  },
  {
   "cell_type": "code",
   "execution_count": 232,
   "id": "654cda4e",
   "metadata": {},
   "outputs": [
    {
     "name": "stdout",
     "output_type": "stream",
     "text": [
      "The exposure of the warrants portfolio is positively convex with respect to an increase in the underlying shares.  As the underlying move is increased the difference between estimated and true delta will increase.\n"
     ]
    }
   ],
   "source": [
    "print(f\"The exposure of the warrants portfolio is positively convex with respect to an increase in the underlying shares.  As the underlying move is increased the difference between estimated and true delta will increase.\")"
   ]
  },
  {
   "cell_type": "markdown",
   "id": "fc91d4fc",
   "metadata": {},
   "source": [
    "#### 7) What has the observable (realized) $ delta of this portfolio been YTD?"
   ]
  },
  {
   "cell_type": "code",
   "execution_count": 233,
   "id": "12883072",
   "metadata": {},
   "outputs": [
    {
     "name": "stdout",
     "output_type": "stream",
     "text": [
      "realized delta: 0.06\n"
     ]
    }
   ],
   "source": [
    "pd.options.display.float_format = \"{:0,.2f}\".format\n",
    "\n",
    "positions = {\n",
    "    'LVWR/WS': ['LVWR', 'LVWR/WS', 1e6],\n",
    "    'TLSIW': ['TLSI', 'TLSIW', 1e6],\n",
    "    'AFRIW': ['AFRI', 'AFRIW', 1e6],\n",
    "    'CLBTW': ['CLBT', 'CLBTW', 1e6],\n",
    "    'GRND/WS': ['GRND', 'GRND/WS', 1e6],\n",
    "}\n",
    "\n",
    "results = {}\n",
    "\n",
    "for name, pos in positions.items():\n",
    "    \n",
    "    \n",
    "    u_tkr = pos[0]\n",
    "    w_tkr = pos[1]\n",
    "    w_qty = pos[2]\n",
    "    \n",
    "    df_wrt = load_warrant_static_data(w_tkr)\n",
    "    expiry = pd.to_datetime(df_wrt['Expiry'], format='%m/%d/%Y', errors='coerce').iloc[0].date()\n",
    "    strike = pd.to_numeric(df_wrt['Strike'], errors='coerce').iloc[0]\n",
    "    years_to_expiry = (expiry - u_date).days / 365\n",
    "    \n",
    "    results[name] = [\n",
    "        \n",
    "        expiry,\n",
    "        strike,\n",
    "        calculate_theoretical_delta(u_tkr, w_tkr),\n",
    "        calculate_delta_notional(date(2024,4,30), w_tkr, w_qty)\n",
    "    ]\n",
    "\n",
    "df_und = load_stock_historical_prices('LVWR')\n",
    "df_und['LVWR_change'] = df_und['LVWR_price'] - df_und['LVWR_price'].shift(1)\n",
    "df_wrt = load_warrant_historical_prices('LVWR/WS')\n",
    "df_wrt['LVWR/WS_change'] = df_wrt['LVWR/WS_price'] - df_wrt['LVWR/WS_price'].shift(1)\n",
    "\n",
    "df = df_und.join(df_wrt, how='left')\n",
    "df.ffill(inplace=True)\n",
    "df.dropna(inplace=True)\n",
    "\n",
    "#df[['LVWR/WS_change', 'LVWR_change']].iplot(kind='bar')\n",
    "\n",
    "df['rlzd_delta'] = df.loc[df['LVWR_change'] != 0,'LVWR/WS_change'].div(df.loc[df['LVWR_change'] != 0, 'LVWR_change'])\n",
    "\n",
    "df.fillna(0., inplace=True)\n",
    "\n",
    "#df['rlzd_delta'].iplot(kind='bar', title='ratio of price changes')\n",
    "\n",
    "print(f\"realized delta: {df['rlzd_delta'].mean():0.2f}\")"
   ]
  },
  {
   "cell_type": "code",
   "execution_count": null,
   "id": "a7736ea6",
   "metadata": {},
   "outputs": [],
   "source": []
  }
 ],
 "metadata": {
  "kernelspec": {
   "display_name": "leffertz-py39-env",
   "language": "python",
   "name": "leffertz-py39-env"
  },
  "language_info": {
   "codemirror_mode": {
    "name": "ipython",
    "version": 3
   },
   "file_extension": ".py",
   "mimetype": "text/x-python",
   "name": "python",
   "nbconvert_exporter": "python",
   "pygments_lexer": "ipython3",
   "version": "3.9.19"
  }
 },
 "nbformat": 4,
 "nbformat_minor": 5
}
