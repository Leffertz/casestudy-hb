{
 "cells": [
  {
   "cell_type": "markdown",
   "id": "0a9faaf3",
   "metadata": {},
   "source": [
    "#### imports and function defintions"
   ]
  },
  {
   "cell_type": "code",
   "execution_count": 1,
   "id": "7e210098",
   "metadata": {},
   "outputs": [
    {
     "data": {
      "text/html": [
       "        <script type=\"text/javascript\">\n",
       "        window.PlotlyConfig = {MathJaxConfig: 'local'};\n",
       "        if (window.MathJax && window.MathJax.Hub && window.MathJax.Hub.Config) {window.MathJax.Hub.Config({SVG: {font: \"STIX-Web\"}});}\n",
       "        if (typeof require !== 'undefined') {\n",
       "        require.undef(\"plotly\");\n",
       "        requirejs.config({\n",
       "            paths: {\n",
       "                'plotly': ['https://cdn.plot.ly/plotly-2.32.0.min']\n",
       "            }\n",
       "        });\n",
       "        require(['plotly'], function(Plotly) {\n",
       "            window._Plotly = Plotly;\n",
       "        });\n",
       "        }\n",
       "        </script>\n",
       "        "
      ]
     },
     "metadata": {},
     "output_type": "display_data"
    },
    {
     "data": {
      "text/html": [
       "        <script type=\"text/javascript\">\n",
       "        window.PlotlyConfig = {MathJaxConfig: 'local'};\n",
       "        if (window.MathJax && window.MathJax.Hub && window.MathJax.Hub.Config) {window.MathJax.Hub.Config({SVG: {font: \"STIX-Web\"}});}\n",
       "        if (typeof require !== 'undefined') {\n",
       "        require.undef(\"plotly\");\n",
       "        requirejs.config({\n",
       "            paths: {\n",
       "                'plotly': ['https://cdn.plot.ly/plotly-2.32.0.min']\n",
       "            }\n",
       "        });\n",
       "        require(['plotly'], function(Plotly) {\n",
       "            window._Plotly = Plotly;\n",
       "        });\n",
       "        }\n",
       "        </script>\n",
       "        "
      ]
     },
     "metadata": {},
     "output_type": "display_data"
    }
   ],
   "source": [
    "from datetime import date\n",
    "import numpy as np\n",
    "import pandas as pd\n",
    "from scipy.stats import norm\n",
    "import cufflinks as cf\n",
    "\n",
    "cf.go_offline()\n",
    "\n",
    "N = norm.cdf\n",
    "\n",
    "def d1(S,K,r,q,T,sigma):\n",
    "    return (np.log(S/K)+(r-q+sigma**2/2)*T)/(sigma*np.sqrt(T))\n",
    "\n",
    "def d2(S,K,r,q,T,sigma):\n",
    "    return d1(S,K,r,q,T,sigma)-sigma*np.sqrt(T)\n",
    "\n",
    "def bs_price(S,K,r,q,T,sigma,option_type):\n",
    "    if option_type == 'C':\n",
    "        return np.exp(-q*T)*S*N(d1(S,K,r,q,T,sigma))-np.exp(-r*T)*K*N(d2(S,K,r,q,T,sigma))\n",
    "    elif option_type == 'P':\n",
    "        return -np.exp(-q*T)*S*N(-d1(S,K,r,q,T,sigma))+np.exp(-r*T)*K*N(-d2(S,K,r,q,T,sigma))\n",
    "    \n",
    "def bs_delta(S,K,r,q,T,sigma,option_type):\n",
    "    if option_type == 'C':\n",
    "        return np.exp(-q*T)*N(d1(S,K,r,q,T,sigma))\n",
    "    elif option_type == 'P':\n",
    "        return -np.exp(-q*T)*N(-d1(S,K,r,q,T,sigma))\n",
    "\n",
    "def load_warrant_historical_prices(ticker):\n",
    "    df = pd.read_excel('case_study_q1_data.xlsx', sheet_name='Warrant history', skiprows=3)\n",
    "    \n",
    "    df.rename(columns={\n",
    "        'LVWR/WS': 'LVWR/WS_date',\n",
    "        'Unnamed: 1': 'LVWR/WS_price',\n",
    "        'TLSIW': 'TLSIW_date',\n",
    "        'Unnamed: 3': 'TLSIW_price',\n",
    "        'AFRIW': 'AFRIW_date',\n",
    "        'Unnamed: 5': 'AFRIW_price',\n",
    "        'CLBTW': 'CLBTW_date',\n",
    "        'Unnamed: 7': 'CLBTW_price',\n",
    "        'GRND/WS': 'GRND/WS_date',\n",
    "        'Unnamed: 9': 'GRND/WS_price',\n",
    "    }, inplace=True)\n",
    "    \n",
    "    df = df.loc[:,df.columns.str.startswith(ticker)]\n",
    "    df.dropna(inplace=True)\n",
    "    \n",
    "    df.set_index(ticker+'_date', inplace=True)\n",
    "    df.rename_axis(index={ticker+'_date': 'date'}, inplace=True)\n",
    "    \n",
    "    return df\n",
    "\n",
    "def load_stock_historical_prices(ticker):\n",
    "    df = pd.read_excel('case_study_q1_data.xlsx', sheet_name='Stock history', skiprows=2)\n",
    "    \n",
    "    df.rename(columns={\n",
    "        'LVWR': 'LVWR_date',\n",
    "        'LVWR.1': 'LVWR_price',\n",
    "        'TLSI': 'TLSI_date',\n",
    "        'TLSI.1': 'TLSI_price',\n",
    "        'AFRI': 'AFRI_date',\n",
    "        'AFRI.1': 'AFRI_price',\n",
    "        'CLBT': 'CLBT_date',\n",
    "        'CLBT.1': 'CLBT_price',\n",
    "        'GRND': 'GRND_date',\n",
    "        'GRND.1': 'GRND_price',\n",
    "    }, inplace=True)\n",
    "    \n",
    "    df = df.loc[:,df.columns.str.startswith(ticker)]\n",
    "    df.dropna(inplace=True)\n",
    "    \n",
    "    df.set_index(ticker+'_date', inplace=True)\n",
    "    df.rename_axis(index={ticker+'_date': 'date'}, inplace=True)\n",
    "    \n",
    "    return df\n",
    "\n",
    "def load_warrant_static_data(ticker):\n",
    "    df = pd.read_excel('case_study_q1_data.xlsx', sheet_name='Warrant static data', skiprows=1)\n",
    "    \n",
    "    df.rename(columns={\n",
    "        'Unnamed: 1': 'field'\n",
    "    }, inplace=True)\n",
    "    \n",
    "    df.set_index('field', inplace=True)\n",
    "    \n",
    "    df = df.loc[:,df.columns.str.startswith(ticker)]    \n",
    "    \n",
    "    return df.T\n",
    "\n",
    "def load_etf_historical_prices(ticker):\n",
    "    df = pd.read_excel('case_study_q1_data.xlsx', sheet_name='ETFs', skiprows=2).iloc[:,:4]\n",
    "    \n",
    "    df.rename(columns={\n",
    "        'IWM': 'IWM_date',\n",
    "        'Unnamed: 1': 'IWM_price',\n",
    "        'SPY': 'SPY_date',\n",
    "        'Unnamed: 3': 'SPY_price',\n",
    "    }, inplace=True)\n",
    "    \n",
    "    df = df.loc[:,df.columns.str.startswith(ticker)]\n",
    "    df.dropna(inplace=True)\n",
    "    \n",
    "    df.set_index(ticker+'_date', inplace=True)\n",
    "    df.rename_axis(index={ticker+'_date': 'date'}, inplace=True)\n",
    "    \n",
    "    return df\n",
    "\n",
    "def load_etf_historical_dividends(ticker):\n",
    "    df = pd.concat([\n",
    "        pd.read_excel('case_study_q1_data.xlsx', sheet_name='ETFs', skiprows=3).iloc[:,5:12],\n",
    "        pd.read_excel('case_study_q1_data.xlsx', sheet_name='ETFs', skiprows=3).iloc[:,13:20]],\n",
    "        axis=0\n",
    "    )\n",
    "    \n",
    "    df.rename(columns={\n",
    "        'Declared date': 'IWM_declared_date',\n",
    "        'Ex date': 'IWM_ex_date',\n",
    "        'Record Date': 'IWM_record_date',\n",
    "        'Pay date': 'IWM_pay_date',\n",
    "        'Net amount': 'IWM_net_amount',\n",
    "        'Frequency': 'IWM_frequency',\n",
    "        'Type': 'IWM_type',\n",
    "        'Declared date.1': 'SPY_declared_date',\n",
    "        'Ex date.1': 'SPY_ex_date',\n",
    "        'Record Date.1': 'SPY_record_date',\n",
    "        'Pay date.1': 'SPY_pay_date',\n",
    "        'Net amount.1': 'SPY_net_amount',\n",
    "        'Frequency.1': 'SPY_frequency',\n",
    "        'Type.1': 'SPY_type',\n",
    "\n",
    "    }, inplace=True)\n",
    "    \n",
    "    df = df.loc[:,df.columns.str.startswith(ticker)]\n",
    "    df.dropna(inplace=True)\n",
    "    \n",
    "    df.set_index(ticker+'_declared_date', inplace=True)\n",
    "    \n",
    "    return df\n",
    "\n",
    "def calculate_theoretical_delta(u_ticker, w_ticker):\n",
    "    \n",
    "    df_und = load_stock_historical_prices(u_ticker)\n",
    "    u_date = pd.to_datetime(df_und.iloc[[-1]].index.values[0]).date()\n",
    "    u_price = df_und.iloc[-1,0]\n",
    "\n",
    "    #estimate implied vol using realized volatility of stock\n",
    "    df_und['return'] = np.log(df_und[u_ticker+'_price'] / df_und[u_ticker+'_price'].shift(1))\n",
    "    iv = df_und['return'].dropna().std()*np.sqrt(252)\n",
    "\n",
    "    df_wrt = load_warrant_static_data(w_ticker)\n",
    "    expiry = pd.to_datetime(df_wrt['Expiry'], format='%m/%d/%Y', errors='coerce').iloc[0].date()\n",
    "    strike = pd.to_numeric(df_wrt['Strike'], errors='coerce').iloc[0]\n",
    "    years_to_expiry = (expiry - u_date).days / 365\n",
    "\n",
    "    return bs_delta(S=u_price, K=strike, r=0.055, q=0, T=years_to_expiry, sigma=iv, option_type='C')\n",
    "\n",
    "def calculate_delta_notional(eval_date, w_tkr, qty):\n",
    "    df_wrt = load_warrant_static_data(w_tkr)\n",
    "    expiry = pd.to_datetime(df_wrt['Expiry'], format='%m/%d/%Y', errors='coerce').iloc[0].date()\n",
    "    strike = pd.to_numeric(df_wrt['Strike'], errors='coerce').iloc[0]\n",
    "    years_to_expiry = (expiry - eval_date).days / 365\n",
    "\n",
    "    d = bs_delta(S=u_price, K=strike, r=0.055, q=0, T=years_to_expiry, sigma=iv, option_type='C')    \n",
    "    \n",
    "    return qty * strike * d\n",
    "\n",
    "def calculate_ex_post_delta(df_deriv, df_under):\n",
    "\n",
    "    df = df_under.join(df_deriv, how='left')\n",
    "    df.ffill(inplace=True)\n",
    "    df.dropna(inplace=True)\n",
    "\n",
    "    df[df_under.columns[0]+'_change'] = df[df_under.columns[0]] - df[df_under.columns[0]].shift(1)\n",
    "    df[df_deriv.columns[0]+'_change'] = df[df_deriv.columns[0]] - df[df_deriv.columns[0]].shift(1)\n",
    "\n",
    "    df.dropna(axis=0, how='any', inplace=True)\n",
    "    df = df.loc[df[df_under.columns[0]+'_change'] != 0]\n",
    "    df.fillna(0., inplace=True)\n",
    "\n",
    "    df['change_ratio'] = df[df_deriv.columns[0]+'_change'] / df[df_under.columns[0]+'_change']\n",
    "\n",
    "    return df['change_ratio'], df[df_deriv.columns[0]+'_change'], df[df_under.columns[0]+'_change']\n",
    "\n",
    "def calculate_geometric_mean(prices):\n",
    "    \n",
    "    return prices.prod(axis=1)**(1/len(prices.columns))"
   ]
  },
  {
   "cell_type": "markdown",
   "id": "430ab497-d690-4736-89af-4f96b8ede2af",
   "metadata": {},
   "source": [
    "#### 1) Quantify this security’s theoretical delta using a Black-Scholes model based on recent observable data (approximations are fine, no need to derive BS model here)."
   ]
  },
  {
   "cell_type": "code",
   "execution_count": 2,
   "id": "f79b2b7d-aa29-48ce-8d0c-da130a134e95",
   "metadata": {},
   "outputs": [
    {
     "name": "stdout",
     "output_type": "stream",
     "text": [
      "Black-Scholes delta as of 2024-04-30: 0.62\n"
     ]
    }
   ],
   "source": [
    "df_und = load_stock_historical_prices('LVWR')\n",
    "u_date = pd.to_datetime(df_und.iloc[[-1]].index.values[0]).date()\n",
    "u_price = df_und.iloc[-1,0]\n",
    "\n",
    "#estimate implied vol using realized volatility of stock\n",
    "df_und['return'] = np.log(df_und['LVWR_price'] / df_und['LVWR_price'].shift(1))\n",
    "iv = df_und['return'].dropna().std()*np.sqrt(252)\n",
    "\n",
    "df_wrt = load_warrant_static_data('LVWR')\n",
    "expiry = pd.to_datetime(df_wrt['Expiry'], format='%m/%d/%Y', errors='coerce').iloc[0].date()\n",
    "strike = pd.to_numeric(df_wrt['Strike'], errors='coerce').iloc[0]\n",
    "years_to_expiry = (expiry - u_date).days / 365\n",
    "\n",
    "ex_ante_delta = bs_delta(S=u_price, K=strike, r=0.055, q=0, T=years_to_expiry, sigma=iv, option_type='C')\n",
    "\n",
    "print(f\"Black-Scholes delta as of {u_date.strftime('%Y-%m-%d')}: {ex_ante_delta:0.2f}\")"
   ]
  },
  {
   "cell_type": "markdown",
   "id": "bce8b2ef",
   "metadata": {},
   "source": [
    "#### 2) Quantify this security’s observed (realized) delta over recent history"
   ]
  },
  {
   "cell_type": "code",
   "execution_count": 14,
   "id": "808858a7",
   "metadata": {},
   "outputs": [
    {
     "name": "stdout",
     "output_type": "stream",
     "text": [
      "average ex-post delta: 0.09\n"
     ]
    },
    {
     "data": {
      "application/vnd.plotly.v1+json": {
       "config": {
        "linkText": "Export to plot.ly",
        "plotlyServerURL": "https://plot.ly",
        "showLink": true
       },
       "data": [
        {
         "marker": {
          "color": "rgba(255, 153, 51, 0.6)",
          "line": {
           "color": "rgba(255, 153, 51, 1.0)",
           "width": 1
          }
         },
         "name": "change_ratio",
         "orientation": "v",
         "text": "",
         "type": "bar",
         "x": [
          "2024-01-03",
          "2024-01-04",
          "2024-01-05",
          "2024-01-08",
          "2024-01-09",
          "2024-01-10",
          "2024-01-11",
          "2024-01-12",
          "2024-01-16",
          "2024-01-17",
          "2024-01-18",
          "2024-01-19",
          "2024-01-22",
          "2024-01-23",
          "2024-01-24",
          "2024-01-25",
          "2024-01-29",
          "2024-01-30",
          "2024-01-31",
          "2024-02-01",
          "2024-02-02",
          "2024-02-05",
          "2024-02-06",
          "2024-02-07",
          "2024-02-08",
          "2024-02-09",
          "2024-02-12",
          "2024-02-13",
          "2024-02-14",
          "2024-02-15",
          "2024-02-16",
          "2024-02-20",
          "2024-02-21",
          "2024-02-22",
          "2024-02-23",
          "2024-02-26",
          "2024-02-27",
          "2024-02-28",
          "2024-02-29",
          "2024-03-01",
          "2024-03-04",
          "2024-03-05",
          "2024-03-06",
          "2024-03-07",
          "2024-03-08",
          "2024-03-11",
          "2024-03-12",
          "2024-03-13",
          "2024-03-14",
          "2024-03-15",
          "2024-03-18",
          "2024-03-19",
          "2024-03-20",
          "2024-03-21",
          "2024-03-22",
          "2024-03-25",
          "2024-03-26",
          "2024-03-27",
          "2024-03-28",
          "2024-04-01",
          "2024-04-02",
          "2024-04-03",
          "2024-04-04",
          "2024-04-05",
          "2024-04-08",
          "2024-04-09",
          "2024-04-10",
          "2024-04-11",
          "2024-04-12",
          "2024-04-15",
          "2024-04-16",
          "2024-04-17",
          "2024-04-18",
          "2024-04-19",
          "2024-04-22",
          "2024-04-23",
          "2024-04-24",
          "2024-04-25",
          "2024-04-26",
          "2024-04-29",
          "2024-04-30"
         ],
         "y": [
          0.0001388888888889509,
          4.900000000000103,
          0.0002272727272727025,
          0.12821428571428617,
          0.4124999999999993,
          -0.3200000000000071,
          0,
          0.23888888888888887,
          -0.08823529411764718,
          0.063953488372093,
          -0.15000000000000066,
          0.4909090909090934,
          0.2833333333333312,
          -0.012500000000000093,
          0.00909090909090911,
          -0.03529411764705887,
          0.032,
          0,
          0.04651162790697681,
          -0.03200000000000003,
          0.12000000000000054,
          -0.008333333333333273,
          -0.137500000000001,
          0,
          0.018461538461538453,
          -0.051000000000000115,
          0.035000000000000156,
          0.03372093023255819,
          0.01967213114754102,
          0.28999999999999615,
          0,
          0.027777777777777846,
          -0.001376146788990827,
          -0.032051282051282035,
          0.11833333333333403,
          0.0635294117647061,
          0.299999999999996,
          -0.050000000000000225,
          -0.030000000000000165,
          0.3633333333333184,
          0.03160000000000007,
          0,
          0,
          -0.017543859649122813,
          0,
          0,
          0,
          0,
          0.002777777777777779,
          0.04807692307692311,
          0.8750000000000181,
          0,
          -0.04705882352941174,
          -0.0075000000000000335,
          -0.11739130434782631,
          0,
          0,
          0.005576923076923098,
          -0.08375000000000007,
          -0.003125,
          0.013703703703703713,
          0.01681818181818181,
          0,
          0,
          0,
          0.07615384615384585,
          0,
          0,
          0,
          -0.49499999999998956,
          0,
          -0.15384615384615388,
          -0.10266666666666702,
          0.20714285714285913,
          -0.02960000000000007,
          0,
          0,
          0,
          0.10035714285714281,
          -0.19000000000000042,
          -0.24285714285714477
         ]
        }
       ],
       "layout": {
        "legend": {
         "bgcolor": "#F5F6F9",
         "font": {
          "color": "#4D5663"
         }
        },
        "paper_bgcolor": "#F5F6F9",
        "plot_bgcolor": "#F5F6F9",
        "template": {
         "data": {
          "bar": [
           {
            "error_x": {
             "color": "#2a3f5f"
            },
            "error_y": {
             "color": "#2a3f5f"
            },
            "marker": {
             "line": {
              "color": "#E5ECF6",
              "width": 0.5
             },
             "pattern": {
              "fillmode": "overlay",
              "size": 10,
              "solidity": 0.2
             }
            },
            "type": "bar"
           }
          ],
          "barpolar": [
           {
            "marker": {
             "line": {
              "color": "#E5ECF6",
              "width": 0.5
             },
             "pattern": {
              "fillmode": "overlay",
              "size": 10,
              "solidity": 0.2
             }
            },
            "type": "barpolar"
           }
          ],
          "carpet": [
           {
            "aaxis": {
             "endlinecolor": "#2a3f5f",
             "gridcolor": "white",
             "linecolor": "white",
             "minorgridcolor": "white",
             "startlinecolor": "#2a3f5f"
            },
            "baxis": {
             "endlinecolor": "#2a3f5f",
             "gridcolor": "white",
             "linecolor": "white",
             "minorgridcolor": "white",
             "startlinecolor": "#2a3f5f"
            },
            "type": "carpet"
           }
          ],
          "choropleth": [
           {
            "colorbar": {
             "outlinewidth": 0,
             "ticks": ""
            },
            "type": "choropleth"
           }
          ],
          "contour": [
           {
            "colorbar": {
             "outlinewidth": 0,
             "ticks": ""
            },
            "colorscale": [
             [
              0,
              "#0d0887"
             ],
             [
              0.1111111111111111,
              "#46039f"
             ],
             [
              0.2222222222222222,
              "#7201a8"
             ],
             [
              0.3333333333333333,
              "#9c179e"
             ],
             [
              0.4444444444444444,
              "#bd3786"
             ],
             [
              0.5555555555555556,
              "#d8576b"
             ],
             [
              0.6666666666666666,
              "#ed7953"
             ],
             [
              0.7777777777777778,
              "#fb9f3a"
             ],
             [
              0.8888888888888888,
              "#fdca26"
             ],
             [
              1,
              "#f0f921"
             ]
            ],
            "type": "contour"
           }
          ],
          "contourcarpet": [
           {
            "colorbar": {
             "outlinewidth": 0,
             "ticks": ""
            },
            "type": "contourcarpet"
           }
          ],
          "heatmap": [
           {
            "colorbar": {
             "outlinewidth": 0,
             "ticks": ""
            },
            "colorscale": [
             [
              0,
              "#0d0887"
             ],
             [
              0.1111111111111111,
              "#46039f"
             ],
             [
              0.2222222222222222,
              "#7201a8"
             ],
             [
              0.3333333333333333,
              "#9c179e"
             ],
             [
              0.4444444444444444,
              "#bd3786"
             ],
             [
              0.5555555555555556,
              "#d8576b"
             ],
             [
              0.6666666666666666,
              "#ed7953"
             ],
             [
              0.7777777777777778,
              "#fb9f3a"
             ],
             [
              0.8888888888888888,
              "#fdca26"
             ],
             [
              1,
              "#f0f921"
             ]
            ],
            "type": "heatmap"
           }
          ],
          "heatmapgl": [
           {
            "colorbar": {
             "outlinewidth": 0,
             "ticks": ""
            },
            "colorscale": [
             [
              0,
              "#0d0887"
             ],
             [
              0.1111111111111111,
              "#46039f"
             ],
             [
              0.2222222222222222,
              "#7201a8"
             ],
             [
              0.3333333333333333,
              "#9c179e"
             ],
             [
              0.4444444444444444,
              "#bd3786"
             ],
             [
              0.5555555555555556,
              "#d8576b"
             ],
             [
              0.6666666666666666,
              "#ed7953"
             ],
             [
              0.7777777777777778,
              "#fb9f3a"
             ],
             [
              0.8888888888888888,
              "#fdca26"
             ],
             [
              1,
              "#f0f921"
             ]
            ],
            "type": "heatmapgl"
           }
          ],
          "histogram": [
           {
            "marker": {
             "pattern": {
              "fillmode": "overlay",
              "size": 10,
              "solidity": 0.2
             }
            },
            "type": "histogram"
           }
          ],
          "histogram2d": [
           {
            "colorbar": {
             "outlinewidth": 0,
             "ticks": ""
            },
            "colorscale": [
             [
              0,
              "#0d0887"
             ],
             [
              0.1111111111111111,
              "#46039f"
             ],
             [
              0.2222222222222222,
              "#7201a8"
             ],
             [
              0.3333333333333333,
              "#9c179e"
             ],
             [
              0.4444444444444444,
              "#bd3786"
             ],
             [
              0.5555555555555556,
              "#d8576b"
             ],
             [
              0.6666666666666666,
              "#ed7953"
             ],
             [
              0.7777777777777778,
              "#fb9f3a"
             ],
             [
              0.8888888888888888,
              "#fdca26"
             ],
             [
              1,
              "#f0f921"
             ]
            ],
            "type": "histogram2d"
           }
          ],
          "histogram2dcontour": [
           {
            "colorbar": {
             "outlinewidth": 0,
             "ticks": ""
            },
            "colorscale": [
             [
              0,
              "#0d0887"
             ],
             [
              0.1111111111111111,
              "#46039f"
             ],
             [
              0.2222222222222222,
              "#7201a8"
             ],
             [
              0.3333333333333333,
              "#9c179e"
             ],
             [
              0.4444444444444444,
              "#bd3786"
             ],
             [
              0.5555555555555556,
              "#d8576b"
             ],
             [
              0.6666666666666666,
              "#ed7953"
             ],
             [
              0.7777777777777778,
              "#fb9f3a"
             ],
             [
              0.8888888888888888,
              "#fdca26"
             ],
             [
              1,
              "#f0f921"
             ]
            ],
            "type": "histogram2dcontour"
           }
          ],
          "mesh3d": [
           {
            "colorbar": {
             "outlinewidth": 0,
             "ticks": ""
            },
            "type": "mesh3d"
           }
          ],
          "parcoords": [
           {
            "line": {
             "colorbar": {
              "outlinewidth": 0,
              "ticks": ""
             }
            },
            "type": "parcoords"
           }
          ],
          "pie": [
           {
            "automargin": true,
            "type": "pie"
           }
          ],
          "scatter": [
           {
            "fillpattern": {
             "fillmode": "overlay",
             "size": 10,
             "solidity": 0.2
            },
            "type": "scatter"
           }
          ],
          "scatter3d": [
           {
            "line": {
             "colorbar": {
              "outlinewidth": 0,
              "ticks": ""
             }
            },
            "marker": {
             "colorbar": {
              "outlinewidth": 0,
              "ticks": ""
             }
            },
            "type": "scatter3d"
           }
          ],
          "scattercarpet": [
           {
            "marker": {
             "colorbar": {
              "outlinewidth": 0,
              "ticks": ""
             }
            },
            "type": "scattercarpet"
           }
          ],
          "scattergeo": [
           {
            "marker": {
             "colorbar": {
              "outlinewidth": 0,
              "ticks": ""
             }
            },
            "type": "scattergeo"
           }
          ],
          "scattergl": [
           {
            "marker": {
             "colorbar": {
              "outlinewidth": 0,
              "ticks": ""
             }
            },
            "type": "scattergl"
           }
          ],
          "scattermapbox": [
           {
            "marker": {
             "colorbar": {
              "outlinewidth": 0,
              "ticks": ""
             }
            },
            "type": "scattermapbox"
           }
          ],
          "scatterpolar": [
           {
            "marker": {
             "colorbar": {
              "outlinewidth": 0,
              "ticks": ""
             }
            },
            "type": "scatterpolar"
           }
          ],
          "scatterpolargl": [
           {
            "marker": {
             "colorbar": {
              "outlinewidth": 0,
              "ticks": ""
             }
            },
            "type": "scatterpolargl"
           }
          ],
          "scatterternary": [
           {
            "marker": {
             "colorbar": {
              "outlinewidth": 0,
              "ticks": ""
             }
            },
            "type": "scatterternary"
           }
          ],
          "surface": [
           {
            "colorbar": {
             "outlinewidth": 0,
             "ticks": ""
            },
            "colorscale": [
             [
              0,
              "#0d0887"
             ],
             [
              0.1111111111111111,
              "#46039f"
             ],
             [
              0.2222222222222222,
              "#7201a8"
             ],
             [
              0.3333333333333333,
              "#9c179e"
             ],
             [
              0.4444444444444444,
              "#bd3786"
             ],
             [
              0.5555555555555556,
              "#d8576b"
             ],
             [
              0.6666666666666666,
              "#ed7953"
             ],
             [
              0.7777777777777778,
              "#fb9f3a"
             ],
             [
              0.8888888888888888,
              "#fdca26"
             ],
             [
              1,
              "#f0f921"
             ]
            ],
            "type": "surface"
           }
          ],
          "table": [
           {
            "cells": {
             "fill": {
              "color": "#EBF0F8"
             },
             "line": {
              "color": "white"
             }
            },
            "header": {
             "fill": {
              "color": "#C8D4E3"
             },
             "line": {
              "color": "white"
             }
            },
            "type": "table"
           }
          ]
         },
         "layout": {
          "annotationdefaults": {
           "arrowcolor": "#2a3f5f",
           "arrowhead": 0,
           "arrowwidth": 1
          },
          "autotypenumbers": "strict",
          "coloraxis": {
           "colorbar": {
            "outlinewidth": 0,
            "ticks": ""
           }
          },
          "colorscale": {
           "diverging": [
            [
             0,
             "#8e0152"
            ],
            [
             0.1,
             "#c51b7d"
            ],
            [
             0.2,
             "#de77ae"
            ],
            [
             0.3,
             "#f1b6da"
            ],
            [
             0.4,
             "#fde0ef"
            ],
            [
             0.5,
             "#f7f7f7"
            ],
            [
             0.6,
             "#e6f5d0"
            ],
            [
             0.7,
             "#b8e186"
            ],
            [
             0.8,
             "#7fbc41"
            ],
            [
             0.9,
             "#4d9221"
            ],
            [
             1,
             "#276419"
            ]
           ],
           "sequential": [
            [
             0,
             "#0d0887"
            ],
            [
             0.1111111111111111,
             "#46039f"
            ],
            [
             0.2222222222222222,
             "#7201a8"
            ],
            [
             0.3333333333333333,
             "#9c179e"
            ],
            [
             0.4444444444444444,
             "#bd3786"
            ],
            [
             0.5555555555555556,
             "#d8576b"
            ],
            [
             0.6666666666666666,
             "#ed7953"
            ],
            [
             0.7777777777777778,
             "#fb9f3a"
            ],
            [
             0.8888888888888888,
             "#fdca26"
            ],
            [
             1,
             "#f0f921"
            ]
           ],
           "sequentialminus": [
            [
             0,
             "#0d0887"
            ],
            [
             0.1111111111111111,
             "#46039f"
            ],
            [
             0.2222222222222222,
             "#7201a8"
            ],
            [
             0.3333333333333333,
             "#9c179e"
            ],
            [
             0.4444444444444444,
             "#bd3786"
            ],
            [
             0.5555555555555556,
             "#d8576b"
            ],
            [
             0.6666666666666666,
             "#ed7953"
            ],
            [
             0.7777777777777778,
             "#fb9f3a"
            ],
            [
             0.8888888888888888,
             "#fdca26"
            ],
            [
             1,
             "#f0f921"
            ]
           ]
          },
          "colorway": [
           "#636efa",
           "#EF553B",
           "#00cc96",
           "#ab63fa",
           "#FFA15A",
           "#19d3f3",
           "#FF6692",
           "#B6E880",
           "#FF97FF",
           "#FECB52"
          ],
          "font": {
           "color": "#2a3f5f"
          },
          "geo": {
           "bgcolor": "white",
           "lakecolor": "white",
           "landcolor": "#E5ECF6",
           "showlakes": true,
           "showland": true,
           "subunitcolor": "white"
          },
          "hoverlabel": {
           "align": "left"
          },
          "hovermode": "closest",
          "mapbox": {
           "style": "light"
          },
          "paper_bgcolor": "white",
          "plot_bgcolor": "#E5ECF6",
          "polar": {
           "angularaxis": {
            "gridcolor": "white",
            "linecolor": "white",
            "ticks": ""
           },
           "bgcolor": "#E5ECF6",
           "radialaxis": {
            "gridcolor": "white",
            "linecolor": "white",
            "ticks": ""
           }
          },
          "scene": {
           "xaxis": {
            "backgroundcolor": "#E5ECF6",
            "gridcolor": "white",
            "gridwidth": 2,
            "linecolor": "white",
            "showbackground": true,
            "ticks": "",
            "zerolinecolor": "white"
           },
           "yaxis": {
            "backgroundcolor": "#E5ECF6",
            "gridcolor": "white",
            "gridwidth": 2,
            "linecolor": "white",
            "showbackground": true,
            "ticks": "",
            "zerolinecolor": "white"
           },
           "zaxis": {
            "backgroundcolor": "#E5ECF6",
            "gridcolor": "white",
            "gridwidth": 2,
            "linecolor": "white",
            "showbackground": true,
            "ticks": "",
            "zerolinecolor": "white"
           }
          },
          "shapedefaults": {
           "line": {
            "color": "#2a3f5f"
           }
          },
          "ternary": {
           "aaxis": {
            "gridcolor": "white",
            "linecolor": "white",
            "ticks": ""
           },
           "baxis": {
            "gridcolor": "white",
            "linecolor": "white",
            "ticks": ""
           },
           "bgcolor": "#E5ECF6",
           "caxis": {
            "gridcolor": "white",
            "linecolor": "white",
            "ticks": ""
           }
          },
          "title": {
           "x": 0.05
          },
          "xaxis": {
           "automargin": true,
           "gridcolor": "white",
           "linecolor": "white",
           "ticks": "",
           "title": {
            "standoff": 15
           },
           "zerolinecolor": "white",
           "zerolinewidth": 2
          },
          "yaxis": {
           "automargin": true,
           "gridcolor": "white",
           "linecolor": "white",
           "ticks": "",
           "title": {
            "standoff": 15
           },
           "zerolinecolor": "white",
           "zerolinewidth": 2
          }
         }
        },
        "title": {
         "font": {
          "color": "#4D5663"
         },
         "text": "Daily ex-post delta for LVWR/WS and LVWR"
        },
        "xaxis": {
         "gridcolor": "#E1E5ED",
         "showgrid": true,
         "tickfont": {
          "color": "#4D5663"
         },
         "title": {
          "font": {
           "color": "#4D5663"
          },
          "text": "Price Date"
         },
         "zerolinecolor": "#E1E5ED"
        },
        "yaxis": {
         "gridcolor": "#E1E5ED",
         "showgrid": true,
         "tickfont": {
          "color": "#4D5663"
         },
         "title": {
          "font": {
           "color": "#4D5663"
          },
          "text": "Ratio of price changes"
         },
         "zerolinecolor": "#E1E5ED"
        }
       }
      },
      "text/html": [
       "<div>                            <div id=\"41572b69-cf07-4ec4-bb5e-fab2cf6a5797\" class=\"plotly-graph-div\" style=\"height:525px; width:100%;\"></div>            <script type=\"text/javascript\">                require([\"plotly\"], function(Plotly) {                    window.PLOTLYENV=window.PLOTLYENV || {};\n",
       "                    window.PLOTLYENV.BASE_URL='https://plot.ly';                                    if (document.getElementById(\"41572b69-cf07-4ec4-bb5e-fab2cf6a5797\")) {                    Plotly.newPlot(                        \"41572b69-cf07-4ec4-bb5e-fab2cf6a5797\",                        [{\"marker\":{\"color\":\"rgba(255, 153, 51, 0.6)\",\"line\":{\"color\":\"rgba(255, 153, 51, 1.0)\",\"width\":1}},\"name\":\"change_ratio\",\"orientation\":\"v\",\"text\":\"\",\"x\":[\"2024-01-03\",\"2024-01-04\",\"2024-01-05\",\"2024-01-08\",\"2024-01-09\",\"2024-01-10\",\"2024-01-11\",\"2024-01-12\",\"2024-01-16\",\"2024-01-17\",\"2024-01-18\",\"2024-01-19\",\"2024-01-22\",\"2024-01-23\",\"2024-01-24\",\"2024-01-25\",\"2024-01-29\",\"2024-01-30\",\"2024-01-31\",\"2024-02-01\",\"2024-02-02\",\"2024-02-05\",\"2024-02-06\",\"2024-02-07\",\"2024-02-08\",\"2024-02-09\",\"2024-02-12\",\"2024-02-13\",\"2024-02-14\",\"2024-02-15\",\"2024-02-16\",\"2024-02-20\",\"2024-02-21\",\"2024-02-22\",\"2024-02-23\",\"2024-02-26\",\"2024-02-27\",\"2024-02-28\",\"2024-02-29\",\"2024-03-01\",\"2024-03-04\",\"2024-03-05\",\"2024-03-06\",\"2024-03-07\",\"2024-03-08\",\"2024-03-11\",\"2024-03-12\",\"2024-03-13\",\"2024-03-14\",\"2024-03-15\",\"2024-03-18\",\"2024-03-19\",\"2024-03-20\",\"2024-03-21\",\"2024-03-22\",\"2024-03-25\",\"2024-03-26\",\"2024-03-27\",\"2024-03-28\",\"2024-04-01\",\"2024-04-02\",\"2024-04-03\",\"2024-04-04\",\"2024-04-05\",\"2024-04-08\",\"2024-04-09\",\"2024-04-10\",\"2024-04-11\",\"2024-04-12\",\"2024-04-15\",\"2024-04-16\",\"2024-04-17\",\"2024-04-18\",\"2024-04-19\",\"2024-04-22\",\"2024-04-23\",\"2024-04-24\",\"2024-04-25\",\"2024-04-26\",\"2024-04-29\",\"2024-04-30\"],\"y\":[0.0001388888888889509,4.900000000000103,0.0002272727272727025,0.12821428571428617,0.4124999999999993,-0.3200000000000071,0.0,0.23888888888888887,-0.08823529411764718,0.063953488372093,-0.15000000000000066,0.4909090909090934,0.2833333333333312,-0.012500000000000093,0.00909090909090911,-0.03529411764705887,0.032,-0.0,0.04651162790697681,-0.03200000000000003,0.12000000000000054,-0.008333333333333273,-0.137500000000001,0.0,0.018461538461538453,-0.051000000000000115,0.035000000000000156,0.03372093023255819,0.01967213114754102,0.28999999999999615,-0.0,0.027777777777777846,-0.001376146788990827,-0.032051282051282035,0.11833333333333403,0.0635294117647061,0.299999999999996,-0.050000000000000225,-0.030000000000000165,0.3633333333333184,0.03160000000000007,-0.0,0.0,-0.017543859649122813,-0.0,-0.0,-0.0,0.0,0.002777777777777779,0.04807692307692311,0.8750000000000181,0.0,-0.04705882352941174,-0.0075000000000000335,-0.11739130434782631,-0.0,-0.0,0.005576923076923098,-0.08375000000000007,-0.003125,0.013703703703703713,0.01681818181818181,-0.0,0.0,0.0,0.07615384615384585,-0.0,0.0,-0.0,-0.49499999999998956,0.0,-0.15384615384615388,-0.10266666666666702,0.20714285714285913,-0.02960000000000007,-0.0,0.0,0.0,0.10035714285714281,-0.19000000000000042,-0.24285714285714477],\"type\":\"bar\"}],                        {\"legend\":{\"bgcolor\":\"#F5F6F9\",\"font\":{\"color\":\"#4D5663\"}},\"paper_bgcolor\":\"#F5F6F9\",\"plot_bgcolor\":\"#F5F6F9\",\"template\":{\"data\":{\"barpolar\":[{\"marker\":{\"line\":{\"color\":\"#E5ECF6\",\"width\":0.5},\"pattern\":{\"fillmode\":\"overlay\",\"size\":10,\"solidity\":0.2}},\"type\":\"barpolar\"}],\"bar\":[{\"error_x\":{\"color\":\"#2a3f5f\"},\"error_y\":{\"color\":\"#2a3f5f\"},\"marker\":{\"line\":{\"color\":\"#E5ECF6\",\"width\":0.5},\"pattern\":{\"fillmode\":\"overlay\",\"size\":10,\"solidity\":0.2}},\"type\":\"bar\"}],\"carpet\":[{\"aaxis\":{\"endlinecolor\":\"#2a3f5f\",\"gridcolor\":\"white\",\"linecolor\":\"white\",\"minorgridcolor\":\"white\",\"startlinecolor\":\"#2a3f5f\"},\"baxis\":{\"endlinecolor\":\"#2a3f5f\",\"gridcolor\":\"white\",\"linecolor\":\"white\",\"minorgridcolor\":\"white\",\"startlinecolor\":\"#2a3f5f\"},\"type\":\"carpet\"}],\"choropleth\":[{\"colorbar\":{\"outlinewidth\":0,\"ticks\":\"\"},\"type\":\"choropleth\"}],\"contourcarpet\":[{\"colorbar\":{\"outlinewidth\":0,\"ticks\":\"\"},\"type\":\"contourcarpet\"}],\"contour\":[{\"colorbar\":{\"outlinewidth\":0,\"ticks\":\"\"},\"colorscale\":[[0.0,\"#0d0887\"],[0.1111111111111111,\"#46039f\"],[0.2222222222222222,\"#7201a8\"],[0.3333333333333333,\"#9c179e\"],[0.4444444444444444,\"#bd3786\"],[0.5555555555555556,\"#d8576b\"],[0.6666666666666666,\"#ed7953\"],[0.7777777777777778,\"#fb9f3a\"],[0.8888888888888888,\"#fdca26\"],[1.0,\"#f0f921\"]],\"type\":\"contour\"}],\"heatmapgl\":[{\"colorbar\":{\"outlinewidth\":0,\"ticks\":\"\"},\"colorscale\":[[0.0,\"#0d0887\"],[0.1111111111111111,\"#46039f\"],[0.2222222222222222,\"#7201a8\"],[0.3333333333333333,\"#9c179e\"],[0.4444444444444444,\"#bd3786\"],[0.5555555555555556,\"#d8576b\"],[0.6666666666666666,\"#ed7953\"],[0.7777777777777778,\"#fb9f3a\"],[0.8888888888888888,\"#fdca26\"],[1.0,\"#f0f921\"]],\"type\":\"heatmapgl\"}],\"heatmap\":[{\"colorbar\":{\"outlinewidth\":0,\"ticks\":\"\"},\"colorscale\":[[0.0,\"#0d0887\"],[0.1111111111111111,\"#46039f\"],[0.2222222222222222,\"#7201a8\"],[0.3333333333333333,\"#9c179e\"],[0.4444444444444444,\"#bd3786\"],[0.5555555555555556,\"#d8576b\"],[0.6666666666666666,\"#ed7953\"],[0.7777777777777778,\"#fb9f3a\"],[0.8888888888888888,\"#fdca26\"],[1.0,\"#f0f921\"]],\"type\":\"heatmap\"}],\"histogram2dcontour\":[{\"colorbar\":{\"outlinewidth\":0,\"ticks\":\"\"},\"colorscale\":[[0.0,\"#0d0887\"],[0.1111111111111111,\"#46039f\"],[0.2222222222222222,\"#7201a8\"],[0.3333333333333333,\"#9c179e\"],[0.4444444444444444,\"#bd3786\"],[0.5555555555555556,\"#d8576b\"],[0.6666666666666666,\"#ed7953\"],[0.7777777777777778,\"#fb9f3a\"],[0.8888888888888888,\"#fdca26\"],[1.0,\"#f0f921\"]],\"type\":\"histogram2dcontour\"}],\"histogram2d\":[{\"colorbar\":{\"outlinewidth\":0,\"ticks\":\"\"},\"colorscale\":[[0.0,\"#0d0887\"],[0.1111111111111111,\"#46039f\"],[0.2222222222222222,\"#7201a8\"],[0.3333333333333333,\"#9c179e\"],[0.4444444444444444,\"#bd3786\"],[0.5555555555555556,\"#d8576b\"],[0.6666666666666666,\"#ed7953\"],[0.7777777777777778,\"#fb9f3a\"],[0.8888888888888888,\"#fdca26\"],[1.0,\"#f0f921\"]],\"type\":\"histogram2d\"}],\"histogram\":[{\"marker\":{\"pattern\":{\"fillmode\":\"overlay\",\"size\":10,\"solidity\":0.2}},\"type\":\"histogram\"}],\"mesh3d\":[{\"colorbar\":{\"outlinewidth\":0,\"ticks\":\"\"},\"type\":\"mesh3d\"}],\"parcoords\":[{\"line\":{\"colorbar\":{\"outlinewidth\":0,\"ticks\":\"\"}},\"type\":\"parcoords\"}],\"pie\":[{\"automargin\":true,\"type\":\"pie\"}],\"scatter3d\":[{\"line\":{\"colorbar\":{\"outlinewidth\":0,\"ticks\":\"\"}},\"marker\":{\"colorbar\":{\"outlinewidth\":0,\"ticks\":\"\"}},\"type\":\"scatter3d\"}],\"scattercarpet\":[{\"marker\":{\"colorbar\":{\"outlinewidth\":0,\"ticks\":\"\"}},\"type\":\"scattercarpet\"}],\"scattergeo\":[{\"marker\":{\"colorbar\":{\"outlinewidth\":0,\"ticks\":\"\"}},\"type\":\"scattergeo\"}],\"scattergl\":[{\"marker\":{\"colorbar\":{\"outlinewidth\":0,\"ticks\":\"\"}},\"type\":\"scattergl\"}],\"scattermapbox\":[{\"marker\":{\"colorbar\":{\"outlinewidth\":0,\"ticks\":\"\"}},\"type\":\"scattermapbox\"}],\"scatterpolargl\":[{\"marker\":{\"colorbar\":{\"outlinewidth\":0,\"ticks\":\"\"}},\"type\":\"scatterpolargl\"}],\"scatterpolar\":[{\"marker\":{\"colorbar\":{\"outlinewidth\":0,\"ticks\":\"\"}},\"type\":\"scatterpolar\"}],\"scatter\":[{\"fillpattern\":{\"fillmode\":\"overlay\",\"size\":10,\"solidity\":0.2},\"type\":\"scatter\"}],\"scatterternary\":[{\"marker\":{\"colorbar\":{\"outlinewidth\":0,\"ticks\":\"\"}},\"type\":\"scatterternary\"}],\"surface\":[{\"colorbar\":{\"outlinewidth\":0,\"ticks\":\"\"},\"colorscale\":[[0.0,\"#0d0887\"],[0.1111111111111111,\"#46039f\"],[0.2222222222222222,\"#7201a8\"],[0.3333333333333333,\"#9c179e\"],[0.4444444444444444,\"#bd3786\"],[0.5555555555555556,\"#d8576b\"],[0.6666666666666666,\"#ed7953\"],[0.7777777777777778,\"#fb9f3a\"],[0.8888888888888888,\"#fdca26\"],[1.0,\"#f0f921\"]],\"type\":\"surface\"}],\"table\":[{\"cells\":{\"fill\":{\"color\":\"#EBF0F8\"},\"line\":{\"color\":\"white\"}},\"header\":{\"fill\":{\"color\":\"#C8D4E3\"},\"line\":{\"color\":\"white\"}},\"type\":\"table\"}]},\"layout\":{\"annotationdefaults\":{\"arrowcolor\":\"#2a3f5f\",\"arrowhead\":0,\"arrowwidth\":1},\"autotypenumbers\":\"strict\",\"coloraxis\":{\"colorbar\":{\"outlinewidth\":0,\"ticks\":\"\"}},\"colorscale\":{\"diverging\":[[0,\"#8e0152\"],[0.1,\"#c51b7d\"],[0.2,\"#de77ae\"],[0.3,\"#f1b6da\"],[0.4,\"#fde0ef\"],[0.5,\"#f7f7f7\"],[0.6,\"#e6f5d0\"],[0.7,\"#b8e186\"],[0.8,\"#7fbc41\"],[0.9,\"#4d9221\"],[1,\"#276419\"]],\"sequential\":[[0.0,\"#0d0887\"],[0.1111111111111111,\"#46039f\"],[0.2222222222222222,\"#7201a8\"],[0.3333333333333333,\"#9c179e\"],[0.4444444444444444,\"#bd3786\"],[0.5555555555555556,\"#d8576b\"],[0.6666666666666666,\"#ed7953\"],[0.7777777777777778,\"#fb9f3a\"],[0.8888888888888888,\"#fdca26\"],[1.0,\"#f0f921\"]],\"sequentialminus\":[[0.0,\"#0d0887\"],[0.1111111111111111,\"#46039f\"],[0.2222222222222222,\"#7201a8\"],[0.3333333333333333,\"#9c179e\"],[0.4444444444444444,\"#bd3786\"],[0.5555555555555556,\"#d8576b\"],[0.6666666666666666,\"#ed7953\"],[0.7777777777777778,\"#fb9f3a\"],[0.8888888888888888,\"#fdca26\"],[1.0,\"#f0f921\"]]},\"colorway\":[\"#636efa\",\"#EF553B\",\"#00cc96\",\"#ab63fa\",\"#FFA15A\",\"#19d3f3\",\"#FF6692\",\"#B6E880\",\"#FF97FF\",\"#FECB52\"],\"font\":{\"color\":\"#2a3f5f\"},\"geo\":{\"bgcolor\":\"white\",\"lakecolor\":\"white\",\"landcolor\":\"#E5ECF6\",\"showlakes\":true,\"showland\":true,\"subunitcolor\":\"white\"},\"hoverlabel\":{\"align\":\"left\"},\"hovermode\":\"closest\",\"mapbox\":{\"style\":\"light\"},\"paper_bgcolor\":\"white\",\"plot_bgcolor\":\"#E5ECF6\",\"polar\":{\"angularaxis\":{\"gridcolor\":\"white\",\"linecolor\":\"white\",\"ticks\":\"\"},\"bgcolor\":\"#E5ECF6\",\"radialaxis\":{\"gridcolor\":\"white\",\"linecolor\":\"white\",\"ticks\":\"\"}},\"scene\":{\"xaxis\":{\"backgroundcolor\":\"#E5ECF6\",\"gridcolor\":\"white\",\"gridwidth\":2,\"linecolor\":\"white\",\"showbackground\":true,\"ticks\":\"\",\"zerolinecolor\":\"white\"},\"yaxis\":{\"backgroundcolor\":\"#E5ECF6\",\"gridcolor\":\"white\",\"gridwidth\":2,\"linecolor\":\"white\",\"showbackground\":true,\"ticks\":\"\",\"zerolinecolor\":\"white\"},\"zaxis\":{\"backgroundcolor\":\"#E5ECF6\",\"gridcolor\":\"white\",\"gridwidth\":2,\"linecolor\":\"white\",\"showbackground\":true,\"ticks\":\"\",\"zerolinecolor\":\"white\"}},\"shapedefaults\":{\"line\":{\"color\":\"#2a3f5f\"}},\"ternary\":{\"aaxis\":{\"gridcolor\":\"white\",\"linecolor\":\"white\",\"ticks\":\"\"},\"baxis\":{\"gridcolor\":\"white\",\"linecolor\":\"white\",\"ticks\":\"\"},\"bgcolor\":\"#E5ECF6\",\"caxis\":{\"gridcolor\":\"white\",\"linecolor\":\"white\",\"ticks\":\"\"}},\"title\":{\"x\":0.05},\"xaxis\":{\"automargin\":true,\"gridcolor\":\"white\",\"linecolor\":\"white\",\"ticks\":\"\",\"title\":{\"standoff\":15},\"zerolinecolor\":\"white\",\"zerolinewidth\":2},\"yaxis\":{\"automargin\":true,\"gridcolor\":\"white\",\"linecolor\":\"white\",\"ticks\":\"\",\"title\":{\"standoff\":15},\"zerolinecolor\":\"white\",\"zerolinewidth\":2}}},\"title\":{\"font\":{\"color\":\"#4D5663\"},\"text\":\"Daily ex-post delta for LVWR\\u002fWS and LVWR\"},\"xaxis\":{\"gridcolor\":\"#E1E5ED\",\"showgrid\":true,\"tickfont\":{\"color\":\"#4D5663\"},\"title\":{\"font\":{\"color\":\"#4D5663\"},\"text\":\"Price Date\"},\"zerolinecolor\":\"#E1E5ED\"},\"yaxis\":{\"gridcolor\":\"#E1E5ED\",\"showgrid\":true,\"tickfont\":{\"color\":\"#4D5663\"},\"title\":{\"font\":{\"color\":\"#4D5663\"},\"text\":\"Ratio of price changes\"},\"zerolinecolor\":\"#E1E5ED\"}},                        {\"showLink\": true, \"linkText\": \"Export to plot.ly\", \"plotlyServerURL\": \"https://plot.ly\", \"responsive\": true}                    ).then(function(){\n",
       "                            \n",
       "var gd = document.getElementById('41572b69-cf07-4ec4-bb5e-fab2cf6a5797');\n",
       "var x = new MutationObserver(function (mutations, observer) {{\n",
       "        var display = window.getComputedStyle(gd).display;\n",
       "        if (!display || display === 'none') {{\n",
       "            console.log([gd, 'removed!']);\n",
       "            Plotly.purge(gd);\n",
       "            observer.disconnect();\n",
       "        }}\n",
       "}});\n",
       "\n",
       "// Listen for the removal of the full notebook cells\n",
       "var notebookContainer = gd.closest('#notebook-container');\n",
       "if (notebookContainer) {{\n",
       "    x.observe(notebookContainer, {childList: true});\n",
       "}}\n",
       "\n",
       "// Listen for the clearing of the current output cell\n",
       "var outputEl = gd.closest('.output');\n",
       "if (outputEl) {{\n",
       "    x.observe(outputEl, {childList: true});\n",
       "}}\n",
       "\n",
       "                        })                };                });            </script>        </div>"
      ]
     },
     "metadata": {},
     "output_type": "display_data"
    }
   ],
   "source": [
    "df_under = load_stock_historical_prices('LVWR')\n",
    "df_deriv = load_warrant_historical_prices('LVWR/WS')\n",
    "\n",
    "ratio, w, u = calculate_ex_post_delta(df_deriv, df_under)\n",
    "\n",
    "print(f\"average ex-post delta: {ratio.mean():0.2f}\")\n",
    "ratio.iplot(kind='bar', title='Daily ex-post delta for LVWR/WS and LVWR', xTitle='Price Date', yTitle='Ratio of price changes')"
   ]
  },
  {
   "cell_type": "markdown",
   "id": "33b68909",
   "metadata": {},
   "source": [
    "#### 3) How do these measures compare?"
   ]
  },
  {
   "cell_type": "code",
   "execution_count": 4,
   "id": "afe8de0b",
   "metadata": {},
   "outputs": [
    {
     "name": "stdout",
     "output_type": "stream",
     "text": [
      "realized delta is 13.80% of most recent theoretical delta\n"
     ]
    }
   ],
   "source": [
    "print(f\"realized delta is {ratio.mean()/ex_ante_delta:0.2%} of most recent theoretical delta\")"
   ]
  },
  {
   "cell_type": "markdown",
   "id": "d20dd9af",
   "metadata": {},
   "source": [
    "#### 4) What factors do you believe are affecting security pricing?"
   ]
  },
  {
   "cell_type": "code",
   "execution_count": 5,
   "id": "f12dae27",
   "metadata": {},
   "outputs": [
    {
     "name": "stdout",
     "output_type": "stream",
     "text": [
      "Warrant volume is likely very low relative to underlying shares.\n",
      "There were 14 days when the underlying shares traded and the warrants did not.\n",
      "We're comparing a recent Black-Scholes delta rather than re-computing each day of the period we are analyzing\n"
     ]
    }
   ],
   "source": [
    "n_obs_wrt = load_warrant_historical_prices('LVWR/WS').shape[0]\n",
    "n_obs_und = load_stock_historical_prices('LVWR').shape[0]\n",
    "\n",
    "print(f\"Warrant volume is likely very low relative to underlying shares.\")\n",
    "print(f\"There were {n_obs_und - n_obs_wrt} days when the underlying shares traded and the warrants did not.\")\n",
    "print(f\"We're comparing a recent Black-Scholes delta rather than re-computing each day of the period we are analyzing\")"
   ]
  },
  {
   "cell_type": "markdown",
   "id": "e5326484",
   "metadata": {},
   "source": [
    "#### 5) Quantify the theoretical delta 1% risk of this portfolio using real world inputs. Please detail any assumptions that you make"
   ]
  },
  {
   "cell_type": "code",
   "execution_count": 6,
   "id": "c6169b4a",
   "metadata": {},
   "outputs": [
    {
     "data": {
      "text/html": [
       "<div>\n",
       "<style scoped>\n",
       "    .dataframe tbody tr th:only-of-type {\n",
       "        vertical-align: middle;\n",
       "    }\n",
       "\n",
       "    .dataframe tbody tr th {\n",
       "        vertical-align: top;\n",
       "    }\n",
       "\n",
       "    .dataframe thead th {\n",
       "        text-align: right;\n",
       "    }\n",
       "</style>\n",
       "<table border=\"1\" class=\"dataframe\">\n",
       "  <thead>\n",
       "    <tr style=\"text-align: right;\">\n",
       "      <th></th>\n",
       "      <th>expiry</th>\n",
       "      <th>strike</th>\n",
       "      <th>ex_ante_delta</th>\n",
       "      <th>ex_post_delta</th>\n",
       "      <th>exposure</th>\n",
       "    </tr>\n",
       "  </thead>\n",
       "  <tbody>\n",
       "    <tr>\n",
       "      <th>LVWR/WS</th>\n",
       "      <td>2027-09-27</td>\n",
       "      <td>11.50</td>\n",
       "      <td>0.62</td>\n",
       "      <td>0.09</td>\n",
       "      <td>7,135,867.43</td>\n",
       "    </tr>\n",
       "    <tr>\n",
       "      <th>TLSIW</th>\n",
       "      <td>2028-08-10</td>\n",
       "      <td>11.50</td>\n",
       "      <td>0.70</td>\n",
       "      <td>0.09</td>\n",
       "      <td>7,732,268.69</td>\n",
       "    </tr>\n",
       "    <tr>\n",
       "      <th>AFRIW</th>\n",
       "      <td>2027-06-09</td>\n",
       "      <td>11.50</td>\n",
       "      <td>0.64</td>\n",
       "      <td>-0.48</td>\n",
       "      <td>6,890,762.29</td>\n",
       "    </tr>\n",
       "    <tr>\n",
       "      <th>CLBTW</th>\n",
       "      <td>2026-08-30</td>\n",
       "      <td>11.50</td>\n",
       "      <td>0.66</td>\n",
       "      <td>0.02</td>\n",
       "      <td>6,125,436.17</td>\n",
       "    </tr>\n",
       "    <tr>\n",
       "      <th>GRND/WS</th>\n",
       "      <td>2027-11-18</td>\n",
       "      <td>11.50</td>\n",
       "      <td>0.66</td>\n",
       "      <td>0.17</td>\n",
       "      <td>7,243,886.49</td>\n",
       "    </tr>\n",
       "  </tbody>\n",
       "</table>\n",
       "</div>"
      ],
      "text/plain": [
       "             expiry  strike  ex_ante_delta  ex_post_delta     exposure\n",
       "LVWR/WS  2027-09-27   11.50           0.62           0.09 7,135,867.43\n",
       "TLSIW    2028-08-10   11.50           0.70           0.09 7,732,268.69\n",
       "AFRIW    2027-06-09   11.50           0.64          -0.48 6,890,762.29\n",
       "CLBTW    2026-08-30   11.50           0.66           0.02 6,125,436.17\n",
       "GRND/WS  2027-11-18   11.50           0.66           0.17 7,243,886.49"
      ]
     },
     "metadata": {},
     "output_type": "display_data"
    },
    {
     "name": "stdout",
     "output_type": "stream",
     "text": [
      "Portfolio delta 1%: 351,282\n"
     ]
    }
   ],
   "source": [
    "pd.options.display.float_format = \"{:0,.2f}\".format\n",
    "\n",
    "positions = {\n",
    "    'LVWR/WS': ['LVWR', 'LVWR/WS', 1e6],\n",
    "    'TLSIW': ['TLSI', 'TLSIW', 1e6],\n",
    "    'AFRIW': ['AFRI', 'AFRIW', 1e6],\n",
    "    'CLBTW': ['CLBT', 'CLBTW', 1e6],\n",
    "    'GRND/WS': ['GRND', 'GRND/WS', 1e6],\n",
    "}\n",
    "\n",
    "results = {}\n",
    "\n",
    "for name, pos in positions.items():\n",
    "    \n",
    "    \n",
    "    u_tkr = pos[0]\n",
    "    w_tkr = pos[1]\n",
    "    w_qty = pos[2]\n",
    "    \n",
    "    df_wrt = load_warrant_static_data(w_tkr)\n",
    "    expiry = pd.to_datetime(df_wrt['Expiry'], format='%m/%d/%Y', errors='coerce').iloc[0].date()\n",
    "    strike = pd.to_numeric(df_wrt['Strike'], errors='coerce').iloc[0]\n",
    "    years_to_expiry = (expiry - u_date).days / 365\n",
    "    \n",
    "    df_under = load_stock_historical_prices(u_tkr)\n",
    "    df_deriv = load_warrant_historical_prices(w_tkr)\n",
    "    \n",
    "    ratio, deriv, under = calculate_ex_post_delta(df_deriv, df_under)\n",
    "    \n",
    "    results[name] = [\n",
    "        \n",
    "        expiry,\n",
    "        strike,\n",
    "        calculate_theoretical_delta(u_tkr, w_tkr),\n",
    "        ratio.mean(),\n",
    "        calculate_delta_notional(date(2024,4,30), w_tkr, w_qty)\n",
    "    ]\n",
    "    \n",
    "    \n",
    "\n",
    "port = pd.DataFrame.from_dict(results, orient='index', columns=['expiry', 'strike', 'ex_ante_delta', 'ex_post_delta', 'exposure'])\n",
    "\n",
    "display(port)\n",
    "\n",
    "print(f\"Portfolio delta 1%: {port[['exposure']].sum().iloc[0] * 0.01:0,.0f}\")"
   ]
  },
  {
   "cell_type": "markdown",
   "id": "cf00d38a",
   "metadata": {},
   "source": [
    "#### 6) Would the answer change if you were asked for the delta 10% or delta 20%? If so, why?"
   ]
  },
  {
   "cell_type": "code",
   "execution_count": 7,
   "id": "654cda4e",
   "metadata": {},
   "outputs": [
    {
     "name": "stdout",
     "output_type": "stream",
     "text": [
      "The exposure of the warrants portfolio is positively convex with respect to increases in the underlying shares.\n",
      "As the underlying move is increased the difference between estimated and true delta will increase.\n"
     ]
    }
   ],
   "source": [
    "print(f\"The exposure of the warrants portfolio is positively convex with respect to increases in the underlying shares.\")\n",
    "print(f\"As the underlying move is increased the difference between estimated and true delta will increase.\")"
   ]
  },
  {
   "cell_type": "markdown",
   "id": "fc91d4fc",
   "metadata": {},
   "source": [
    "#### 7) What has the observable (realized) $ delta of this portfolio been YTD?"
   ]
  },
  {
   "cell_type": "code",
   "execution_count": 8,
   "id": "12883072",
   "metadata": {},
   "outputs": [
    {
     "data": {
      "text/html": [
       "<div>\n",
       "<style scoped>\n",
       "    .dataframe tbody tr th:only-of-type {\n",
       "        vertical-align: middle;\n",
       "    }\n",
       "\n",
       "    .dataframe tbody tr th {\n",
       "        vertical-align: top;\n",
       "    }\n",
       "\n",
       "    .dataframe thead th {\n",
       "        text-align: right;\n",
       "    }\n",
       "</style>\n",
       "<table border=\"1\" class=\"dataframe\">\n",
       "  <thead>\n",
       "    <tr style=\"text-align: right;\">\n",
       "      <th></th>\n",
       "      <th>expiry</th>\n",
       "      <th>strike</th>\n",
       "      <th>ex_post_delta</th>\n",
       "      <th>ex_post_delta</th>\n",
       "    </tr>\n",
       "  </thead>\n",
       "  <tbody>\n",
       "    <tr>\n",
       "      <th>LVWR/WS</th>\n",
       "      <td>2027-09-27</td>\n",
       "      <td>11.50</td>\n",
       "      <td>0.62</td>\n",
       "      <td>0.09</td>\n",
       "    </tr>\n",
       "    <tr>\n",
       "      <th>TLSIW</th>\n",
       "      <td>2028-08-10</td>\n",
       "      <td>11.50</td>\n",
       "      <td>0.67</td>\n",
       "      <td>0.08</td>\n",
       "    </tr>\n",
       "    <tr>\n",
       "      <th>AFRIW</th>\n",
       "      <td>2027-06-09</td>\n",
       "      <td>11.50</td>\n",
       "      <td>0.60</td>\n",
       "      <td>-0.48</td>\n",
       "    </tr>\n",
       "    <tr>\n",
       "      <th>CLBTW</th>\n",
       "      <td>2026-08-30</td>\n",
       "      <td>11.50</td>\n",
       "      <td>0.53</td>\n",
       "      <td>0.02</td>\n",
       "    </tr>\n",
       "    <tr>\n",
       "      <th>GRND/WS</th>\n",
       "      <td>2027-11-18</td>\n",
       "      <td>11.50</td>\n",
       "      <td>0.63</td>\n",
       "      <td>0.17</td>\n",
       "    </tr>\n",
       "  </tbody>\n",
       "</table>\n",
       "</div>"
      ],
      "text/plain": [
       "             expiry  strike  ex_post_delta  ex_post_delta\n",
       "LVWR/WS  2027-09-27   11.50           0.62           0.09\n",
       "TLSIW    2028-08-10   11.50           0.67           0.08\n",
       "AFRIW    2027-06-09   11.50           0.60          -0.48\n",
       "CLBTW    2026-08-30   11.50           0.53           0.02\n",
       "GRND/WS  2027-11-18   11.50           0.63           0.17"
      ]
     },
     "metadata": {},
     "output_type": "display_data"
    },
    {
     "name": "stdout",
     "output_type": "stream",
     "text": [
      "portfolio ex-post delta: 0.04\n"
     ]
    },
    {
     "data": {
      "application/vnd.plotly.v1+json": {
       "config": {
        "linkText": "Export to plot.ly",
        "plotlyServerURL": "https://plot.ly",
        "showLink": true
       },
       "data": [
        {
         "marker": {
          "color": "rgba(255, 153, 51, 0.6)",
          "line": {
           "color": "rgba(255, 153, 51, 1.0)",
           "width": 1
          }
         },
         "name": "change_ratio",
         "orientation": "v",
         "text": "",
         "type": "bar",
         "x": [
          "2024-01-04",
          "2024-01-05",
          "2024-01-08",
          "2024-01-09",
          "2024-01-10",
          "2024-01-11",
          "2024-01-12",
          "2024-01-16",
          "2024-01-17",
          "2024-01-18",
          "2024-01-19",
          "2024-01-22",
          "2024-01-23",
          "2024-01-24",
          "2024-01-25",
          "2024-01-26",
          "2024-01-29",
          "2024-01-30",
          "2024-01-31",
          "2024-02-01",
          "2024-02-02",
          "2024-02-05",
          "2024-02-06",
          "2024-02-07",
          "2024-02-08",
          "2024-02-09",
          "2024-02-12",
          "2024-02-13",
          "2024-02-14",
          "2024-02-15",
          "2024-02-16",
          "2024-02-20",
          "2024-02-21",
          "2024-02-22",
          "2024-02-23",
          "2024-02-26",
          "2024-02-27",
          "2024-02-28",
          "2024-02-29",
          "2024-03-01",
          "2024-03-04",
          "2024-03-05",
          "2024-03-06",
          "2024-03-07",
          "2024-03-08",
          "2024-03-11",
          "2024-03-12",
          "2024-03-13",
          "2024-03-14",
          "2024-03-15",
          "2024-03-18",
          "2024-03-19",
          "2024-03-20",
          "2024-03-21",
          "2024-03-22",
          "2024-03-25",
          "2024-03-26",
          "2024-03-27",
          "2024-03-28",
          "2024-04-01",
          "2024-04-02",
          "2024-04-03",
          "2024-04-04",
          "2024-04-05",
          "2024-04-08",
          "2024-04-09",
          "2024-04-10",
          "2024-04-11",
          "2024-04-12",
          "2024-04-15",
          "2024-04-16",
          "2024-04-17",
          "2024-04-18",
          "2024-04-19",
          "2024-04-22",
          "2024-04-23",
          "2024-04-24",
          "2024-04-25",
          "2024-04-26",
          "2024-04-29",
          "2024-04-30"
         ],
         "y": [
          0.09214335350718474,
          -0.5964723443616233,
          0.04673400169650911,
          0.45369621274179,
          1.5234235240182816,
          -0.2510266095208861,
          -0.22653466969552474,
          0.013040159435344256,
          1.6519119979187402,
          0.06138249075471872,
          -0.29784170582439257,
          0.011026667613323871,
          0.4550097527884088,
          0.07108510235107425,
          0.04470497670265282,
          0.09806325655574955,
          0.593489567521515,
          -0.11116494774562051,
          0.20108989745703038,
          -0.24467614378716954,
          1.157600083204064,
          0.13205597486617346,
          -0.2465891851472782,
          0.8381868061754105,
          0.4031932075342162,
          -4.992789371937038,
          0.36180903168831713,
          0.15628107019896306,
          0.07567059572856986,
          0.308543704200124,
          -0.2870420042901506,
          -0.11829984528381175,
          0.17481863292149052,
          0.09846491817510991,
          0.4065157242858134,
          -0.0017680028642130018,
          0.4914097336278234,
          0.07967125588478537,
          0.3162119258418296,
          -0.01110167405078548,
          -0.048555047754054254,
          -0.0032964268881731846,
          -0.8306303438535413,
          -0.6965333021812998,
          -0.004081640266121671,
          -0.033316059027494245,
          1.767581836163042,
          0.3927869390053271,
          0.011205190275191462,
          0.5016216849344933,
          -18.99333234567054,
          0.38421611947750856,
          -0.12405157911033879,
          -0.43934391185273103,
          -1.1758752802012336,
          0.11745865820426868,
          -1.2435459299864209,
          -0.1893327847808222,
          -0.34858361571555607,
          5.825953270207011,
          0.20736915706851572,
          0.08350978585392319,
          -0.48740260106456124,
          0.017767068449514298,
          -0.037182764192366276,
          0.053807561121799206,
          0.18961525240899021,
          -0.003120498746070678,
          0.010088884464626609,
          1.0115055160142161,
          0.2918945335699283,
          0.40788166749741456,
          3.1170882488308482,
          0.3733798567442123,
          -0.021540817749056414,
          -0.39200017728600095,
          0.01255348808049748,
          -0.21702007793165506,
          0.9913167052939807,
          10.250681335762971,
          -0.09614168215269187
         ]
        }
       ],
       "layout": {
        "legend": {
         "bgcolor": "#F5F6F9",
         "font": {
          "color": "#4D5663"
         }
        },
        "paper_bgcolor": "#F5F6F9",
        "plot_bgcolor": "#F5F6F9",
        "template": {
         "data": {
          "bar": [
           {
            "error_x": {
             "color": "#2a3f5f"
            },
            "error_y": {
             "color": "#2a3f5f"
            },
            "marker": {
             "line": {
              "color": "#E5ECF6",
              "width": 0.5
             },
             "pattern": {
              "fillmode": "overlay",
              "size": 10,
              "solidity": 0.2
             }
            },
            "type": "bar"
           }
          ],
          "barpolar": [
           {
            "marker": {
             "line": {
              "color": "#E5ECF6",
              "width": 0.5
             },
             "pattern": {
              "fillmode": "overlay",
              "size": 10,
              "solidity": 0.2
             }
            },
            "type": "barpolar"
           }
          ],
          "carpet": [
           {
            "aaxis": {
             "endlinecolor": "#2a3f5f",
             "gridcolor": "white",
             "linecolor": "white",
             "minorgridcolor": "white",
             "startlinecolor": "#2a3f5f"
            },
            "baxis": {
             "endlinecolor": "#2a3f5f",
             "gridcolor": "white",
             "linecolor": "white",
             "minorgridcolor": "white",
             "startlinecolor": "#2a3f5f"
            },
            "type": "carpet"
           }
          ],
          "choropleth": [
           {
            "colorbar": {
             "outlinewidth": 0,
             "ticks": ""
            },
            "type": "choropleth"
           }
          ],
          "contour": [
           {
            "colorbar": {
             "outlinewidth": 0,
             "ticks": ""
            },
            "colorscale": [
             [
              0,
              "#0d0887"
             ],
             [
              0.1111111111111111,
              "#46039f"
             ],
             [
              0.2222222222222222,
              "#7201a8"
             ],
             [
              0.3333333333333333,
              "#9c179e"
             ],
             [
              0.4444444444444444,
              "#bd3786"
             ],
             [
              0.5555555555555556,
              "#d8576b"
             ],
             [
              0.6666666666666666,
              "#ed7953"
             ],
             [
              0.7777777777777778,
              "#fb9f3a"
             ],
             [
              0.8888888888888888,
              "#fdca26"
             ],
             [
              1,
              "#f0f921"
             ]
            ],
            "type": "contour"
           }
          ],
          "contourcarpet": [
           {
            "colorbar": {
             "outlinewidth": 0,
             "ticks": ""
            },
            "type": "contourcarpet"
           }
          ],
          "heatmap": [
           {
            "colorbar": {
             "outlinewidth": 0,
             "ticks": ""
            },
            "colorscale": [
             [
              0,
              "#0d0887"
             ],
             [
              0.1111111111111111,
              "#46039f"
             ],
             [
              0.2222222222222222,
              "#7201a8"
             ],
             [
              0.3333333333333333,
              "#9c179e"
             ],
             [
              0.4444444444444444,
              "#bd3786"
             ],
             [
              0.5555555555555556,
              "#d8576b"
             ],
             [
              0.6666666666666666,
              "#ed7953"
             ],
             [
              0.7777777777777778,
              "#fb9f3a"
             ],
             [
              0.8888888888888888,
              "#fdca26"
             ],
             [
              1,
              "#f0f921"
             ]
            ],
            "type": "heatmap"
           }
          ],
          "heatmapgl": [
           {
            "colorbar": {
             "outlinewidth": 0,
             "ticks": ""
            },
            "colorscale": [
             [
              0,
              "#0d0887"
             ],
             [
              0.1111111111111111,
              "#46039f"
             ],
             [
              0.2222222222222222,
              "#7201a8"
             ],
             [
              0.3333333333333333,
              "#9c179e"
             ],
             [
              0.4444444444444444,
              "#bd3786"
             ],
             [
              0.5555555555555556,
              "#d8576b"
             ],
             [
              0.6666666666666666,
              "#ed7953"
             ],
             [
              0.7777777777777778,
              "#fb9f3a"
             ],
             [
              0.8888888888888888,
              "#fdca26"
             ],
             [
              1,
              "#f0f921"
             ]
            ],
            "type": "heatmapgl"
           }
          ],
          "histogram": [
           {
            "marker": {
             "pattern": {
              "fillmode": "overlay",
              "size": 10,
              "solidity": 0.2
             }
            },
            "type": "histogram"
           }
          ],
          "histogram2d": [
           {
            "colorbar": {
             "outlinewidth": 0,
             "ticks": ""
            },
            "colorscale": [
             [
              0,
              "#0d0887"
             ],
             [
              0.1111111111111111,
              "#46039f"
             ],
             [
              0.2222222222222222,
              "#7201a8"
             ],
             [
              0.3333333333333333,
              "#9c179e"
             ],
             [
              0.4444444444444444,
              "#bd3786"
             ],
             [
              0.5555555555555556,
              "#d8576b"
             ],
             [
              0.6666666666666666,
              "#ed7953"
             ],
             [
              0.7777777777777778,
              "#fb9f3a"
             ],
             [
              0.8888888888888888,
              "#fdca26"
             ],
             [
              1,
              "#f0f921"
             ]
            ],
            "type": "histogram2d"
           }
          ],
          "histogram2dcontour": [
           {
            "colorbar": {
             "outlinewidth": 0,
             "ticks": ""
            },
            "colorscale": [
             [
              0,
              "#0d0887"
             ],
             [
              0.1111111111111111,
              "#46039f"
             ],
             [
              0.2222222222222222,
              "#7201a8"
             ],
             [
              0.3333333333333333,
              "#9c179e"
             ],
             [
              0.4444444444444444,
              "#bd3786"
             ],
             [
              0.5555555555555556,
              "#d8576b"
             ],
             [
              0.6666666666666666,
              "#ed7953"
             ],
             [
              0.7777777777777778,
              "#fb9f3a"
             ],
             [
              0.8888888888888888,
              "#fdca26"
             ],
             [
              1,
              "#f0f921"
             ]
            ],
            "type": "histogram2dcontour"
           }
          ],
          "mesh3d": [
           {
            "colorbar": {
             "outlinewidth": 0,
             "ticks": ""
            },
            "type": "mesh3d"
           }
          ],
          "parcoords": [
           {
            "line": {
             "colorbar": {
              "outlinewidth": 0,
              "ticks": ""
             }
            },
            "type": "parcoords"
           }
          ],
          "pie": [
           {
            "automargin": true,
            "type": "pie"
           }
          ],
          "scatter": [
           {
            "fillpattern": {
             "fillmode": "overlay",
             "size": 10,
             "solidity": 0.2
            },
            "type": "scatter"
           }
          ],
          "scatter3d": [
           {
            "line": {
             "colorbar": {
              "outlinewidth": 0,
              "ticks": ""
             }
            },
            "marker": {
             "colorbar": {
              "outlinewidth": 0,
              "ticks": ""
             }
            },
            "type": "scatter3d"
           }
          ],
          "scattercarpet": [
           {
            "marker": {
             "colorbar": {
              "outlinewidth": 0,
              "ticks": ""
             }
            },
            "type": "scattercarpet"
           }
          ],
          "scattergeo": [
           {
            "marker": {
             "colorbar": {
              "outlinewidth": 0,
              "ticks": ""
             }
            },
            "type": "scattergeo"
           }
          ],
          "scattergl": [
           {
            "marker": {
             "colorbar": {
              "outlinewidth": 0,
              "ticks": ""
             }
            },
            "type": "scattergl"
           }
          ],
          "scattermapbox": [
           {
            "marker": {
             "colorbar": {
              "outlinewidth": 0,
              "ticks": ""
             }
            },
            "type": "scattermapbox"
           }
          ],
          "scatterpolar": [
           {
            "marker": {
             "colorbar": {
              "outlinewidth": 0,
              "ticks": ""
             }
            },
            "type": "scatterpolar"
           }
          ],
          "scatterpolargl": [
           {
            "marker": {
             "colorbar": {
              "outlinewidth": 0,
              "ticks": ""
             }
            },
            "type": "scatterpolargl"
           }
          ],
          "scatterternary": [
           {
            "marker": {
             "colorbar": {
              "outlinewidth": 0,
              "ticks": ""
             }
            },
            "type": "scatterternary"
           }
          ],
          "surface": [
           {
            "colorbar": {
             "outlinewidth": 0,
             "ticks": ""
            },
            "colorscale": [
             [
              0,
              "#0d0887"
             ],
             [
              0.1111111111111111,
              "#46039f"
             ],
             [
              0.2222222222222222,
              "#7201a8"
             ],
             [
              0.3333333333333333,
              "#9c179e"
             ],
             [
              0.4444444444444444,
              "#bd3786"
             ],
             [
              0.5555555555555556,
              "#d8576b"
             ],
             [
              0.6666666666666666,
              "#ed7953"
             ],
             [
              0.7777777777777778,
              "#fb9f3a"
             ],
             [
              0.8888888888888888,
              "#fdca26"
             ],
             [
              1,
              "#f0f921"
             ]
            ],
            "type": "surface"
           }
          ],
          "table": [
           {
            "cells": {
             "fill": {
              "color": "#EBF0F8"
             },
             "line": {
              "color": "white"
             }
            },
            "header": {
             "fill": {
              "color": "#C8D4E3"
             },
             "line": {
              "color": "white"
             }
            },
            "type": "table"
           }
          ]
         },
         "layout": {
          "annotationdefaults": {
           "arrowcolor": "#2a3f5f",
           "arrowhead": 0,
           "arrowwidth": 1
          },
          "autotypenumbers": "strict",
          "coloraxis": {
           "colorbar": {
            "outlinewidth": 0,
            "ticks": ""
           }
          },
          "colorscale": {
           "diverging": [
            [
             0,
             "#8e0152"
            ],
            [
             0.1,
             "#c51b7d"
            ],
            [
             0.2,
             "#de77ae"
            ],
            [
             0.3,
             "#f1b6da"
            ],
            [
             0.4,
             "#fde0ef"
            ],
            [
             0.5,
             "#f7f7f7"
            ],
            [
             0.6,
             "#e6f5d0"
            ],
            [
             0.7,
             "#b8e186"
            ],
            [
             0.8,
             "#7fbc41"
            ],
            [
             0.9,
             "#4d9221"
            ],
            [
             1,
             "#276419"
            ]
           ],
           "sequential": [
            [
             0,
             "#0d0887"
            ],
            [
             0.1111111111111111,
             "#46039f"
            ],
            [
             0.2222222222222222,
             "#7201a8"
            ],
            [
             0.3333333333333333,
             "#9c179e"
            ],
            [
             0.4444444444444444,
             "#bd3786"
            ],
            [
             0.5555555555555556,
             "#d8576b"
            ],
            [
             0.6666666666666666,
             "#ed7953"
            ],
            [
             0.7777777777777778,
             "#fb9f3a"
            ],
            [
             0.8888888888888888,
             "#fdca26"
            ],
            [
             1,
             "#f0f921"
            ]
           ],
           "sequentialminus": [
            [
             0,
             "#0d0887"
            ],
            [
             0.1111111111111111,
             "#46039f"
            ],
            [
             0.2222222222222222,
             "#7201a8"
            ],
            [
             0.3333333333333333,
             "#9c179e"
            ],
            [
             0.4444444444444444,
             "#bd3786"
            ],
            [
             0.5555555555555556,
             "#d8576b"
            ],
            [
             0.6666666666666666,
             "#ed7953"
            ],
            [
             0.7777777777777778,
             "#fb9f3a"
            ],
            [
             0.8888888888888888,
             "#fdca26"
            ],
            [
             1,
             "#f0f921"
            ]
           ]
          },
          "colorway": [
           "#636efa",
           "#EF553B",
           "#00cc96",
           "#ab63fa",
           "#FFA15A",
           "#19d3f3",
           "#FF6692",
           "#B6E880",
           "#FF97FF",
           "#FECB52"
          ],
          "font": {
           "color": "#2a3f5f"
          },
          "geo": {
           "bgcolor": "white",
           "lakecolor": "white",
           "landcolor": "#E5ECF6",
           "showlakes": true,
           "showland": true,
           "subunitcolor": "white"
          },
          "hoverlabel": {
           "align": "left"
          },
          "hovermode": "closest",
          "mapbox": {
           "style": "light"
          },
          "paper_bgcolor": "white",
          "plot_bgcolor": "#E5ECF6",
          "polar": {
           "angularaxis": {
            "gridcolor": "white",
            "linecolor": "white",
            "ticks": ""
           },
           "bgcolor": "#E5ECF6",
           "radialaxis": {
            "gridcolor": "white",
            "linecolor": "white",
            "ticks": ""
           }
          },
          "scene": {
           "xaxis": {
            "backgroundcolor": "#E5ECF6",
            "gridcolor": "white",
            "gridwidth": 2,
            "linecolor": "white",
            "showbackground": true,
            "ticks": "",
            "zerolinecolor": "white"
           },
           "yaxis": {
            "backgroundcolor": "#E5ECF6",
            "gridcolor": "white",
            "gridwidth": 2,
            "linecolor": "white",
            "showbackground": true,
            "ticks": "",
            "zerolinecolor": "white"
           },
           "zaxis": {
            "backgroundcolor": "#E5ECF6",
            "gridcolor": "white",
            "gridwidth": 2,
            "linecolor": "white",
            "showbackground": true,
            "ticks": "",
            "zerolinecolor": "white"
           }
          },
          "shapedefaults": {
           "line": {
            "color": "#2a3f5f"
           }
          },
          "ternary": {
           "aaxis": {
            "gridcolor": "white",
            "linecolor": "white",
            "ticks": ""
           },
           "baxis": {
            "gridcolor": "white",
            "linecolor": "white",
            "ticks": ""
           },
           "bgcolor": "#E5ECF6",
           "caxis": {
            "gridcolor": "white",
            "linecolor": "white",
            "ticks": ""
           }
          },
          "title": {
           "x": 0.05
          },
          "xaxis": {
           "automargin": true,
           "gridcolor": "white",
           "linecolor": "white",
           "ticks": "",
           "title": {
            "standoff": 15
           },
           "zerolinecolor": "white",
           "zerolinewidth": 2
          },
          "yaxis": {
           "automargin": true,
           "gridcolor": "white",
           "linecolor": "white",
           "ticks": "",
           "title": {
            "standoff": 15
           },
           "zerolinecolor": "white",
           "zerolinewidth": 2
          }
         }
        },
        "title": {
         "font": {
          "color": "#4D5663"
         },
         "text": "Portfolio daily ex-post delta"
        },
        "xaxis": {
         "gridcolor": "#E1E5ED",
         "showgrid": true,
         "tickfont": {
          "color": "#4D5663"
         },
         "title": {
          "font": {
           "color": "#4D5663"
          },
          "text": "Price Date"
         },
         "zerolinecolor": "#E1E5ED"
        },
        "yaxis": {
         "gridcolor": "#E1E5ED",
         "showgrid": true,
         "tickfont": {
          "color": "#4D5663"
         },
         "title": {
          "font": {
           "color": "#4D5663"
          },
          "text": "Ratio of price changes"
         },
         "zerolinecolor": "#E1E5ED"
        }
       }
      },
      "text/html": [
       "<div>                            <div id=\"a7df0a4a-303b-42a5-ae44-0e2f3d239bd9\" class=\"plotly-graph-div\" style=\"height:525px; width:100%;\"></div>            <script type=\"text/javascript\">                require([\"plotly\"], function(Plotly) {                    window.PLOTLYENV=window.PLOTLYENV || {};\n",
       "                    window.PLOTLYENV.BASE_URL='https://plot.ly';                                    if (document.getElementById(\"a7df0a4a-303b-42a5-ae44-0e2f3d239bd9\")) {                    Plotly.newPlot(                        \"a7df0a4a-303b-42a5-ae44-0e2f3d239bd9\",                        [{\"marker\":{\"color\":\"rgba(255, 153, 51, 0.6)\",\"line\":{\"color\":\"rgba(255, 153, 51, 1.0)\",\"width\":1}},\"name\":\"change_ratio\",\"orientation\":\"v\",\"text\":\"\",\"x\":[\"2024-01-04\",\"2024-01-05\",\"2024-01-08\",\"2024-01-09\",\"2024-01-10\",\"2024-01-11\",\"2024-01-12\",\"2024-01-16\",\"2024-01-17\",\"2024-01-18\",\"2024-01-19\",\"2024-01-22\",\"2024-01-23\",\"2024-01-24\",\"2024-01-25\",\"2024-01-26\",\"2024-01-29\",\"2024-01-30\",\"2024-01-31\",\"2024-02-01\",\"2024-02-02\",\"2024-02-05\",\"2024-02-06\",\"2024-02-07\",\"2024-02-08\",\"2024-02-09\",\"2024-02-12\",\"2024-02-13\",\"2024-02-14\",\"2024-02-15\",\"2024-02-16\",\"2024-02-20\",\"2024-02-21\",\"2024-02-22\",\"2024-02-23\",\"2024-02-26\",\"2024-02-27\",\"2024-02-28\",\"2024-02-29\",\"2024-03-01\",\"2024-03-04\",\"2024-03-05\",\"2024-03-06\",\"2024-03-07\",\"2024-03-08\",\"2024-03-11\",\"2024-03-12\",\"2024-03-13\",\"2024-03-14\",\"2024-03-15\",\"2024-03-18\",\"2024-03-19\",\"2024-03-20\",\"2024-03-21\",\"2024-03-22\",\"2024-03-25\",\"2024-03-26\",\"2024-03-27\",\"2024-03-28\",\"2024-04-01\",\"2024-04-02\",\"2024-04-03\",\"2024-04-04\",\"2024-04-05\",\"2024-04-08\",\"2024-04-09\",\"2024-04-10\",\"2024-04-11\",\"2024-04-12\",\"2024-04-15\",\"2024-04-16\",\"2024-04-17\",\"2024-04-18\",\"2024-04-19\",\"2024-04-22\",\"2024-04-23\",\"2024-04-24\",\"2024-04-25\",\"2024-04-26\",\"2024-04-29\",\"2024-04-30\"],\"y\":[0.09214335350718474,-0.5964723443616233,0.04673400169650911,0.45369621274179,1.5234235240182816,-0.2510266095208861,-0.22653466969552474,0.013040159435344256,1.6519119979187402,0.06138249075471872,-0.29784170582439257,0.011026667613323871,0.4550097527884088,0.07108510235107425,0.04470497670265282,0.09806325655574955,0.593489567521515,-0.11116494774562051,0.20108989745703038,-0.24467614378716954,1.157600083204064,0.13205597486617346,-0.2465891851472782,0.8381868061754105,0.4031932075342162,-4.992789371937038,0.36180903168831713,0.15628107019896306,0.07567059572856986,0.308543704200124,-0.2870420042901506,-0.11829984528381175,0.17481863292149052,0.09846491817510991,0.4065157242858134,-0.0017680028642130018,0.4914097336278234,0.07967125588478537,0.3162119258418296,-0.01110167405078548,-0.048555047754054254,-0.0032964268881731846,-0.8306303438535413,-0.6965333021812998,-0.004081640266121671,-0.033316059027494245,1.767581836163042,0.3927869390053271,0.011205190275191462,0.5016216849344933,-18.99333234567054,0.38421611947750856,-0.12405157911033879,-0.43934391185273103,-1.1758752802012336,0.11745865820426868,-1.2435459299864209,-0.1893327847808222,-0.34858361571555607,5.825953270207011,0.20736915706851572,0.08350978585392319,-0.48740260106456124,0.017767068449514298,-0.037182764192366276,0.053807561121799206,0.18961525240899021,-0.003120498746070678,0.010088884464626609,1.0115055160142161,0.2918945335699283,0.40788166749741456,3.1170882488308482,0.3733798567442123,-0.021540817749056414,-0.39200017728600095,0.01255348808049748,-0.21702007793165506,0.9913167052939807,10.250681335762971,-0.09614168215269187],\"type\":\"bar\"}],                        {\"legend\":{\"bgcolor\":\"#F5F6F9\",\"font\":{\"color\":\"#4D5663\"}},\"paper_bgcolor\":\"#F5F6F9\",\"plot_bgcolor\":\"#F5F6F9\",\"template\":{\"data\":{\"barpolar\":[{\"marker\":{\"line\":{\"color\":\"#E5ECF6\",\"width\":0.5},\"pattern\":{\"fillmode\":\"overlay\",\"size\":10,\"solidity\":0.2}},\"type\":\"barpolar\"}],\"bar\":[{\"error_x\":{\"color\":\"#2a3f5f\"},\"error_y\":{\"color\":\"#2a3f5f\"},\"marker\":{\"line\":{\"color\":\"#E5ECF6\",\"width\":0.5},\"pattern\":{\"fillmode\":\"overlay\",\"size\":10,\"solidity\":0.2}},\"type\":\"bar\"}],\"carpet\":[{\"aaxis\":{\"endlinecolor\":\"#2a3f5f\",\"gridcolor\":\"white\",\"linecolor\":\"white\",\"minorgridcolor\":\"white\",\"startlinecolor\":\"#2a3f5f\"},\"baxis\":{\"endlinecolor\":\"#2a3f5f\",\"gridcolor\":\"white\",\"linecolor\":\"white\",\"minorgridcolor\":\"white\",\"startlinecolor\":\"#2a3f5f\"},\"type\":\"carpet\"}],\"choropleth\":[{\"colorbar\":{\"outlinewidth\":0,\"ticks\":\"\"},\"type\":\"choropleth\"}],\"contourcarpet\":[{\"colorbar\":{\"outlinewidth\":0,\"ticks\":\"\"},\"type\":\"contourcarpet\"}],\"contour\":[{\"colorbar\":{\"outlinewidth\":0,\"ticks\":\"\"},\"colorscale\":[[0.0,\"#0d0887\"],[0.1111111111111111,\"#46039f\"],[0.2222222222222222,\"#7201a8\"],[0.3333333333333333,\"#9c179e\"],[0.4444444444444444,\"#bd3786\"],[0.5555555555555556,\"#d8576b\"],[0.6666666666666666,\"#ed7953\"],[0.7777777777777778,\"#fb9f3a\"],[0.8888888888888888,\"#fdca26\"],[1.0,\"#f0f921\"]],\"type\":\"contour\"}],\"heatmapgl\":[{\"colorbar\":{\"outlinewidth\":0,\"ticks\":\"\"},\"colorscale\":[[0.0,\"#0d0887\"],[0.1111111111111111,\"#46039f\"],[0.2222222222222222,\"#7201a8\"],[0.3333333333333333,\"#9c179e\"],[0.4444444444444444,\"#bd3786\"],[0.5555555555555556,\"#d8576b\"],[0.6666666666666666,\"#ed7953\"],[0.7777777777777778,\"#fb9f3a\"],[0.8888888888888888,\"#fdca26\"],[1.0,\"#f0f921\"]],\"type\":\"heatmapgl\"}],\"heatmap\":[{\"colorbar\":{\"outlinewidth\":0,\"ticks\":\"\"},\"colorscale\":[[0.0,\"#0d0887\"],[0.1111111111111111,\"#46039f\"],[0.2222222222222222,\"#7201a8\"],[0.3333333333333333,\"#9c179e\"],[0.4444444444444444,\"#bd3786\"],[0.5555555555555556,\"#d8576b\"],[0.6666666666666666,\"#ed7953\"],[0.7777777777777778,\"#fb9f3a\"],[0.8888888888888888,\"#fdca26\"],[1.0,\"#f0f921\"]],\"type\":\"heatmap\"}],\"histogram2dcontour\":[{\"colorbar\":{\"outlinewidth\":0,\"ticks\":\"\"},\"colorscale\":[[0.0,\"#0d0887\"],[0.1111111111111111,\"#46039f\"],[0.2222222222222222,\"#7201a8\"],[0.3333333333333333,\"#9c179e\"],[0.4444444444444444,\"#bd3786\"],[0.5555555555555556,\"#d8576b\"],[0.6666666666666666,\"#ed7953\"],[0.7777777777777778,\"#fb9f3a\"],[0.8888888888888888,\"#fdca26\"],[1.0,\"#f0f921\"]],\"type\":\"histogram2dcontour\"}],\"histogram2d\":[{\"colorbar\":{\"outlinewidth\":0,\"ticks\":\"\"},\"colorscale\":[[0.0,\"#0d0887\"],[0.1111111111111111,\"#46039f\"],[0.2222222222222222,\"#7201a8\"],[0.3333333333333333,\"#9c179e\"],[0.4444444444444444,\"#bd3786\"],[0.5555555555555556,\"#d8576b\"],[0.6666666666666666,\"#ed7953\"],[0.7777777777777778,\"#fb9f3a\"],[0.8888888888888888,\"#fdca26\"],[1.0,\"#f0f921\"]],\"type\":\"histogram2d\"}],\"histogram\":[{\"marker\":{\"pattern\":{\"fillmode\":\"overlay\",\"size\":10,\"solidity\":0.2}},\"type\":\"histogram\"}],\"mesh3d\":[{\"colorbar\":{\"outlinewidth\":0,\"ticks\":\"\"},\"type\":\"mesh3d\"}],\"parcoords\":[{\"line\":{\"colorbar\":{\"outlinewidth\":0,\"ticks\":\"\"}},\"type\":\"parcoords\"}],\"pie\":[{\"automargin\":true,\"type\":\"pie\"}],\"scatter3d\":[{\"line\":{\"colorbar\":{\"outlinewidth\":0,\"ticks\":\"\"}},\"marker\":{\"colorbar\":{\"outlinewidth\":0,\"ticks\":\"\"}},\"type\":\"scatter3d\"}],\"scattercarpet\":[{\"marker\":{\"colorbar\":{\"outlinewidth\":0,\"ticks\":\"\"}},\"type\":\"scattercarpet\"}],\"scattergeo\":[{\"marker\":{\"colorbar\":{\"outlinewidth\":0,\"ticks\":\"\"}},\"type\":\"scattergeo\"}],\"scattergl\":[{\"marker\":{\"colorbar\":{\"outlinewidth\":0,\"ticks\":\"\"}},\"type\":\"scattergl\"}],\"scattermapbox\":[{\"marker\":{\"colorbar\":{\"outlinewidth\":0,\"ticks\":\"\"}},\"type\":\"scattermapbox\"}],\"scatterpolargl\":[{\"marker\":{\"colorbar\":{\"outlinewidth\":0,\"ticks\":\"\"}},\"type\":\"scatterpolargl\"}],\"scatterpolar\":[{\"marker\":{\"colorbar\":{\"outlinewidth\":0,\"ticks\":\"\"}},\"type\":\"scatterpolar\"}],\"scatter\":[{\"fillpattern\":{\"fillmode\":\"overlay\",\"size\":10,\"solidity\":0.2},\"type\":\"scatter\"}],\"scatterternary\":[{\"marker\":{\"colorbar\":{\"outlinewidth\":0,\"ticks\":\"\"}},\"type\":\"scatterternary\"}],\"surface\":[{\"colorbar\":{\"outlinewidth\":0,\"ticks\":\"\"},\"colorscale\":[[0.0,\"#0d0887\"],[0.1111111111111111,\"#46039f\"],[0.2222222222222222,\"#7201a8\"],[0.3333333333333333,\"#9c179e\"],[0.4444444444444444,\"#bd3786\"],[0.5555555555555556,\"#d8576b\"],[0.6666666666666666,\"#ed7953\"],[0.7777777777777778,\"#fb9f3a\"],[0.8888888888888888,\"#fdca26\"],[1.0,\"#f0f921\"]],\"type\":\"surface\"}],\"table\":[{\"cells\":{\"fill\":{\"color\":\"#EBF0F8\"},\"line\":{\"color\":\"white\"}},\"header\":{\"fill\":{\"color\":\"#C8D4E3\"},\"line\":{\"color\":\"white\"}},\"type\":\"table\"}]},\"layout\":{\"annotationdefaults\":{\"arrowcolor\":\"#2a3f5f\",\"arrowhead\":0,\"arrowwidth\":1},\"autotypenumbers\":\"strict\",\"coloraxis\":{\"colorbar\":{\"outlinewidth\":0,\"ticks\":\"\"}},\"colorscale\":{\"diverging\":[[0,\"#8e0152\"],[0.1,\"#c51b7d\"],[0.2,\"#de77ae\"],[0.3,\"#f1b6da\"],[0.4,\"#fde0ef\"],[0.5,\"#f7f7f7\"],[0.6,\"#e6f5d0\"],[0.7,\"#b8e186\"],[0.8,\"#7fbc41\"],[0.9,\"#4d9221\"],[1,\"#276419\"]],\"sequential\":[[0.0,\"#0d0887\"],[0.1111111111111111,\"#46039f\"],[0.2222222222222222,\"#7201a8\"],[0.3333333333333333,\"#9c179e\"],[0.4444444444444444,\"#bd3786\"],[0.5555555555555556,\"#d8576b\"],[0.6666666666666666,\"#ed7953\"],[0.7777777777777778,\"#fb9f3a\"],[0.8888888888888888,\"#fdca26\"],[1.0,\"#f0f921\"]],\"sequentialminus\":[[0.0,\"#0d0887\"],[0.1111111111111111,\"#46039f\"],[0.2222222222222222,\"#7201a8\"],[0.3333333333333333,\"#9c179e\"],[0.4444444444444444,\"#bd3786\"],[0.5555555555555556,\"#d8576b\"],[0.6666666666666666,\"#ed7953\"],[0.7777777777777778,\"#fb9f3a\"],[0.8888888888888888,\"#fdca26\"],[1.0,\"#f0f921\"]]},\"colorway\":[\"#636efa\",\"#EF553B\",\"#00cc96\",\"#ab63fa\",\"#FFA15A\",\"#19d3f3\",\"#FF6692\",\"#B6E880\",\"#FF97FF\",\"#FECB52\"],\"font\":{\"color\":\"#2a3f5f\"},\"geo\":{\"bgcolor\":\"white\",\"lakecolor\":\"white\",\"landcolor\":\"#E5ECF6\",\"showlakes\":true,\"showland\":true,\"subunitcolor\":\"white\"},\"hoverlabel\":{\"align\":\"left\"},\"hovermode\":\"closest\",\"mapbox\":{\"style\":\"light\"},\"paper_bgcolor\":\"white\",\"plot_bgcolor\":\"#E5ECF6\",\"polar\":{\"angularaxis\":{\"gridcolor\":\"white\",\"linecolor\":\"white\",\"ticks\":\"\"},\"bgcolor\":\"#E5ECF6\",\"radialaxis\":{\"gridcolor\":\"white\",\"linecolor\":\"white\",\"ticks\":\"\"}},\"scene\":{\"xaxis\":{\"backgroundcolor\":\"#E5ECF6\",\"gridcolor\":\"white\",\"gridwidth\":2,\"linecolor\":\"white\",\"showbackground\":true,\"ticks\":\"\",\"zerolinecolor\":\"white\"},\"yaxis\":{\"backgroundcolor\":\"#E5ECF6\",\"gridcolor\":\"white\",\"gridwidth\":2,\"linecolor\":\"white\",\"showbackground\":true,\"ticks\":\"\",\"zerolinecolor\":\"white\"},\"zaxis\":{\"backgroundcolor\":\"#E5ECF6\",\"gridcolor\":\"white\",\"gridwidth\":2,\"linecolor\":\"white\",\"showbackground\":true,\"ticks\":\"\",\"zerolinecolor\":\"white\"}},\"shapedefaults\":{\"line\":{\"color\":\"#2a3f5f\"}},\"ternary\":{\"aaxis\":{\"gridcolor\":\"white\",\"linecolor\":\"white\",\"ticks\":\"\"},\"baxis\":{\"gridcolor\":\"white\",\"linecolor\":\"white\",\"ticks\":\"\"},\"bgcolor\":\"#E5ECF6\",\"caxis\":{\"gridcolor\":\"white\",\"linecolor\":\"white\",\"ticks\":\"\"}},\"title\":{\"x\":0.05},\"xaxis\":{\"automargin\":true,\"gridcolor\":\"white\",\"linecolor\":\"white\",\"ticks\":\"\",\"title\":{\"standoff\":15},\"zerolinecolor\":\"white\",\"zerolinewidth\":2},\"yaxis\":{\"automargin\":true,\"gridcolor\":\"white\",\"linecolor\":\"white\",\"ticks\":\"\",\"title\":{\"standoff\":15},\"zerolinecolor\":\"white\",\"zerolinewidth\":2}}},\"title\":{\"font\":{\"color\":\"#4D5663\"},\"text\":\"Portfolio daily ex-post delta\"},\"xaxis\":{\"gridcolor\":\"#E1E5ED\",\"showgrid\":true,\"tickfont\":{\"color\":\"#4D5663\"},\"title\":{\"font\":{\"color\":\"#4D5663\"},\"text\":\"Price Date\"},\"zerolinecolor\":\"#E1E5ED\"},\"yaxis\":{\"gridcolor\":\"#E1E5ED\",\"showgrid\":true,\"tickfont\":{\"color\":\"#4D5663\"},\"title\":{\"font\":{\"color\":\"#4D5663\"},\"text\":\"Ratio of price changes\"},\"zerolinecolor\":\"#E1E5ED\"}},                        {\"showLink\": true, \"linkText\": \"Export to plot.ly\", \"plotlyServerURL\": \"https://plot.ly\", \"responsive\": true}                    ).then(function(){\n",
       "                            \n",
       "var gd = document.getElementById('a7df0a4a-303b-42a5-ae44-0e2f3d239bd9');\n",
       "var x = new MutationObserver(function (mutations, observer) {{\n",
       "        var display = window.getComputedStyle(gd).display;\n",
       "        if (!display || display === 'none') {{\n",
       "            console.log([gd, 'removed!']);\n",
       "            Plotly.purge(gd);\n",
       "            observer.disconnect();\n",
       "        }}\n",
       "}});\n",
       "\n",
       "// Listen for the removal of the full notebook cells\n",
       "var notebookContainer = gd.closest('#notebook-container');\n",
       "if (notebookContainer) {{\n",
       "    x.observe(notebookContainer, {childList: true});\n",
       "}}\n",
       "\n",
       "// Listen for the clearing of the current output cell\n",
       "var outputEl = gd.closest('.output');\n",
       "if (outputEl) {{\n",
       "    x.observe(outputEl, {childList: true});\n",
       "}}\n",
       "\n",
       "                        })                };                });            </script>        </div>"
      ]
     },
     "metadata": {},
     "output_type": "display_data"
    }
   ],
   "source": [
    "pd.options.display.float_format = \"{:0,.2f}\".format\n",
    "\n",
    "positions = {\n",
    "    'LVWR/WS': ['LVWR', 'LVWR/WS', 1e6],\n",
    "    'TLSIW': ['TLSI', 'TLSIW', 1e6],\n",
    "    'AFRIW': ['AFRI', 'AFRIW', 1e6],\n",
    "    'CLBTW': ['CLBT', 'CLBTW', 1e6],\n",
    "    'GRND/WS': ['GRND', 'GRND/WS', 1e6],\n",
    "}\n",
    "\n",
    "results = {}\n",
    "\n",
    "port_stocks = port_warrants = pd.DataFrame()\n",
    "\n",
    "for name, pos in positions.items():\n",
    "        \n",
    "    u_tkr = pos[0]\n",
    "    w_tkr = pos[1]\n",
    "    w_qty = pos[2]\n",
    "        \n",
    "    df_wrt = load_warrant_static_data(w_tkr)    \n",
    "    expiry = pd.to_datetime(df_wrt['Expiry'], format='%m/%d/%Y', errors='coerce').iloc[0].date()\n",
    "    strike = pd.to_numeric(df_wrt['Strike'], errors='coerce').iloc[0]\n",
    "    years_to_expiry = (expiry - u_date).days / 365\n",
    "    \n",
    "    df_wrt_hist = load_warrant_historical_prices(w_tkr)\n",
    "    \n",
    "    df_und_hist = load_stock_historical_prices(u_tkr)\n",
    "    u_date = pd.to_datetime(df_und.iloc[[-1]].index.values[0]).date()\n",
    "    u_price = df_und.iloc[-1,0]\n",
    "    \n",
    "    #estimate implied vol using realized volatility of stock\n",
    "    df_und_hist['return'] = np.log(df_und_hist[u_tkr+'_price'] / df_und_hist[u_tkr+'_price'].shift(1))\n",
    "    iv = df_und['return'].dropna().std()*np.sqrt(252)\n",
    "    \n",
    "    d = bs_delta(u_price, strike, r=0.055, q=0, T=years_to_expiry, sigma=iv, option_type='C')\n",
    "    ratio, w, u = calculate_ex_post_delta(df_wrt_hist, df_und_hist)\n",
    "    \n",
    "    results[name] = [\n",
    "        \n",
    "        expiry,\n",
    "        strike,\n",
    "        d,        \n",
    "        ratio.mean()\n",
    "    ]\n",
    "    \n",
    "    port_stocks = pd.concat([port_stocks, load_stock_historical_prices(u_tkr)], axis=1)\n",
    "    port_warrants = pd.concat([port_warrants, load_warrant_historical_prices(w_tkr)], axis=1)\n",
    "\n",
    "port = pd.DataFrame.from_dict(results, orient='index', columns=['expiry', 'strike', 'ex_post_delta', 'ex_post_delta'])\n",
    "\n",
    "port_stocks.fillna(method='ffill', inplace=True)\n",
    "port_warrants.fillna(method='ffill', inplace=True)\n",
    "\n",
    "port_stocks['port_stocks_price'] = calculate_geometric_mean(port_stocks)\n",
    "port_warrants['port_warrants_price'] = calculate_geometric_mean(port_warrants)\n",
    "port_warrants['port_warrants_return'] = np.log(port_warrants['port_warrants_price'] / port_warrants['port_warrants_price'].shift(1))\n",
    "port_warrants.dropna(how='any', inplace=True)\n",
    "\n",
    "ratio, w, u = calculate_ex_post_delta(port_warrants[['port_warrants_price']], port_stocks[['port_stocks_price']])\n",
    "\n",
    "display(port)\n",
    "\n",
    "print(f\"portfolio ex-post delta: {ratio.mean():0.2f}\")\n",
    "ratio.iplot(kind='bar', title='Portfolio daily ex-post delta', xTitle='Price Date', yTitle='Ratio of price changes')\n"
   ]
  },
  {
   "cell_type": "markdown",
   "id": "f7ef728f",
   "metadata": {},
   "source": [
    "#### 8) If individual stock shorts were not available to hedge this portfolio but the broad market ETFs SPY and IWM (your only 2 choices) were available, how would you hedge this risk and why? Please quantify your recommendations."
   ]
  },
  {
   "cell_type": "markdown",
   "id": "64370cf3",
   "metadata": {},
   "source": [
    "#### SPY as a hedge"
   ]
  },
  {
   "cell_type": "code",
   "execution_count": 9,
   "id": "3ad9cb1e",
   "metadata": {},
   "outputs": [
    {
     "name": "stdout",
     "output_type": "stream",
     "text": [
      "Use a hedge ratio of -0.39 when hedging the warrants portfolio with SPY\n"
     ]
    }
   ],
   "source": [
    "etf_tkr = 'SPY'\n",
    "\n",
    "df_divs = load_etf_historical_dividends(etf_tkr)\n",
    "df_prices = load_etf_historical_prices(etf_tkr)\n",
    "df_prices = df_prices.join(df_divs[[etf_tkr+'_net_amount']])\n",
    "df_prices = df_prices.bfill().fillna(0.)\n",
    "df_prices[etf_tkr+'_price_adjusted'] = df_prices[etf_tkr+'_price'] - df_prices[etf_tkr+'_net_amount']\n",
    "df_prices[etf_tkr+'_return_adjusted'] = np.log(df_prices[etf_tkr+'_price_adjusted'] / df_prices[etf_tkr+'_price_adjusted'].shift(1))\n",
    "df_prices[etf_tkr+'_return_raw'] = np.log(df_prices[etf_tkr+'_price'] / df_prices[etf_tkr+'_price'].shift(1))\n",
    "df_prices.dropna(inplace=True)\n",
    "coef = np.polyfit(df_prices[etf_tkr+'_return_adjusted'], port_warrants['port_warrants_return'], 1)\n",
    "\n",
    "df_plot = pd.concat([df_prices[etf_tkr+'_return_adjusted'], port_warrants['port_warrants_return']], axis=1)\n",
    "\n",
    "spy_corr = df_plot.corr().iloc[0,1]\n",
    "print(f\"Use a hedge ratio of {-coef[0]:0.2f} when hedging the warrants portfolio with {etf_tkr}\")"
   ]
  },
  {
   "cell_type": "code",
   "execution_count": 10,
   "id": "652eb9e8",
   "metadata": {},
   "outputs": [
    {
     "data": {
      "application/vnd.plotly.v1+json": {
       "config": {
        "linkText": "Export to plot.ly",
        "plotlyServerURL": "https://plot.ly",
        "showLink": true
       },
       "data": [
        {
         "line": {
          "color": "rgba(255, 153, 51, 1.0)",
          "dash": "solid",
          "shape": "linear",
          "width": 1.3
         },
         "marker": {
          "size": 12,
          "symbol": "circle"
         },
         "mode": "markers",
         "name": "port_warrants_return",
         "text": "",
         "type": "scatter",
         "x": [
          -0.00822812951583692,
          -0.0032372890720971984,
          0.0013733758523463292,
          0.014223141422029776,
          -0.0015233421347179412,
          0.005658499433802867,
          -0.0004422355548196103,
          0.0006948538059078749,
          -0.0036903518558599135,
          -0.00559305642773111,
          0.008883399910082293,
          0.012430447306488008,
          0.0021190627267039914,
          0.0029219181430034462,
          0.0010961056894281734,
          0.005442021319853163,
          -0.0012753921392492456,
          0.007914011723109899,
          -0.0007763260777682229,
          -0.01650596719000871,
          0.013046039934499074,
          0.010506439903075633,
          -0.003659618746103977,
          0.002908456535505968,
          0.008332622058145748,
          0.00044299905498014616,
          0.005781232437472649,
          -0.00044044480086580213,
          -0.013913336288290959,
          0.009075718569314894,
          0.006898030270650759,
          -0.005008373804781233,
          -0.005538338664266609,
          0.0009083751664654441,
          0.02054948639892752,
          0.0006915902038811495,
          -0.0036808031823030688,
          0.0018618841754778131,
          -0.0013267327023659022,
          0.003599864982763523,
          0.009373777854493498,
          -0.001076363038259344,
          -0.010075948169047584,
          0.005070343848413623,
          0.009908340313342794,
          -0.006039066215804455,
          -0.0008629057823305256,
          0.010733170302852028,
          -0.0015734878355628103,
          -0.001984957546928587,
          -0.006890399546000924,
          0.005925566624999984,
          0.005541688545641708,
          0.009206870737265695,
          0.003299193539987298,
          -0.001897624705687753,
          -0.002766625523076243,
          -0.0018486785291629195,
          0.008368731542376877,
          -0.00019116072852205465,
          -0.001741243993994561,
          -0.006378503854489534,
          0.0010980015550518345,
          -0.012281263923799508,
          0.010392725630285291,
          0.0005592248133013563,
          0.0011560249447415537,
          -0.01006356225012168,
          0.007518541017551879,
          -0.013899237222050371,
          -0.012607278183044454,
          -0.0018254335511998902,
          -0.0059357994376956205,
          -0.0020598565384254944,
          -0.008766694663457628,
          0.009166998900018871,
          0.011796788784550795,
          -0.0004747492819569324,
          -0.003806130078024901,
          0.009429276683316947,
          0.0035352381858079476,
          -0.015968087596702794
         ],
         "y": [
          -0.008485106382873744,
          0.007324378182073972,
          -0.012894290003868237,
          0.0062563369581278465,
          -0.04108054725022663,
          -0.034877107066076184,
          0.0015894123385063424,
          0.014091529851631663,
          0.0018576860016573473,
          0.0041299580881220726,
          -0.005992016230208721,
          -0.0279724402545448,
          0.0021434442393997027,
          0.05074198073964276,
          -0.009219364953899993,
          0.0022065544374877586,
          0.01125798998172741,
          -0.04379046965422539,
          0.017434195783973896,
          -0.03223317020766252,
          -0.021067048306946997,
          0.013868190010868866,
          0.013504851094364573,
          -0.01426276883336548,
          -0.006710044097937975,
          0.010246314568386625,
          -0.017442099967454338,
          0.02668498554956689,
          -0.045801905239136374,
          0.021855792123949034,
          0.08077215561936202,
          0.01950898761401479,
          0.013664020415619354,
          -0.04414155450041526,
          0.022559622205685425,
          0.008312832561565443,
          -8.607543818161991e-05,
          -2.336114810107715e-05,
          -0.004202307863798027,
          0.011704601798687278,
          0.00048138537933945695,
          -0.004175821717397556,
          0.0005251644155334216,
          -0.02337546999033399,
          0.040337239846863854,
          -0.0005608135722715578,
          0.005729134549578772,
          -0.035980046181676786,
          0.04812379219377851,
          -0.0032626042390203037,
          -0.04185515609501311,
          0.04930618189903232,
          0.020378081746849953,
          -0.01799059364962593,
          -0.02829289064543826,
          0.02368305316699148,
          -0.018774202336285066,
          0.0163501300037387,
          -0.013580186968924456,
          -0.03513093922955146,
          0.034475565947235186,
          -0.02901354725502777,
          0.009014007466801338,
          0.031564682850634296,
          0.0010877891850687039,
          -0.003885903813429419,
          0.0003823045784534694,
          -0.030362009310778395,
          -0.0007384282281345429,
          -0.002724442644675656,
          -0.05175506666465869,
          0.021593061088930835,
          0.0075324219443722775,
          0.013229721409524928,
          -0.02180920984806573,
          -0.002643768237672065,
          0.027069216977452112,
          -0.0005838710288023283,
          0.013081672054437242,
          -0.06175760573490435,
          0.013875717955885183,
          0.009076811539124444
         ]
        },
        {
         "line": {
          "color": "rgba(255, 153, 51, 0.6)",
          "dash": "dash",
          "shape": "linear",
          "width": 3
         },
         "mode": "lines",
         "name": "0.39*x+-0.00",
         "type": "scatter",
         "x": [
          -0.00822812951583692,
          -0.0032372890720971984,
          0.0013733758523463292,
          0.014223141422029776,
          -0.0015233421347179412,
          0.005658499433802867,
          -0.0004422355548196103,
          0.0006948538059078749,
          -0.0036903518558599135,
          -0.00559305642773111,
          0.008883399910082293,
          0.012430447306488008,
          0.0021190627267039914,
          0.0029219181430034462,
          0.0010961056894281734,
          0.005442021319853163,
          -0.0012753921392492456,
          0.007914011723109899,
          -0.0007763260777682229,
          -0.01650596719000871,
          0.013046039934499074,
          0.010506439903075633,
          -0.003659618746103977,
          0.002908456535505968,
          0.008332622058145748,
          0.00044299905498014616,
          0.005781232437472649,
          -0.00044044480086580213,
          -0.013913336288290959,
          0.009075718569314894,
          0.006898030270650759,
          -0.005008373804781233,
          -0.005538338664266609,
          0.0009083751664654441,
          0.02054948639892752,
          0.0006915902038811495,
          -0.0036808031823030688,
          0.0018618841754778131,
          -0.0013267327023659022,
          0.003599864982763523,
          0.009373777854493498,
          -0.001076363038259344,
          -0.010075948169047584,
          0.005070343848413623,
          0.009908340313342794,
          -0.006039066215804455,
          -0.0008629057823305256,
          0.010733170302852028,
          -0.0015734878355628103,
          -0.001984957546928587,
          -0.006890399546000924,
          0.005925566624999984,
          0.005541688545641708,
          0.009206870737265695,
          0.003299193539987298,
          -0.001897624705687753,
          -0.002766625523076243,
          -0.0018486785291629195,
          0.008368731542376877,
          -0.00019116072852205465,
          -0.001741243993994561,
          -0.006378503854489534,
          0.0010980015550518345,
          -0.012281263923799508,
          0.010392725630285291,
          0.0005592248133013563,
          0.0011560249447415537,
          -0.01006356225012168,
          0.007518541017551879,
          -0.013899237222050371,
          -0.012607278183044454,
          -0.0018254335511998902,
          -0.0059357994376956205,
          -0.0020598565384254944,
          -0.008766694663457628,
          0.009166998900018871,
          0.011796788784550795,
          -0.0004747492819569324,
          -0.003806130078024901,
          0.009429276683316947,
          0.0035352381858079476,
          -0.015968087596702794
         ],
         "y": [
          -0.004140452849687331,
          -0.0021827900370409996,
          -0.0003742515021179176,
          0.004666083585842345,
          -0.00151049241102388,
          0.0013065930725736819,
          -0.001086427131471818,
          -0.0006404025427787002,
          -0.0023605044267444083,
          -0.0031068424485252255,
          0.002571563934308351,
          0.003962897290065615,
          -8.175498168926272e-05,
          0.00023316596401891463,
          -0.00048301103733450185,
          0.0012216792873688807,
          -0.0014132337446736548,
          0.002191320320823385,
          -0.001217474517219134,
          -0.007387444046165267,
          0.004204364195125291,
          0.003208203208502412,
          -0.0023484493296591783,
          0.00022788563324229946,
          0.002355520698520701,
          -0.0007391928538770991,
          0.0013547352321712906,
          -0.0010857247062066773,
          -0.0063704816406495715,
          0.00264700114605691,
          0.001792800446217393,
          -0.002877500027934473,
          -0.0030853793438771903,
          -0.0005566485474383911,
          0.007147599563132223,
          -0.0006416826943673993,
          -0.002356758948734631,
          -0.000182633559480159,
          -0.0014333721386629622,
          0.0004990913792090896,
          0.0027639152380091016,
          -0.0013351643545509756,
          -0.0048652618077541536,
          0.0010758883785354197,
          0.0029735979675058386,
          -0.00328179029268696,
          -0.0012514355043238472,
          0.0032971384644261805,
          -0.0015301621189347443,
          -0.0016915615789157793,
          -0.0036157267549881186,
          0.0014113504805850548,
          0.0012607738694869293,
          0.002698445732372485,
          0.0003811526654828145,
          -0.0016573051730965186,
          -0.0019981717272446542,
          -0.0016381059799577997,
          0.0023696846845787586,
          -0.0009879427466923164,
          -0.0015959646619445468,
          -0.003414935090633723,
          -0.0004822673818978967,
          -0.005730299408512617,
          0.003163598656299585,
          -0.0006936031686323109,
          -0.000459507641621741,
          -0.004860403417037193,
          0.0020361964889779767,
          -0.006364951265959502,
          -0.0058581788706815255,
          -0.0016289881110433393,
          -0.0032412837820973363,
          -0.0017209407931004627,
          -0.004351705638384862,
          0.0026828059590858224,
          0.0037143440176665874,
          -0.0010991806777401838,
          -0.0024059185654254005,
          0.0027856847164281864,
          0.0004737414449592235,
          -0.007176460166923616
         ]
        }
       ],
       "layout": {
        "legend": {
         "bgcolor": "#F5F6F9",
         "font": {
          "color": "#4D5663"
         }
        },
        "paper_bgcolor": "#F5F6F9",
        "plot_bgcolor": "#F5F6F9",
        "template": {
         "data": {
          "bar": [
           {
            "error_x": {
             "color": "#2a3f5f"
            },
            "error_y": {
             "color": "#2a3f5f"
            },
            "marker": {
             "line": {
              "color": "#E5ECF6",
              "width": 0.5
             },
             "pattern": {
              "fillmode": "overlay",
              "size": 10,
              "solidity": 0.2
             }
            },
            "type": "bar"
           }
          ],
          "barpolar": [
           {
            "marker": {
             "line": {
              "color": "#E5ECF6",
              "width": 0.5
             },
             "pattern": {
              "fillmode": "overlay",
              "size": 10,
              "solidity": 0.2
             }
            },
            "type": "barpolar"
           }
          ],
          "carpet": [
           {
            "aaxis": {
             "endlinecolor": "#2a3f5f",
             "gridcolor": "white",
             "linecolor": "white",
             "minorgridcolor": "white",
             "startlinecolor": "#2a3f5f"
            },
            "baxis": {
             "endlinecolor": "#2a3f5f",
             "gridcolor": "white",
             "linecolor": "white",
             "minorgridcolor": "white",
             "startlinecolor": "#2a3f5f"
            },
            "type": "carpet"
           }
          ],
          "choropleth": [
           {
            "colorbar": {
             "outlinewidth": 0,
             "ticks": ""
            },
            "type": "choropleth"
           }
          ],
          "contour": [
           {
            "colorbar": {
             "outlinewidth": 0,
             "ticks": ""
            },
            "colorscale": [
             [
              0,
              "#0d0887"
             ],
             [
              0.1111111111111111,
              "#46039f"
             ],
             [
              0.2222222222222222,
              "#7201a8"
             ],
             [
              0.3333333333333333,
              "#9c179e"
             ],
             [
              0.4444444444444444,
              "#bd3786"
             ],
             [
              0.5555555555555556,
              "#d8576b"
             ],
             [
              0.6666666666666666,
              "#ed7953"
             ],
             [
              0.7777777777777778,
              "#fb9f3a"
             ],
             [
              0.8888888888888888,
              "#fdca26"
             ],
             [
              1,
              "#f0f921"
             ]
            ],
            "type": "contour"
           }
          ],
          "contourcarpet": [
           {
            "colorbar": {
             "outlinewidth": 0,
             "ticks": ""
            },
            "type": "contourcarpet"
           }
          ],
          "heatmap": [
           {
            "colorbar": {
             "outlinewidth": 0,
             "ticks": ""
            },
            "colorscale": [
             [
              0,
              "#0d0887"
             ],
             [
              0.1111111111111111,
              "#46039f"
             ],
             [
              0.2222222222222222,
              "#7201a8"
             ],
             [
              0.3333333333333333,
              "#9c179e"
             ],
             [
              0.4444444444444444,
              "#bd3786"
             ],
             [
              0.5555555555555556,
              "#d8576b"
             ],
             [
              0.6666666666666666,
              "#ed7953"
             ],
             [
              0.7777777777777778,
              "#fb9f3a"
             ],
             [
              0.8888888888888888,
              "#fdca26"
             ],
             [
              1,
              "#f0f921"
             ]
            ],
            "type": "heatmap"
           }
          ],
          "heatmapgl": [
           {
            "colorbar": {
             "outlinewidth": 0,
             "ticks": ""
            },
            "colorscale": [
             [
              0,
              "#0d0887"
             ],
             [
              0.1111111111111111,
              "#46039f"
             ],
             [
              0.2222222222222222,
              "#7201a8"
             ],
             [
              0.3333333333333333,
              "#9c179e"
             ],
             [
              0.4444444444444444,
              "#bd3786"
             ],
             [
              0.5555555555555556,
              "#d8576b"
             ],
             [
              0.6666666666666666,
              "#ed7953"
             ],
             [
              0.7777777777777778,
              "#fb9f3a"
             ],
             [
              0.8888888888888888,
              "#fdca26"
             ],
             [
              1,
              "#f0f921"
             ]
            ],
            "type": "heatmapgl"
           }
          ],
          "histogram": [
           {
            "marker": {
             "pattern": {
              "fillmode": "overlay",
              "size": 10,
              "solidity": 0.2
             }
            },
            "type": "histogram"
           }
          ],
          "histogram2d": [
           {
            "colorbar": {
             "outlinewidth": 0,
             "ticks": ""
            },
            "colorscale": [
             [
              0,
              "#0d0887"
             ],
             [
              0.1111111111111111,
              "#46039f"
             ],
             [
              0.2222222222222222,
              "#7201a8"
             ],
             [
              0.3333333333333333,
              "#9c179e"
             ],
             [
              0.4444444444444444,
              "#bd3786"
             ],
             [
              0.5555555555555556,
              "#d8576b"
             ],
             [
              0.6666666666666666,
              "#ed7953"
             ],
             [
              0.7777777777777778,
              "#fb9f3a"
             ],
             [
              0.8888888888888888,
              "#fdca26"
             ],
             [
              1,
              "#f0f921"
             ]
            ],
            "type": "histogram2d"
           }
          ],
          "histogram2dcontour": [
           {
            "colorbar": {
             "outlinewidth": 0,
             "ticks": ""
            },
            "colorscale": [
             [
              0,
              "#0d0887"
             ],
             [
              0.1111111111111111,
              "#46039f"
             ],
             [
              0.2222222222222222,
              "#7201a8"
             ],
             [
              0.3333333333333333,
              "#9c179e"
             ],
             [
              0.4444444444444444,
              "#bd3786"
             ],
             [
              0.5555555555555556,
              "#d8576b"
             ],
             [
              0.6666666666666666,
              "#ed7953"
             ],
             [
              0.7777777777777778,
              "#fb9f3a"
             ],
             [
              0.8888888888888888,
              "#fdca26"
             ],
             [
              1,
              "#f0f921"
             ]
            ],
            "type": "histogram2dcontour"
           }
          ],
          "mesh3d": [
           {
            "colorbar": {
             "outlinewidth": 0,
             "ticks": ""
            },
            "type": "mesh3d"
           }
          ],
          "parcoords": [
           {
            "line": {
             "colorbar": {
              "outlinewidth": 0,
              "ticks": ""
             }
            },
            "type": "parcoords"
           }
          ],
          "pie": [
           {
            "automargin": true,
            "type": "pie"
           }
          ],
          "scatter": [
           {
            "fillpattern": {
             "fillmode": "overlay",
             "size": 10,
             "solidity": 0.2
            },
            "type": "scatter"
           }
          ],
          "scatter3d": [
           {
            "line": {
             "colorbar": {
              "outlinewidth": 0,
              "ticks": ""
             }
            },
            "marker": {
             "colorbar": {
              "outlinewidth": 0,
              "ticks": ""
             }
            },
            "type": "scatter3d"
           }
          ],
          "scattercarpet": [
           {
            "marker": {
             "colorbar": {
              "outlinewidth": 0,
              "ticks": ""
             }
            },
            "type": "scattercarpet"
           }
          ],
          "scattergeo": [
           {
            "marker": {
             "colorbar": {
              "outlinewidth": 0,
              "ticks": ""
             }
            },
            "type": "scattergeo"
           }
          ],
          "scattergl": [
           {
            "marker": {
             "colorbar": {
              "outlinewidth": 0,
              "ticks": ""
             }
            },
            "type": "scattergl"
           }
          ],
          "scattermapbox": [
           {
            "marker": {
             "colorbar": {
              "outlinewidth": 0,
              "ticks": ""
             }
            },
            "type": "scattermapbox"
           }
          ],
          "scatterpolar": [
           {
            "marker": {
             "colorbar": {
              "outlinewidth": 0,
              "ticks": ""
             }
            },
            "type": "scatterpolar"
           }
          ],
          "scatterpolargl": [
           {
            "marker": {
             "colorbar": {
              "outlinewidth": 0,
              "ticks": ""
             }
            },
            "type": "scatterpolargl"
           }
          ],
          "scatterternary": [
           {
            "marker": {
             "colorbar": {
              "outlinewidth": 0,
              "ticks": ""
             }
            },
            "type": "scatterternary"
           }
          ],
          "surface": [
           {
            "colorbar": {
             "outlinewidth": 0,
             "ticks": ""
            },
            "colorscale": [
             [
              0,
              "#0d0887"
             ],
             [
              0.1111111111111111,
              "#46039f"
             ],
             [
              0.2222222222222222,
              "#7201a8"
             ],
             [
              0.3333333333333333,
              "#9c179e"
             ],
             [
              0.4444444444444444,
              "#bd3786"
             ],
             [
              0.5555555555555556,
              "#d8576b"
             ],
             [
              0.6666666666666666,
              "#ed7953"
             ],
             [
              0.7777777777777778,
              "#fb9f3a"
             ],
             [
              0.8888888888888888,
              "#fdca26"
             ],
             [
              1,
              "#f0f921"
             ]
            ],
            "type": "surface"
           }
          ],
          "table": [
           {
            "cells": {
             "fill": {
              "color": "#EBF0F8"
             },
             "line": {
              "color": "white"
             }
            },
            "header": {
             "fill": {
              "color": "#C8D4E3"
             },
             "line": {
              "color": "white"
             }
            },
            "type": "table"
           }
          ]
         },
         "layout": {
          "annotationdefaults": {
           "arrowcolor": "#2a3f5f",
           "arrowhead": 0,
           "arrowwidth": 1
          },
          "autotypenumbers": "strict",
          "coloraxis": {
           "colorbar": {
            "outlinewidth": 0,
            "ticks": ""
           }
          },
          "colorscale": {
           "diverging": [
            [
             0,
             "#8e0152"
            ],
            [
             0.1,
             "#c51b7d"
            ],
            [
             0.2,
             "#de77ae"
            ],
            [
             0.3,
             "#f1b6da"
            ],
            [
             0.4,
             "#fde0ef"
            ],
            [
             0.5,
             "#f7f7f7"
            ],
            [
             0.6,
             "#e6f5d0"
            ],
            [
             0.7,
             "#b8e186"
            ],
            [
             0.8,
             "#7fbc41"
            ],
            [
             0.9,
             "#4d9221"
            ],
            [
             1,
             "#276419"
            ]
           ],
           "sequential": [
            [
             0,
             "#0d0887"
            ],
            [
             0.1111111111111111,
             "#46039f"
            ],
            [
             0.2222222222222222,
             "#7201a8"
            ],
            [
             0.3333333333333333,
             "#9c179e"
            ],
            [
             0.4444444444444444,
             "#bd3786"
            ],
            [
             0.5555555555555556,
             "#d8576b"
            ],
            [
             0.6666666666666666,
             "#ed7953"
            ],
            [
             0.7777777777777778,
             "#fb9f3a"
            ],
            [
             0.8888888888888888,
             "#fdca26"
            ],
            [
             1,
             "#f0f921"
            ]
           ],
           "sequentialminus": [
            [
             0,
             "#0d0887"
            ],
            [
             0.1111111111111111,
             "#46039f"
            ],
            [
             0.2222222222222222,
             "#7201a8"
            ],
            [
             0.3333333333333333,
             "#9c179e"
            ],
            [
             0.4444444444444444,
             "#bd3786"
            ],
            [
             0.5555555555555556,
             "#d8576b"
            ],
            [
             0.6666666666666666,
             "#ed7953"
            ],
            [
             0.7777777777777778,
             "#fb9f3a"
            ],
            [
             0.8888888888888888,
             "#fdca26"
            ],
            [
             1,
             "#f0f921"
            ]
           ]
          },
          "colorway": [
           "#636efa",
           "#EF553B",
           "#00cc96",
           "#ab63fa",
           "#FFA15A",
           "#19d3f3",
           "#FF6692",
           "#B6E880",
           "#FF97FF",
           "#FECB52"
          ],
          "font": {
           "color": "#2a3f5f"
          },
          "geo": {
           "bgcolor": "white",
           "lakecolor": "white",
           "landcolor": "#E5ECF6",
           "showlakes": true,
           "showland": true,
           "subunitcolor": "white"
          },
          "hoverlabel": {
           "align": "left"
          },
          "hovermode": "closest",
          "mapbox": {
           "style": "light"
          },
          "paper_bgcolor": "white",
          "plot_bgcolor": "#E5ECF6",
          "polar": {
           "angularaxis": {
            "gridcolor": "white",
            "linecolor": "white",
            "ticks": ""
           },
           "bgcolor": "#E5ECF6",
           "radialaxis": {
            "gridcolor": "white",
            "linecolor": "white",
            "ticks": ""
           }
          },
          "scene": {
           "xaxis": {
            "backgroundcolor": "#E5ECF6",
            "gridcolor": "white",
            "gridwidth": 2,
            "linecolor": "white",
            "showbackground": true,
            "ticks": "",
            "zerolinecolor": "white"
           },
           "yaxis": {
            "backgroundcolor": "#E5ECF6",
            "gridcolor": "white",
            "gridwidth": 2,
            "linecolor": "white",
            "showbackground": true,
            "ticks": "",
            "zerolinecolor": "white"
           },
           "zaxis": {
            "backgroundcolor": "#E5ECF6",
            "gridcolor": "white",
            "gridwidth": 2,
            "linecolor": "white",
            "showbackground": true,
            "ticks": "",
            "zerolinecolor": "white"
           }
          },
          "shapedefaults": {
           "line": {
            "color": "#2a3f5f"
           }
          },
          "ternary": {
           "aaxis": {
            "gridcolor": "white",
            "linecolor": "white",
            "ticks": ""
           },
           "baxis": {
            "gridcolor": "white",
            "linecolor": "white",
            "ticks": ""
           },
           "bgcolor": "#E5ECF6",
           "caxis": {
            "gridcolor": "white",
            "linecolor": "white",
            "ticks": ""
           }
          },
          "title": {
           "x": 0.05
          },
          "xaxis": {
           "automargin": true,
           "gridcolor": "white",
           "linecolor": "white",
           "ticks": "",
           "title": {
            "standoff": 15
           },
           "zerolinecolor": "white",
           "zerolinewidth": 2
          },
          "yaxis": {
           "automargin": true,
           "gridcolor": "white",
           "linecolor": "white",
           "ticks": "",
           "title": {
            "standoff": 15
           },
           "zerolinecolor": "white",
           "zerolinewidth": 2
          }
         }
        },
        "title": {
         "font": {
          "color": "#4D5663"
         },
         "text": "daily returns"
        },
        "xaxis": {
         "gridcolor": "#E1E5ED",
         "showgrid": true,
         "tickfont": {
          "color": "#4D5663"
         },
         "tickformat": "0.2%",
         "title": {
          "font": {
           "color": "#4D5663"
          },
          "text": "SPY"
         },
         "zerolinecolor": "#E1E5ED"
        },
        "yaxis": {
         "gridcolor": "#E1E5ED",
         "showgrid": true,
         "tickfont": {
          "color": "#4D5663"
         },
         "tickformat": "0.2%",
         "title": {
          "font": {
           "color": "#4D5663"
          },
          "text": "Warrants Portfolio"
         },
         "zerolinecolor": "#E1E5ED"
        }
       }
      },
      "text/html": [
       "<div>                            <div id=\"4d73ffb8-d6f2-4001-9968-5d6d7bed0d2c\" class=\"plotly-graph-div\" style=\"height:525px; width:100%;\"></div>            <script type=\"text/javascript\">                require([\"plotly\"], function(Plotly) {                    window.PLOTLYENV=window.PLOTLYENV || {};\n",
       "                    window.PLOTLYENV.BASE_URL='https://plot.ly';                                    if (document.getElementById(\"4d73ffb8-d6f2-4001-9968-5d6d7bed0d2c\")) {                    Plotly.newPlot(                        \"4d73ffb8-d6f2-4001-9968-5d6d7bed0d2c\",                        [{\"line\":{\"color\":\"rgba(255, 153, 51, 1.0)\",\"dash\":\"solid\",\"shape\":\"linear\",\"width\":1.3},\"marker\":{\"size\":12,\"symbol\":\"circle\"},\"mode\":\"markers\",\"name\":\"port_warrants_return\",\"text\":\"\",\"x\":[-0.00822812951583692,-0.0032372890720971984,0.0013733758523463292,0.014223141422029776,-0.0015233421347179412,0.005658499433802867,-0.0004422355548196103,0.0006948538059078749,-0.0036903518558599135,-0.00559305642773111,0.008883399910082293,0.012430447306488008,0.0021190627267039914,0.0029219181430034462,0.0010961056894281734,0.005442021319853163,-0.0012753921392492456,0.007914011723109899,-0.0007763260777682229,-0.01650596719000871,0.013046039934499074,0.010506439903075633,-0.003659618746103977,0.002908456535505968,0.008332622058145748,0.00044299905498014616,0.005781232437472649,-0.00044044480086580213,-0.013913336288290959,0.009075718569314894,0.006898030270650759,-0.005008373804781233,-0.005538338664266609,0.0009083751664654441,0.02054948639892752,0.0006915902038811495,-0.0036808031823030688,0.0018618841754778131,-0.0013267327023659022,0.003599864982763523,0.009373777854493498,-0.001076363038259344,-0.010075948169047584,0.005070343848413623,0.009908340313342794,-0.006039066215804455,-0.0008629057823305256,0.010733170302852028,-0.0015734878355628103,-0.001984957546928587,-0.006890399546000924,0.005925566624999984,0.005541688545641708,0.009206870737265695,0.003299193539987298,-0.001897624705687753,-0.002766625523076243,-0.0018486785291629195,0.008368731542376877,-0.00019116072852205465,-0.001741243993994561,-0.006378503854489534,0.0010980015550518345,-0.012281263923799508,0.010392725630285291,0.0005592248133013563,0.0011560249447415537,-0.01006356225012168,0.007518541017551879,-0.013899237222050371,-0.012607278183044454,-0.0018254335511998902,-0.0059357994376956205,-0.0020598565384254944,-0.008766694663457628,0.009166998900018871,0.011796788784550795,-0.0004747492819569324,-0.003806130078024901,0.009429276683316947,0.0035352381858079476,-0.015968087596702794],\"y\":[-0.008485106382873744,0.007324378182073972,-0.012894290003868237,0.0062563369581278465,-0.04108054725022663,-0.034877107066076184,0.0015894123385063424,0.014091529851631663,0.0018576860016573473,0.0041299580881220726,-0.005992016230208721,-0.0279724402545448,0.0021434442393997027,0.05074198073964276,-0.009219364953899993,0.0022065544374877586,0.01125798998172741,-0.04379046965422539,0.017434195783973896,-0.03223317020766252,-0.021067048306946997,0.013868190010868866,0.013504851094364573,-0.01426276883336548,-0.006710044097937975,0.010246314568386625,-0.017442099967454338,0.02668498554956689,-0.045801905239136374,0.021855792123949034,0.08077215561936202,0.01950898761401479,0.013664020415619354,-0.04414155450041526,0.022559622205685425,0.008312832561565443,-8.607543818161991e-05,-2.336114810107715e-05,-0.004202307863798027,0.011704601798687278,0.00048138537933945695,-0.004175821717397556,0.0005251644155334216,-0.02337546999033399,0.040337239846863854,-0.0005608135722715578,0.005729134549578772,-0.035980046181676786,0.04812379219377851,-0.0032626042390203037,-0.04185515609501311,0.04930618189903232,0.020378081746849953,-0.01799059364962593,-0.02829289064543826,0.02368305316699148,-0.018774202336285066,0.0163501300037387,-0.013580186968924456,-0.03513093922955146,0.034475565947235186,-0.02901354725502777,0.009014007466801338,0.031564682850634296,0.0010877891850687039,-0.003885903813429419,0.0003823045784534694,-0.030362009310778395,-0.0007384282281345429,-0.002724442644675656,-0.05175506666465869,0.021593061088930835,0.0075324219443722775,0.013229721409524928,-0.02180920984806573,-0.002643768237672065,0.027069216977452112,-0.0005838710288023283,0.013081672054437242,-0.06175760573490435,0.013875717955885183,0.009076811539124444],\"type\":\"scatter\"},{\"line\":{\"color\":\"rgba(255, 153, 51, 0.6)\",\"dash\":\"dash\",\"shape\":\"linear\",\"width\":3},\"mode\":\"lines\",\"name\":\"0.39*x+-0.00\",\"x\":[-0.00822812951583692,-0.0032372890720971984,0.0013733758523463292,0.014223141422029776,-0.0015233421347179412,0.005658499433802867,-0.0004422355548196103,0.0006948538059078749,-0.0036903518558599135,-0.00559305642773111,0.008883399910082293,0.012430447306488008,0.0021190627267039914,0.0029219181430034462,0.0010961056894281734,0.005442021319853163,-0.0012753921392492456,0.007914011723109899,-0.0007763260777682229,-0.01650596719000871,0.013046039934499074,0.010506439903075633,-0.003659618746103977,0.002908456535505968,0.008332622058145748,0.00044299905498014616,0.005781232437472649,-0.00044044480086580213,-0.013913336288290959,0.009075718569314894,0.006898030270650759,-0.005008373804781233,-0.005538338664266609,0.0009083751664654441,0.02054948639892752,0.0006915902038811495,-0.0036808031823030688,0.0018618841754778131,-0.0013267327023659022,0.003599864982763523,0.009373777854493498,-0.001076363038259344,-0.010075948169047584,0.005070343848413623,0.009908340313342794,-0.006039066215804455,-0.0008629057823305256,0.010733170302852028,-0.0015734878355628103,-0.001984957546928587,-0.006890399546000924,0.005925566624999984,0.005541688545641708,0.009206870737265695,0.003299193539987298,-0.001897624705687753,-0.002766625523076243,-0.0018486785291629195,0.008368731542376877,-0.00019116072852205465,-0.001741243993994561,-0.006378503854489534,0.0010980015550518345,-0.012281263923799508,0.010392725630285291,0.0005592248133013563,0.0011560249447415537,-0.01006356225012168,0.007518541017551879,-0.013899237222050371,-0.012607278183044454,-0.0018254335511998902,-0.0059357994376956205,-0.0020598565384254944,-0.008766694663457628,0.009166998900018871,0.011796788784550795,-0.0004747492819569324,-0.003806130078024901,0.009429276683316947,0.0035352381858079476,-0.015968087596702794],\"y\":[-0.004140452849687331,-0.0021827900370409996,-0.0003742515021179176,0.004666083585842345,-0.00151049241102388,0.0013065930725736819,-0.001086427131471818,-0.0006404025427787002,-0.0023605044267444083,-0.0031068424485252255,0.002571563934308351,0.003962897290065615,-8.175498168926272e-05,0.00023316596401891463,-0.00048301103733450185,0.0012216792873688807,-0.0014132337446736548,0.002191320320823385,-0.001217474517219134,-0.007387444046165267,0.004204364195125291,0.003208203208502412,-0.0023484493296591783,0.00022788563324229946,0.002355520698520701,-0.0007391928538770991,0.0013547352321712906,-0.0010857247062066773,-0.0063704816406495715,0.00264700114605691,0.001792800446217393,-0.002877500027934473,-0.0030853793438771903,-0.0005566485474383911,0.007147599563132223,-0.0006416826943673993,-0.002356758948734631,-0.000182633559480159,-0.0014333721386629622,0.0004990913792090896,0.0027639152380091016,-0.0013351643545509756,-0.0048652618077541536,0.0010758883785354197,0.0029735979675058386,-0.00328179029268696,-0.0012514355043238472,0.0032971384644261805,-0.0015301621189347443,-0.0016915615789157793,-0.0036157267549881186,0.0014113504805850548,0.0012607738694869293,0.002698445732372485,0.0003811526654828145,-0.0016573051730965186,-0.0019981717272446542,-0.0016381059799577997,0.0023696846845787586,-0.0009879427466923164,-0.0015959646619445468,-0.003414935090633723,-0.0004822673818978967,-0.005730299408512617,0.003163598656299585,-0.0006936031686323109,-0.000459507641621741,-0.004860403417037193,0.0020361964889779767,-0.006364951265959502,-0.0058581788706815255,-0.0016289881110433393,-0.0032412837820973363,-0.0017209407931004627,-0.004351705638384862,0.0026828059590858224,0.0037143440176665874,-0.0010991806777401838,-0.0024059185654254005,0.0027856847164281864,0.0004737414449592235,-0.007176460166923616],\"type\":\"scatter\"}],                        {\"legend\":{\"bgcolor\":\"#F5F6F9\",\"font\":{\"color\":\"#4D5663\"}},\"paper_bgcolor\":\"#F5F6F9\",\"plot_bgcolor\":\"#F5F6F9\",\"template\":{\"data\":{\"barpolar\":[{\"marker\":{\"line\":{\"color\":\"#E5ECF6\",\"width\":0.5},\"pattern\":{\"fillmode\":\"overlay\",\"size\":10,\"solidity\":0.2}},\"type\":\"barpolar\"}],\"bar\":[{\"error_x\":{\"color\":\"#2a3f5f\"},\"error_y\":{\"color\":\"#2a3f5f\"},\"marker\":{\"line\":{\"color\":\"#E5ECF6\",\"width\":0.5},\"pattern\":{\"fillmode\":\"overlay\",\"size\":10,\"solidity\":0.2}},\"type\":\"bar\"}],\"carpet\":[{\"aaxis\":{\"endlinecolor\":\"#2a3f5f\",\"gridcolor\":\"white\",\"linecolor\":\"white\",\"minorgridcolor\":\"white\",\"startlinecolor\":\"#2a3f5f\"},\"baxis\":{\"endlinecolor\":\"#2a3f5f\",\"gridcolor\":\"white\",\"linecolor\":\"white\",\"minorgridcolor\":\"white\",\"startlinecolor\":\"#2a3f5f\"},\"type\":\"carpet\"}],\"choropleth\":[{\"colorbar\":{\"outlinewidth\":0,\"ticks\":\"\"},\"type\":\"choropleth\"}],\"contourcarpet\":[{\"colorbar\":{\"outlinewidth\":0,\"ticks\":\"\"},\"type\":\"contourcarpet\"}],\"contour\":[{\"colorbar\":{\"outlinewidth\":0,\"ticks\":\"\"},\"colorscale\":[[0.0,\"#0d0887\"],[0.1111111111111111,\"#46039f\"],[0.2222222222222222,\"#7201a8\"],[0.3333333333333333,\"#9c179e\"],[0.4444444444444444,\"#bd3786\"],[0.5555555555555556,\"#d8576b\"],[0.6666666666666666,\"#ed7953\"],[0.7777777777777778,\"#fb9f3a\"],[0.8888888888888888,\"#fdca26\"],[1.0,\"#f0f921\"]],\"type\":\"contour\"}],\"heatmapgl\":[{\"colorbar\":{\"outlinewidth\":0,\"ticks\":\"\"},\"colorscale\":[[0.0,\"#0d0887\"],[0.1111111111111111,\"#46039f\"],[0.2222222222222222,\"#7201a8\"],[0.3333333333333333,\"#9c179e\"],[0.4444444444444444,\"#bd3786\"],[0.5555555555555556,\"#d8576b\"],[0.6666666666666666,\"#ed7953\"],[0.7777777777777778,\"#fb9f3a\"],[0.8888888888888888,\"#fdca26\"],[1.0,\"#f0f921\"]],\"type\":\"heatmapgl\"}],\"heatmap\":[{\"colorbar\":{\"outlinewidth\":0,\"ticks\":\"\"},\"colorscale\":[[0.0,\"#0d0887\"],[0.1111111111111111,\"#46039f\"],[0.2222222222222222,\"#7201a8\"],[0.3333333333333333,\"#9c179e\"],[0.4444444444444444,\"#bd3786\"],[0.5555555555555556,\"#d8576b\"],[0.6666666666666666,\"#ed7953\"],[0.7777777777777778,\"#fb9f3a\"],[0.8888888888888888,\"#fdca26\"],[1.0,\"#f0f921\"]],\"type\":\"heatmap\"}],\"histogram2dcontour\":[{\"colorbar\":{\"outlinewidth\":0,\"ticks\":\"\"},\"colorscale\":[[0.0,\"#0d0887\"],[0.1111111111111111,\"#46039f\"],[0.2222222222222222,\"#7201a8\"],[0.3333333333333333,\"#9c179e\"],[0.4444444444444444,\"#bd3786\"],[0.5555555555555556,\"#d8576b\"],[0.6666666666666666,\"#ed7953\"],[0.7777777777777778,\"#fb9f3a\"],[0.8888888888888888,\"#fdca26\"],[1.0,\"#f0f921\"]],\"type\":\"histogram2dcontour\"}],\"histogram2d\":[{\"colorbar\":{\"outlinewidth\":0,\"ticks\":\"\"},\"colorscale\":[[0.0,\"#0d0887\"],[0.1111111111111111,\"#46039f\"],[0.2222222222222222,\"#7201a8\"],[0.3333333333333333,\"#9c179e\"],[0.4444444444444444,\"#bd3786\"],[0.5555555555555556,\"#d8576b\"],[0.6666666666666666,\"#ed7953\"],[0.7777777777777778,\"#fb9f3a\"],[0.8888888888888888,\"#fdca26\"],[1.0,\"#f0f921\"]],\"type\":\"histogram2d\"}],\"histogram\":[{\"marker\":{\"pattern\":{\"fillmode\":\"overlay\",\"size\":10,\"solidity\":0.2}},\"type\":\"histogram\"}],\"mesh3d\":[{\"colorbar\":{\"outlinewidth\":0,\"ticks\":\"\"},\"type\":\"mesh3d\"}],\"parcoords\":[{\"line\":{\"colorbar\":{\"outlinewidth\":0,\"ticks\":\"\"}},\"type\":\"parcoords\"}],\"pie\":[{\"automargin\":true,\"type\":\"pie\"}],\"scatter3d\":[{\"line\":{\"colorbar\":{\"outlinewidth\":0,\"ticks\":\"\"}},\"marker\":{\"colorbar\":{\"outlinewidth\":0,\"ticks\":\"\"}},\"type\":\"scatter3d\"}],\"scattercarpet\":[{\"marker\":{\"colorbar\":{\"outlinewidth\":0,\"ticks\":\"\"}},\"type\":\"scattercarpet\"}],\"scattergeo\":[{\"marker\":{\"colorbar\":{\"outlinewidth\":0,\"ticks\":\"\"}},\"type\":\"scattergeo\"}],\"scattergl\":[{\"marker\":{\"colorbar\":{\"outlinewidth\":0,\"ticks\":\"\"}},\"type\":\"scattergl\"}],\"scattermapbox\":[{\"marker\":{\"colorbar\":{\"outlinewidth\":0,\"ticks\":\"\"}},\"type\":\"scattermapbox\"}],\"scatterpolargl\":[{\"marker\":{\"colorbar\":{\"outlinewidth\":0,\"ticks\":\"\"}},\"type\":\"scatterpolargl\"}],\"scatterpolar\":[{\"marker\":{\"colorbar\":{\"outlinewidth\":0,\"ticks\":\"\"}},\"type\":\"scatterpolar\"}],\"scatter\":[{\"fillpattern\":{\"fillmode\":\"overlay\",\"size\":10,\"solidity\":0.2},\"type\":\"scatter\"}],\"scatterternary\":[{\"marker\":{\"colorbar\":{\"outlinewidth\":0,\"ticks\":\"\"}},\"type\":\"scatterternary\"}],\"surface\":[{\"colorbar\":{\"outlinewidth\":0,\"ticks\":\"\"},\"colorscale\":[[0.0,\"#0d0887\"],[0.1111111111111111,\"#46039f\"],[0.2222222222222222,\"#7201a8\"],[0.3333333333333333,\"#9c179e\"],[0.4444444444444444,\"#bd3786\"],[0.5555555555555556,\"#d8576b\"],[0.6666666666666666,\"#ed7953\"],[0.7777777777777778,\"#fb9f3a\"],[0.8888888888888888,\"#fdca26\"],[1.0,\"#f0f921\"]],\"type\":\"surface\"}],\"table\":[{\"cells\":{\"fill\":{\"color\":\"#EBF0F8\"},\"line\":{\"color\":\"white\"}},\"header\":{\"fill\":{\"color\":\"#C8D4E3\"},\"line\":{\"color\":\"white\"}},\"type\":\"table\"}]},\"layout\":{\"annotationdefaults\":{\"arrowcolor\":\"#2a3f5f\",\"arrowhead\":0,\"arrowwidth\":1},\"autotypenumbers\":\"strict\",\"coloraxis\":{\"colorbar\":{\"outlinewidth\":0,\"ticks\":\"\"}},\"colorscale\":{\"diverging\":[[0,\"#8e0152\"],[0.1,\"#c51b7d\"],[0.2,\"#de77ae\"],[0.3,\"#f1b6da\"],[0.4,\"#fde0ef\"],[0.5,\"#f7f7f7\"],[0.6,\"#e6f5d0\"],[0.7,\"#b8e186\"],[0.8,\"#7fbc41\"],[0.9,\"#4d9221\"],[1,\"#276419\"]],\"sequential\":[[0.0,\"#0d0887\"],[0.1111111111111111,\"#46039f\"],[0.2222222222222222,\"#7201a8\"],[0.3333333333333333,\"#9c179e\"],[0.4444444444444444,\"#bd3786\"],[0.5555555555555556,\"#d8576b\"],[0.6666666666666666,\"#ed7953\"],[0.7777777777777778,\"#fb9f3a\"],[0.8888888888888888,\"#fdca26\"],[1.0,\"#f0f921\"]],\"sequentialminus\":[[0.0,\"#0d0887\"],[0.1111111111111111,\"#46039f\"],[0.2222222222222222,\"#7201a8\"],[0.3333333333333333,\"#9c179e\"],[0.4444444444444444,\"#bd3786\"],[0.5555555555555556,\"#d8576b\"],[0.6666666666666666,\"#ed7953\"],[0.7777777777777778,\"#fb9f3a\"],[0.8888888888888888,\"#fdca26\"],[1.0,\"#f0f921\"]]},\"colorway\":[\"#636efa\",\"#EF553B\",\"#00cc96\",\"#ab63fa\",\"#FFA15A\",\"#19d3f3\",\"#FF6692\",\"#B6E880\",\"#FF97FF\",\"#FECB52\"],\"font\":{\"color\":\"#2a3f5f\"},\"geo\":{\"bgcolor\":\"white\",\"lakecolor\":\"white\",\"landcolor\":\"#E5ECF6\",\"showlakes\":true,\"showland\":true,\"subunitcolor\":\"white\"},\"hoverlabel\":{\"align\":\"left\"},\"hovermode\":\"closest\",\"mapbox\":{\"style\":\"light\"},\"paper_bgcolor\":\"white\",\"plot_bgcolor\":\"#E5ECF6\",\"polar\":{\"angularaxis\":{\"gridcolor\":\"white\",\"linecolor\":\"white\",\"ticks\":\"\"},\"bgcolor\":\"#E5ECF6\",\"radialaxis\":{\"gridcolor\":\"white\",\"linecolor\":\"white\",\"ticks\":\"\"}},\"scene\":{\"xaxis\":{\"backgroundcolor\":\"#E5ECF6\",\"gridcolor\":\"white\",\"gridwidth\":2,\"linecolor\":\"white\",\"showbackground\":true,\"ticks\":\"\",\"zerolinecolor\":\"white\"},\"yaxis\":{\"backgroundcolor\":\"#E5ECF6\",\"gridcolor\":\"white\",\"gridwidth\":2,\"linecolor\":\"white\",\"showbackground\":true,\"ticks\":\"\",\"zerolinecolor\":\"white\"},\"zaxis\":{\"backgroundcolor\":\"#E5ECF6\",\"gridcolor\":\"white\",\"gridwidth\":2,\"linecolor\":\"white\",\"showbackground\":true,\"ticks\":\"\",\"zerolinecolor\":\"white\"}},\"shapedefaults\":{\"line\":{\"color\":\"#2a3f5f\"}},\"ternary\":{\"aaxis\":{\"gridcolor\":\"white\",\"linecolor\":\"white\",\"ticks\":\"\"},\"baxis\":{\"gridcolor\":\"white\",\"linecolor\":\"white\",\"ticks\":\"\"},\"bgcolor\":\"#E5ECF6\",\"caxis\":{\"gridcolor\":\"white\",\"linecolor\":\"white\",\"ticks\":\"\"}},\"title\":{\"x\":0.05},\"xaxis\":{\"automargin\":true,\"gridcolor\":\"white\",\"linecolor\":\"white\",\"ticks\":\"\",\"title\":{\"standoff\":15},\"zerolinecolor\":\"white\",\"zerolinewidth\":2},\"yaxis\":{\"automargin\":true,\"gridcolor\":\"white\",\"linecolor\":\"white\",\"ticks\":\"\",\"title\":{\"standoff\":15},\"zerolinecolor\":\"white\",\"zerolinewidth\":2}}},\"title\":{\"font\":{\"color\":\"#4D5663\"},\"text\":\"daily returns\"},\"xaxis\":{\"gridcolor\":\"#E1E5ED\",\"showgrid\":true,\"tickfont\":{\"color\":\"#4D5663\"},\"tickformat\":\"0.2%\",\"title\":{\"font\":{\"color\":\"#4D5663\"},\"text\":\"SPY\"},\"zerolinecolor\":\"#E1E5ED\"},\"yaxis\":{\"gridcolor\":\"#E1E5ED\",\"showgrid\":true,\"tickfont\":{\"color\":\"#4D5663\"},\"tickformat\":\"0.2%\",\"title\":{\"font\":{\"color\":\"#4D5663\"},\"text\":\"Warrants Portfolio\"},\"zerolinecolor\":\"#E1E5ED\"}},                        {\"showLink\": true, \"linkText\": \"Export to plot.ly\", \"plotlyServerURL\": \"https://plot.ly\", \"responsive\": true}                    ).then(function(){\n",
       "                            \n",
       "var gd = document.getElementById('4d73ffb8-d6f2-4001-9968-5d6d7bed0d2c');\n",
       "var x = new MutationObserver(function (mutations, observer) {{\n",
       "        var display = window.getComputedStyle(gd).display;\n",
       "        if (!display || display === 'none') {{\n",
       "            console.log([gd, 'removed!']);\n",
       "            Plotly.purge(gd);\n",
       "            observer.disconnect();\n",
       "        }}\n",
       "}});\n",
       "\n",
       "// Listen for the removal of the full notebook cells\n",
       "var notebookContainer = gd.closest('#notebook-container');\n",
       "if (notebookContainer) {{\n",
       "    x.observe(notebookContainer, {childList: true});\n",
       "}}\n",
       "\n",
       "// Listen for the clearing of the current output cell\n",
       "var outputEl = gd.closest('.output');\n",
       "if (outputEl) {{\n",
       "    x.observe(outputEl, {childList: true});\n",
       "}}\n",
       "\n",
       "                        })                };                });            </script>        </div>"
      ]
     },
     "metadata": {},
     "output_type": "display_data"
    }
   ],
   "source": [
    "df_plot.iplot(\n",
    "    kind='scatter', \n",
    "    x=etf_tkr+'_return_adjusted', \n",
    "    y='port_warrants_return', \n",
    "    mode='markers', \n",
    "    title='daily returns', \n",
    "    xTitle=etf_tkr,\n",
    "    xaxis_tickformat='0.2%',\n",
    "    yTitle='Warrants Portfolio',\n",
    "    yaxis_tickformat='0.2%',\n",
    "    bestfit=True\n",
    ")"
   ]
  },
  {
   "cell_type": "markdown",
   "id": "759e7777",
   "metadata": {},
   "source": [
    "#### IWM as a hedge"
   ]
  },
  {
   "cell_type": "code",
   "execution_count": 11,
   "id": "89d8557b",
   "metadata": {},
   "outputs": [
    {
     "name": "stdout",
     "output_type": "stream",
     "text": [
      "Use a hedge ratio of -0.32 when hedging the warrants portfolio with IWM\n"
     ]
    }
   ],
   "source": [
    "etf_tkr = 'IWM'\n",
    "\n",
    "df_divs = load_etf_historical_dividends(etf_tkr)\n",
    "df_prices = load_etf_historical_prices(etf_tkr)\n",
    "df_prices = df_prices.join(df_divs[[etf_tkr+'_net_amount']])\n",
    "df_prices = df_prices.bfill().fillna(0.)\n",
    "df_prices[etf_tkr+'_price_adjusted'] = df_prices[etf_tkr+'_price'] - df_prices[etf_tkr+'_net_amount']\n",
    "df_prices[etf_tkr+'_return_adjusted'] = np.log(df_prices[etf_tkr+'_price_adjusted'] / df_prices[etf_tkr+'_price_adjusted'].shift(1))\n",
    "df_prices[etf_tkr+'_return_raw'] = np.log(df_prices[etf_tkr+'_price'] / df_prices[etf_tkr+'_price'].shift(1))\n",
    "df_prices.dropna(inplace=True)\n",
    "coef = np.polyfit(df_prices[etf_tkr+'_return_adjusted'], port_warrants['port_warrants_return'], 1)\n",
    "\n",
    "df_plot = pd.concat([df_prices[etf_tkr+'_return_adjusted'], port_warrants['port_warrants_return']], axis=1)\n",
    "iwm_corr = df_plot.corr().iloc[0,1]\n",
    "\n",
    "print(f\"Use a hedge ratio of {-coef[0]:0.2f} when hedging the warrants portfolio with {etf_tkr}\")"
   ]
  },
  {
   "cell_type": "code",
   "execution_count": 12,
   "id": "eb667553",
   "metadata": {},
   "outputs": [
    {
     "data": {
      "application/vnd.plotly.v1+json": {
       "config": {
        "linkText": "Export to plot.ly",
        "plotlyServerURL": "https://plot.ly",
        "showLink": true
       },
       "data": [
        {
         "line": {
          "color": "rgba(255, 153, 51, 1.0)",
          "dash": "solid",
          "shape": "linear",
          "width": 1.3
         },
         "marker": {
          "size": 12,
          "symbol": "circle"
         },
         "mode": "markers",
         "name": "port_warrants_return",
         "text": "",
         "type": "scatter",
         "x": [
          -0.027097805549844596,
          -0.001963947994700799,
          -0.00295317303165174,
          0.017895464169672005,
          -0.009010551703730258,
          0.0005655443576216109,
          -0.007895068150620575,
          -0.0016591673189127122,
          -0.012479740755802759,
          -0.007171593945035396,
          0.005909750020087039,
          0.009581582611842478,
          0.021190414990896467,
          -0.0029121342326220603,
          -0.008271606077915517,
          0.008271606077915637,
          5.1163228237686046e-05,
          0.017396340746490935,
          -0.0085842692865829,
          -0.024799385251100255,
          0.013220746722455495,
          -0.005298287974383587,
          -0.012821162664025146,
          0.008997221823697069,
          -0.002332539396171969,
          0.015090709894147993,
          0.016174947077298805,
          0.01804384477603168,
          -0.04212202914227091,
          0.02302138308649666,
          0.02638493599853346,
          -0.013726721148329202,
          -0.013917769531237377,
          -0.004750173664124561,
          0.007569376063069099,
          0.002259685131799384,
          0.006300087807750668,
          0.01410545268336408,
          -0.008290699018020709,
          0.006962892272901613,
          0.0105734132973301,
          -0.0009255972786978385,
          -0.009647816018632106,
          0.007452188448270534,
          0.00831786143387758,
          -0.0006299277699585513,
          -0.007981048581319662,
          -0.0013690067679032007,
          0.00390648626673779,
          -0.018097560436937894,
          0.0018840065334562116,
          -0.005762334014644225,
          0.004225648124753444,
          0.019649132868499813,
          0.011424665491427495,
          -0.01389819228214579,
          0.002289277929248599,
          -0.0018017584188127188,
          0.02155287015585103,
          0.0031433087746886522,
          -0.009459723688449778,
          -0.018556284488481112,
          0.006531510839186041,
          -0.010058678558064027,
          0.003331539997806026,
          0.005463161726930415,
          0.003932521149986653,
          -0.026762540991106584,
          0.00674572271813859,
          -0.017956490249602528,
          -0.01475424133171347,
          -0.0036843762894153294,
          -0.0106170146389834,
          -0.0008293593674640396,
          0.0015544850013501817,
          0.011121523343861637,
          0.016604844916307867,
          -0.004492121118586461,
          -0.0060889167215770505,
          0.009522916662155566,
          0.008033784924436361,
          -0.020513021594874514
         ],
         "y": [
          -0.008485106382873744,
          0.007324378182073972,
          -0.012894290003868237,
          0.0062563369581278465,
          -0.04108054725022663,
          -0.034877107066076184,
          0.0015894123385063424,
          0.014091529851631663,
          0.0018576860016573473,
          0.0041299580881220726,
          -0.005992016230208721,
          -0.0279724402545448,
          0.0021434442393997027,
          0.05074198073964276,
          -0.009219364953899993,
          0.0022065544374877586,
          0.01125798998172741,
          -0.04379046965422539,
          0.017434195783973896,
          -0.03223317020766252,
          -0.021067048306946997,
          0.013868190010868866,
          0.013504851094364573,
          -0.01426276883336548,
          -0.006710044097937975,
          0.010246314568386625,
          -0.017442099967454338,
          0.02668498554956689,
          -0.045801905239136374,
          0.021855792123949034,
          0.08077215561936202,
          0.01950898761401479,
          0.013664020415619354,
          -0.04414155450041526,
          0.022559622205685425,
          0.008312832561565443,
          -8.607543818161991e-05,
          -2.336114810107715e-05,
          -0.004202307863798027,
          0.011704601798687278,
          0.00048138537933945695,
          -0.004175821717397556,
          0.0005251644155334216,
          -0.02337546999033399,
          0.040337239846863854,
          -0.0005608135722715578,
          0.005729134549578772,
          -0.035980046181676786,
          0.04812379219377851,
          -0.0032626042390203037,
          -0.04185515609501311,
          0.04930618189903232,
          0.020378081746849953,
          -0.01799059364962593,
          -0.02829289064543826,
          0.02368305316699148,
          -0.018774202336285066,
          0.0163501300037387,
          -0.013580186968924456,
          -0.03513093922955146,
          0.034475565947235186,
          -0.02901354725502777,
          0.009014007466801338,
          0.031564682850634296,
          0.0010877891850687039,
          -0.003885903813429419,
          0.0003823045784534694,
          -0.030362009310778395,
          -0.0007384282281345429,
          -0.002724442644675656,
          -0.05175506666465869,
          0.021593061088930835,
          0.0075324219443722775,
          0.013229721409524928,
          -0.02180920984806573,
          -0.002643768237672065,
          0.027069216977452112,
          -0.0005838710288023283,
          0.013081672054437242,
          -0.06175760573490435,
          0.013875717955885183,
          0.009076811539124444
         ]
        },
        {
         "line": {
          "color": "rgba(255, 153, 51, 0.6)",
          "dash": "dash",
          "shape": "linear",
          "width": 3
         },
         "mode": "lines",
         "name": "0.32*x+-0.00",
         "type": "scatter",
         "x": [
          -0.027097805549844596,
          -0.001963947994700799,
          -0.00295317303165174,
          0.017895464169672005,
          -0.009010551703730258,
          0.0005655443576216109,
          -0.007895068150620575,
          -0.0016591673189127122,
          -0.012479740755802759,
          -0.007171593945035396,
          0.005909750020087039,
          0.009581582611842478,
          0.021190414990896467,
          -0.0029121342326220603,
          -0.008271606077915517,
          0.008271606077915637,
          5.1163228237686046e-05,
          0.017396340746490935,
          -0.0085842692865829,
          -0.024799385251100255,
          0.013220746722455495,
          -0.005298287974383587,
          -0.012821162664025146,
          0.008997221823697069,
          -0.002332539396171969,
          0.015090709894147993,
          0.016174947077298805,
          0.01804384477603168,
          -0.04212202914227091,
          0.02302138308649666,
          0.02638493599853346,
          -0.013726721148329202,
          -0.013917769531237377,
          -0.004750173664124561,
          0.007569376063069099,
          0.002259685131799384,
          0.006300087807750668,
          0.01410545268336408,
          -0.008290699018020709,
          0.006962892272901613,
          0.0105734132973301,
          -0.0009255972786978385,
          -0.009647816018632106,
          0.007452188448270534,
          0.00831786143387758,
          -0.0006299277699585513,
          -0.007981048581319662,
          -0.0013690067679032007,
          0.00390648626673779,
          -0.018097560436937894,
          0.0018840065334562116,
          -0.005762334014644225,
          0.004225648124753444,
          0.019649132868499813,
          0.011424665491427495,
          -0.01389819228214579,
          0.002289277929248599,
          -0.0018017584188127188,
          0.02155287015585103,
          0.0031433087746886522,
          -0.009459723688449778,
          -0.018556284488481112,
          0.006531510839186041,
          -0.010058678558064027,
          0.003331539997806026,
          0.005463161726930415,
          0.003932521149986653,
          -0.026762540991106584,
          0.00674572271813859,
          -0.017956490249602528,
          -0.01475424133171347,
          -0.0036843762894153294,
          -0.0106170146389834,
          -0.0008293593674640396,
          0.0015544850013501817,
          0.011121523343861637,
          0.016604844916307867,
          -0.004492121118586461,
          -0.0060889167215770505,
          0.009522916662155566,
          0.008033784924436361,
          -0.020513021594874514
         ],
         "y": [
          -0.00914721099563996,
          -0.0011713104986528426,
          -0.0014852281074615383,
          0.005130813837182593,
          -0.0034074578907357994,
          -0.0003686092314180209,
          -0.003053473795532409,
          -0.001074592343146595,
          -0.004508359597680681,
          -0.0028238887323074743,
          0.0013273044382500854,
          0.0024925124183296137,
          0.006176423323704645,
          -0.0014722049821072852,
          -0.0031729631749425184,
          0.002076808523093275,
          -0.0005318413455689348,
          0.004972423556252833,
          -0.0032721827490142033,
          -0.00841783741807353,
          0.003647353483803695,
          -0.002229419618700484,
          -0.004616705368380569,
          0.002307073176050034,
          -0.0012882781521747519,
          0.004240761803944246,
          0.004584830272899768,
          0.005177900479151931,
          -0.013914951568481486,
          0.006757457067196854,
          0.007824836528702013,
          -0.00490407249255421,
          -0.004964699194557383,
          -0.0020554827214291768,
          0.0018539650255471728,
          0.0001690041537571196,
          0.0014511730226004424,
          0.00392810333279988,
          -0.0031790220694094674,
          0.0016615053383384534,
          0.002807256895573172,
          -0.0008418034990351087,
          -0.0036096853743119365,
          0.0018167770708903152,
          0.002091487054464584,
          -0.000747976653055591,
          -0.003080758559060627,
          -0.0009825136927474173,
          0.0006915949244645824,
          -0.006291101092433033,
          4.9787471134538964e-05,
          -0.002376678551596849,
          0.000792876759788958,
          0.005687317629560812,
          0.003077390629842438,
          -0.0049584866109769815,
          0.00017839504042720534,
          -0.001119841761070731,
          0.006291443722939182,
          0.0004494105433058553,
          -0.0035499967369235354,
          -0.0064366711619162475,
          0.0015246120904948133,
          -0.00374006721980695,
          0.0005091432565480015,
          0.0011855854927391696,
          0.0006998567536640205,
          -0.009040819179151232,
          0.0015925894245769237,
          -0.006246334316190683,
          -0.005230142564501508,
          -0.0017172658841617429,
          -0.003917247862114653,
          -0.0008112636584095869,
          -5.478187107352012e-05,
          0.0029811924398064063,
          0.004721252721395118,
          -0.0019735931260222474,
          -0.0024803152961283244,
          0.0024738955475911107,
          0.0020013390949695687,
          -0.007057616053686841
         ]
        }
       ],
       "layout": {
        "legend": {
         "bgcolor": "#F5F6F9",
         "font": {
          "color": "#4D5663"
         }
        },
        "paper_bgcolor": "#F5F6F9",
        "plot_bgcolor": "#F5F6F9",
        "template": {
         "data": {
          "bar": [
           {
            "error_x": {
             "color": "#2a3f5f"
            },
            "error_y": {
             "color": "#2a3f5f"
            },
            "marker": {
             "line": {
              "color": "#E5ECF6",
              "width": 0.5
             },
             "pattern": {
              "fillmode": "overlay",
              "size": 10,
              "solidity": 0.2
             }
            },
            "type": "bar"
           }
          ],
          "barpolar": [
           {
            "marker": {
             "line": {
              "color": "#E5ECF6",
              "width": 0.5
             },
             "pattern": {
              "fillmode": "overlay",
              "size": 10,
              "solidity": 0.2
             }
            },
            "type": "barpolar"
           }
          ],
          "carpet": [
           {
            "aaxis": {
             "endlinecolor": "#2a3f5f",
             "gridcolor": "white",
             "linecolor": "white",
             "minorgridcolor": "white",
             "startlinecolor": "#2a3f5f"
            },
            "baxis": {
             "endlinecolor": "#2a3f5f",
             "gridcolor": "white",
             "linecolor": "white",
             "minorgridcolor": "white",
             "startlinecolor": "#2a3f5f"
            },
            "type": "carpet"
           }
          ],
          "choropleth": [
           {
            "colorbar": {
             "outlinewidth": 0,
             "ticks": ""
            },
            "type": "choropleth"
           }
          ],
          "contour": [
           {
            "colorbar": {
             "outlinewidth": 0,
             "ticks": ""
            },
            "colorscale": [
             [
              0,
              "#0d0887"
             ],
             [
              0.1111111111111111,
              "#46039f"
             ],
             [
              0.2222222222222222,
              "#7201a8"
             ],
             [
              0.3333333333333333,
              "#9c179e"
             ],
             [
              0.4444444444444444,
              "#bd3786"
             ],
             [
              0.5555555555555556,
              "#d8576b"
             ],
             [
              0.6666666666666666,
              "#ed7953"
             ],
             [
              0.7777777777777778,
              "#fb9f3a"
             ],
             [
              0.8888888888888888,
              "#fdca26"
             ],
             [
              1,
              "#f0f921"
             ]
            ],
            "type": "contour"
           }
          ],
          "contourcarpet": [
           {
            "colorbar": {
             "outlinewidth": 0,
             "ticks": ""
            },
            "type": "contourcarpet"
           }
          ],
          "heatmap": [
           {
            "colorbar": {
             "outlinewidth": 0,
             "ticks": ""
            },
            "colorscale": [
             [
              0,
              "#0d0887"
             ],
             [
              0.1111111111111111,
              "#46039f"
             ],
             [
              0.2222222222222222,
              "#7201a8"
             ],
             [
              0.3333333333333333,
              "#9c179e"
             ],
             [
              0.4444444444444444,
              "#bd3786"
             ],
             [
              0.5555555555555556,
              "#d8576b"
             ],
             [
              0.6666666666666666,
              "#ed7953"
             ],
             [
              0.7777777777777778,
              "#fb9f3a"
             ],
             [
              0.8888888888888888,
              "#fdca26"
             ],
             [
              1,
              "#f0f921"
             ]
            ],
            "type": "heatmap"
           }
          ],
          "heatmapgl": [
           {
            "colorbar": {
             "outlinewidth": 0,
             "ticks": ""
            },
            "colorscale": [
             [
              0,
              "#0d0887"
             ],
             [
              0.1111111111111111,
              "#46039f"
             ],
             [
              0.2222222222222222,
              "#7201a8"
             ],
             [
              0.3333333333333333,
              "#9c179e"
             ],
             [
              0.4444444444444444,
              "#bd3786"
             ],
             [
              0.5555555555555556,
              "#d8576b"
             ],
             [
              0.6666666666666666,
              "#ed7953"
             ],
             [
              0.7777777777777778,
              "#fb9f3a"
             ],
             [
              0.8888888888888888,
              "#fdca26"
             ],
             [
              1,
              "#f0f921"
             ]
            ],
            "type": "heatmapgl"
           }
          ],
          "histogram": [
           {
            "marker": {
             "pattern": {
              "fillmode": "overlay",
              "size": 10,
              "solidity": 0.2
             }
            },
            "type": "histogram"
           }
          ],
          "histogram2d": [
           {
            "colorbar": {
             "outlinewidth": 0,
             "ticks": ""
            },
            "colorscale": [
             [
              0,
              "#0d0887"
             ],
             [
              0.1111111111111111,
              "#46039f"
             ],
             [
              0.2222222222222222,
              "#7201a8"
             ],
             [
              0.3333333333333333,
              "#9c179e"
             ],
             [
              0.4444444444444444,
              "#bd3786"
             ],
             [
              0.5555555555555556,
              "#d8576b"
             ],
             [
              0.6666666666666666,
              "#ed7953"
             ],
             [
              0.7777777777777778,
              "#fb9f3a"
             ],
             [
              0.8888888888888888,
              "#fdca26"
             ],
             [
              1,
              "#f0f921"
             ]
            ],
            "type": "histogram2d"
           }
          ],
          "histogram2dcontour": [
           {
            "colorbar": {
             "outlinewidth": 0,
             "ticks": ""
            },
            "colorscale": [
             [
              0,
              "#0d0887"
             ],
             [
              0.1111111111111111,
              "#46039f"
             ],
             [
              0.2222222222222222,
              "#7201a8"
             ],
             [
              0.3333333333333333,
              "#9c179e"
             ],
             [
              0.4444444444444444,
              "#bd3786"
             ],
             [
              0.5555555555555556,
              "#d8576b"
             ],
             [
              0.6666666666666666,
              "#ed7953"
             ],
             [
              0.7777777777777778,
              "#fb9f3a"
             ],
             [
              0.8888888888888888,
              "#fdca26"
             ],
             [
              1,
              "#f0f921"
             ]
            ],
            "type": "histogram2dcontour"
           }
          ],
          "mesh3d": [
           {
            "colorbar": {
             "outlinewidth": 0,
             "ticks": ""
            },
            "type": "mesh3d"
           }
          ],
          "parcoords": [
           {
            "line": {
             "colorbar": {
              "outlinewidth": 0,
              "ticks": ""
             }
            },
            "type": "parcoords"
           }
          ],
          "pie": [
           {
            "automargin": true,
            "type": "pie"
           }
          ],
          "scatter": [
           {
            "fillpattern": {
             "fillmode": "overlay",
             "size": 10,
             "solidity": 0.2
            },
            "type": "scatter"
           }
          ],
          "scatter3d": [
           {
            "line": {
             "colorbar": {
              "outlinewidth": 0,
              "ticks": ""
             }
            },
            "marker": {
             "colorbar": {
              "outlinewidth": 0,
              "ticks": ""
             }
            },
            "type": "scatter3d"
           }
          ],
          "scattercarpet": [
           {
            "marker": {
             "colorbar": {
              "outlinewidth": 0,
              "ticks": ""
             }
            },
            "type": "scattercarpet"
           }
          ],
          "scattergeo": [
           {
            "marker": {
             "colorbar": {
              "outlinewidth": 0,
              "ticks": ""
             }
            },
            "type": "scattergeo"
           }
          ],
          "scattergl": [
           {
            "marker": {
             "colorbar": {
              "outlinewidth": 0,
              "ticks": ""
             }
            },
            "type": "scattergl"
           }
          ],
          "scattermapbox": [
           {
            "marker": {
             "colorbar": {
              "outlinewidth": 0,
              "ticks": ""
             }
            },
            "type": "scattermapbox"
           }
          ],
          "scatterpolar": [
           {
            "marker": {
             "colorbar": {
              "outlinewidth": 0,
              "ticks": ""
             }
            },
            "type": "scatterpolar"
           }
          ],
          "scatterpolargl": [
           {
            "marker": {
             "colorbar": {
              "outlinewidth": 0,
              "ticks": ""
             }
            },
            "type": "scatterpolargl"
           }
          ],
          "scatterternary": [
           {
            "marker": {
             "colorbar": {
              "outlinewidth": 0,
              "ticks": ""
             }
            },
            "type": "scatterternary"
           }
          ],
          "surface": [
           {
            "colorbar": {
             "outlinewidth": 0,
             "ticks": ""
            },
            "colorscale": [
             [
              0,
              "#0d0887"
             ],
             [
              0.1111111111111111,
              "#46039f"
             ],
             [
              0.2222222222222222,
              "#7201a8"
             ],
             [
              0.3333333333333333,
              "#9c179e"
             ],
             [
              0.4444444444444444,
              "#bd3786"
             ],
             [
              0.5555555555555556,
              "#d8576b"
             ],
             [
              0.6666666666666666,
              "#ed7953"
             ],
             [
              0.7777777777777778,
              "#fb9f3a"
             ],
             [
              0.8888888888888888,
              "#fdca26"
             ],
             [
              1,
              "#f0f921"
             ]
            ],
            "type": "surface"
           }
          ],
          "table": [
           {
            "cells": {
             "fill": {
              "color": "#EBF0F8"
             },
             "line": {
              "color": "white"
             }
            },
            "header": {
             "fill": {
              "color": "#C8D4E3"
             },
             "line": {
              "color": "white"
             }
            },
            "type": "table"
           }
          ]
         },
         "layout": {
          "annotationdefaults": {
           "arrowcolor": "#2a3f5f",
           "arrowhead": 0,
           "arrowwidth": 1
          },
          "autotypenumbers": "strict",
          "coloraxis": {
           "colorbar": {
            "outlinewidth": 0,
            "ticks": ""
           }
          },
          "colorscale": {
           "diverging": [
            [
             0,
             "#8e0152"
            ],
            [
             0.1,
             "#c51b7d"
            ],
            [
             0.2,
             "#de77ae"
            ],
            [
             0.3,
             "#f1b6da"
            ],
            [
             0.4,
             "#fde0ef"
            ],
            [
             0.5,
             "#f7f7f7"
            ],
            [
             0.6,
             "#e6f5d0"
            ],
            [
             0.7,
             "#b8e186"
            ],
            [
             0.8,
             "#7fbc41"
            ],
            [
             0.9,
             "#4d9221"
            ],
            [
             1,
             "#276419"
            ]
           ],
           "sequential": [
            [
             0,
             "#0d0887"
            ],
            [
             0.1111111111111111,
             "#46039f"
            ],
            [
             0.2222222222222222,
             "#7201a8"
            ],
            [
             0.3333333333333333,
             "#9c179e"
            ],
            [
             0.4444444444444444,
             "#bd3786"
            ],
            [
             0.5555555555555556,
             "#d8576b"
            ],
            [
             0.6666666666666666,
             "#ed7953"
            ],
            [
             0.7777777777777778,
             "#fb9f3a"
            ],
            [
             0.8888888888888888,
             "#fdca26"
            ],
            [
             1,
             "#f0f921"
            ]
           ],
           "sequentialminus": [
            [
             0,
             "#0d0887"
            ],
            [
             0.1111111111111111,
             "#46039f"
            ],
            [
             0.2222222222222222,
             "#7201a8"
            ],
            [
             0.3333333333333333,
             "#9c179e"
            ],
            [
             0.4444444444444444,
             "#bd3786"
            ],
            [
             0.5555555555555556,
             "#d8576b"
            ],
            [
             0.6666666666666666,
             "#ed7953"
            ],
            [
             0.7777777777777778,
             "#fb9f3a"
            ],
            [
             0.8888888888888888,
             "#fdca26"
            ],
            [
             1,
             "#f0f921"
            ]
           ]
          },
          "colorway": [
           "#636efa",
           "#EF553B",
           "#00cc96",
           "#ab63fa",
           "#FFA15A",
           "#19d3f3",
           "#FF6692",
           "#B6E880",
           "#FF97FF",
           "#FECB52"
          ],
          "font": {
           "color": "#2a3f5f"
          },
          "geo": {
           "bgcolor": "white",
           "lakecolor": "white",
           "landcolor": "#E5ECF6",
           "showlakes": true,
           "showland": true,
           "subunitcolor": "white"
          },
          "hoverlabel": {
           "align": "left"
          },
          "hovermode": "closest",
          "mapbox": {
           "style": "light"
          },
          "paper_bgcolor": "white",
          "plot_bgcolor": "#E5ECF6",
          "polar": {
           "angularaxis": {
            "gridcolor": "white",
            "linecolor": "white",
            "ticks": ""
           },
           "bgcolor": "#E5ECF6",
           "radialaxis": {
            "gridcolor": "white",
            "linecolor": "white",
            "ticks": ""
           }
          },
          "scene": {
           "xaxis": {
            "backgroundcolor": "#E5ECF6",
            "gridcolor": "white",
            "gridwidth": 2,
            "linecolor": "white",
            "showbackground": true,
            "ticks": "",
            "zerolinecolor": "white"
           },
           "yaxis": {
            "backgroundcolor": "#E5ECF6",
            "gridcolor": "white",
            "gridwidth": 2,
            "linecolor": "white",
            "showbackground": true,
            "ticks": "",
            "zerolinecolor": "white"
           },
           "zaxis": {
            "backgroundcolor": "#E5ECF6",
            "gridcolor": "white",
            "gridwidth": 2,
            "linecolor": "white",
            "showbackground": true,
            "ticks": "",
            "zerolinecolor": "white"
           }
          },
          "shapedefaults": {
           "line": {
            "color": "#2a3f5f"
           }
          },
          "ternary": {
           "aaxis": {
            "gridcolor": "white",
            "linecolor": "white",
            "ticks": ""
           },
           "baxis": {
            "gridcolor": "white",
            "linecolor": "white",
            "ticks": ""
           },
           "bgcolor": "#E5ECF6",
           "caxis": {
            "gridcolor": "white",
            "linecolor": "white",
            "ticks": ""
           }
          },
          "title": {
           "x": 0.05
          },
          "xaxis": {
           "automargin": true,
           "gridcolor": "white",
           "linecolor": "white",
           "ticks": "",
           "title": {
            "standoff": 15
           },
           "zerolinecolor": "white",
           "zerolinewidth": 2
          },
          "yaxis": {
           "automargin": true,
           "gridcolor": "white",
           "linecolor": "white",
           "ticks": "",
           "title": {
            "standoff": 15
           },
           "zerolinecolor": "white",
           "zerolinewidth": 2
          }
         }
        },
        "title": {
         "font": {
          "color": "#4D5663"
         },
         "text": "daily returns"
        },
        "xaxis": {
         "gridcolor": "#E1E5ED",
         "showgrid": true,
         "tickfont": {
          "color": "#4D5663"
         },
         "tickformat": "0.2%",
         "title": {
          "font": {
           "color": "#4D5663"
          },
          "text": "IWM"
         },
         "zerolinecolor": "#E1E5ED"
        },
        "yaxis": {
         "gridcolor": "#E1E5ED",
         "showgrid": true,
         "tickfont": {
          "color": "#4D5663"
         },
         "tickformat": "0.2%",
         "title": {
          "font": {
           "color": "#4D5663"
          },
          "text": "Warrants Portfolio"
         },
         "zerolinecolor": "#E1E5ED"
        }
       }
      },
      "text/html": [
       "<div>                            <div id=\"d1b3f782-2c6d-49b8-94db-6124a71c13c4\" class=\"plotly-graph-div\" style=\"height:525px; width:100%;\"></div>            <script type=\"text/javascript\">                require([\"plotly\"], function(Plotly) {                    window.PLOTLYENV=window.PLOTLYENV || {};\n",
       "                    window.PLOTLYENV.BASE_URL='https://plot.ly';                                    if (document.getElementById(\"d1b3f782-2c6d-49b8-94db-6124a71c13c4\")) {                    Plotly.newPlot(                        \"d1b3f782-2c6d-49b8-94db-6124a71c13c4\",                        [{\"line\":{\"color\":\"rgba(255, 153, 51, 1.0)\",\"dash\":\"solid\",\"shape\":\"linear\",\"width\":1.3},\"marker\":{\"size\":12,\"symbol\":\"circle\"},\"mode\":\"markers\",\"name\":\"port_warrants_return\",\"text\":\"\",\"x\":[-0.027097805549844596,-0.001963947994700799,-0.00295317303165174,0.017895464169672005,-0.009010551703730258,0.0005655443576216109,-0.007895068150620575,-0.0016591673189127122,-0.012479740755802759,-0.007171593945035396,0.005909750020087039,0.009581582611842478,0.021190414990896467,-0.0029121342326220603,-0.008271606077915517,0.008271606077915637,5.1163228237686046e-05,0.017396340746490935,-0.0085842692865829,-0.024799385251100255,0.013220746722455495,-0.005298287974383587,-0.012821162664025146,0.008997221823697069,-0.002332539396171969,0.015090709894147993,0.016174947077298805,0.01804384477603168,-0.04212202914227091,0.02302138308649666,0.02638493599853346,-0.013726721148329202,-0.013917769531237377,-0.004750173664124561,0.007569376063069099,0.002259685131799384,0.006300087807750668,0.01410545268336408,-0.008290699018020709,0.006962892272901613,0.0105734132973301,-0.0009255972786978385,-0.009647816018632106,0.007452188448270534,0.00831786143387758,-0.0006299277699585513,-0.007981048581319662,-0.0013690067679032007,0.00390648626673779,-0.018097560436937894,0.0018840065334562116,-0.005762334014644225,0.004225648124753444,0.019649132868499813,0.011424665491427495,-0.01389819228214579,0.002289277929248599,-0.0018017584188127188,0.02155287015585103,0.0031433087746886522,-0.009459723688449778,-0.018556284488481112,0.006531510839186041,-0.010058678558064027,0.003331539997806026,0.005463161726930415,0.003932521149986653,-0.026762540991106584,0.00674572271813859,-0.017956490249602528,-0.01475424133171347,-0.0036843762894153294,-0.0106170146389834,-0.0008293593674640396,0.0015544850013501817,0.011121523343861637,0.016604844916307867,-0.004492121118586461,-0.0060889167215770505,0.009522916662155566,0.008033784924436361,-0.020513021594874514],\"y\":[-0.008485106382873744,0.007324378182073972,-0.012894290003868237,0.0062563369581278465,-0.04108054725022663,-0.034877107066076184,0.0015894123385063424,0.014091529851631663,0.0018576860016573473,0.0041299580881220726,-0.005992016230208721,-0.0279724402545448,0.0021434442393997027,0.05074198073964276,-0.009219364953899993,0.0022065544374877586,0.01125798998172741,-0.04379046965422539,0.017434195783973896,-0.03223317020766252,-0.021067048306946997,0.013868190010868866,0.013504851094364573,-0.01426276883336548,-0.006710044097937975,0.010246314568386625,-0.017442099967454338,0.02668498554956689,-0.045801905239136374,0.021855792123949034,0.08077215561936202,0.01950898761401479,0.013664020415619354,-0.04414155450041526,0.022559622205685425,0.008312832561565443,-8.607543818161991e-05,-2.336114810107715e-05,-0.004202307863798027,0.011704601798687278,0.00048138537933945695,-0.004175821717397556,0.0005251644155334216,-0.02337546999033399,0.040337239846863854,-0.0005608135722715578,0.005729134549578772,-0.035980046181676786,0.04812379219377851,-0.0032626042390203037,-0.04185515609501311,0.04930618189903232,0.020378081746849953,-0.01799059364962593,-0.02829289064543826,0.02368305316699148,-0.018774202336285066,0.0163501300037387,-0.013580186968924456,-0.03513093922955146,0.034475565947235186,-0.02901354725502777,0.009014007466801338,0.031564682850634296,0.0010877891850687039,-0.003885903813429419,0.0003823045784534694,-0.030362009310778395,-0.0007384282281345429,-0.002724442644675656,-0.05175506666465869,0.021593061088930835,0.0075324219443722775,0.013229721409524928,-0.02180920984806573,-0.002643768237672065,0.027069216977452112,-0.0005838710288023283,0.013081672054437242,-0.06175760573490435,0.013875717955885183,0.009076811539124444],\"type\":\"scatter\"},{\"line\":{\"color\":\"rgba(255, 153, 51, 0.6)\",\"dash\":\"dash\",\"shape\":\"linear\",\"width\":3},\"mode\":\"lines\",\"name\":\"0.32*x+-0.00\",\"x\":[-0.027097805549844596,-0.001963947994700799,-0.00295317303165174,0.017895464169672005,-0.009010551703730258,0.0005655443576216109,-0.007895068150620575,-0.0016591673189127122,-0.012479740755802759,-0.007171593945035396,0.005909750020087039,0.009581582611842478,0.021190414990896467,-0.0029121342326220603,-0.008271606077915517,0.008271606077915637,5.1163228237686046e-05,0.017396340746490935,-0.0085842692865829,-0.024799385251100255,0.013220746722455495,-0.005298287974383587,-0.012821162664025146,0.008997221823697069,-0.002332539396171969,0.015090709894147993,0.016174947077298805,0.01804384477603168,-0.04212202914227091,0.02302138308649666,0.02638493599853346,-0.013726721148329202,-0.013917769531237377,-0.004750173664124561,0.007569376063069099,0.002259685131799384,0.006300087807750668,0.01410545268336408,-0.008290699018020709,0.006962892272901613,0.0105734132973301,-0.0009255972786978385,-0.009647816018632106,0.007452188448270534,0.00831786143387758,-0.0006299277699585513,-0.007981048581319662,-0.0013690067679032007,0.00390648626673779,-0.018097560436937894,0.0018840065334562116,-0.005762334014644225,0.004225648124753444,0.019649132868499813,0.011424665491427495,-0.01389819228214579,0.002289277929248599,-0.0018017584188127188,0.02155287015585103,0.0031433087746886522,-0.009459723688449778,-0.018556284488481112,0.006531510839186041,-0.010058678558064027,0.003331539997806026,0.005463161726930415,0.003932521149986653,-0.026762540991106584,0.00674572271813859,-0.017956490249602528,-0.01475424133171347,-0.0036843762894153294,-0.0106170146389834,-0.0008293593674640396,0.0015544850013501817,0.011121523343861637,0.016604844916307867,-0.004492121118586461,-0.0060889167215770505,0.009522916662155566,0.008033784924436361,-0.020513021594874514],\"y\":[-0.00914721099563996,-0.0011713104986528426,-0.0014852281074615383,0.005130813837182593,-0.0034074578907357994,-0.0003686092314180209,-0.003053473795532409,-0.001074592343146595,-0.004508359597680681,-0.0028238887323074743,0.0013273044382500854,0.0024925124183296137,0.006176423323704645,-0.0014722049821072852,-0.0031729631749425184,0.002076808523093275,-0.0005318413455689348,0.004972423556252833,-0.0032721827490142033,-0.00841783741807353,0.003647353483803695,-0.002229419618700484,-0.004616705368380569,0.002307073176050034,-0.0012882781521747519,0.004240761803944246,0.004584830272899768,0.005177900479151931,-0.013914951568481486,0.006757457067196854,0.007824836528702013,-0.00490407249255421,-0.004964699194557383,-0.0020554827214291768,0.0018539650255471728,0.0001690041537571196,0.0014511730226004424,0.00392810333279988,-0.0031790220694094674,0.0016615053383384534,0.002807256895573172,-0.0008418034990351087,-0.0036096853743119365,0.0018167770708903152,0.002091487054464584,-0.000747976653055591,-0.003080758559060627,-0.0009825136927474173,0.0006915949244645824,-0.006291101092433033,4.9787471134538964e-05,-0.002376678551596849,0.000792876759788958,0.005687317629560812,0.003077390629842438,-0.0049584866109769815,0.00017839504042720534,-0.001119841761070731,0.006291443722939182,0.0004494105433058553,-0.0035499967369235354,-0.0064366711619162475,0.0015246120904948133,-0.00374006721980695,0.0005091432565480015,0.0011855854927391696,0.0006998567536640205,-0.009040819179151232,0.0015925894245769237,-0.006246334316190683,-0.005230142564501508,-0.0017172658841617429,-0.003917247862114653,-0.0008112636584095869,-5.478187107352012e-05,0.0029811924398064063,0.004721252721395118,-0.0019735931260222474,-0.0024803152961283244,0.0024738955475911107,0.0020013390949695687,-0.007057616053686841],\"type\":\"scatter\"}],                        {\"legend\":{\"bgcolor\":\"#F5F6F9\",\"font\":{\"color\":\"#4D5663\"}},\"paper_bgcolor\":\"#F5F6F9\",\"plot_bgcolor\":\"#F5F6F9\",\"template\":{\"data\":{\"barpolar\":[{\"marker\":{\"line\":{\"color\":\"#E5ECF6\",\"width\":0.5},\"pattern\":{\"fillmode\":\"overlay\",\"size\":10,\"solidity\":0.2}},\"type\":\"barpolar\"}],\"bar\":[{\"error_x\":{\"color\":\"#2a3f5f\"},\"error_y\":{\"color\":\"#2a3f5f\"},\"marker\":{\"line\":{\"color\":\"#E5ECF6\",\"width\":0.5},\"pattern\":{\"fillmode\":\"overlay\",\"size\":10,\"solidity\":0.2}},\"type\":\"bar\"}],\"carpet\":[{\"aaxis\":{\"endlinecolor\":\"#2a3f5f\",\"gridcolor\":\"white\",\"linecolor\":\"white\",\"minorgridcolor\":\"white\",\"startlinecolor\":\"#2a3f5f\"},\"baxis\":{\"endlinecolor\":\"#2a3f5f\",\"gridcolor\":\"white\",\"linecolor\":\"white\",\"minorgridcolor\":\"white\",\"startlinecolor\":\"#2a3f5f\"},\"type\":\"carpet\"}],\"choropleth\":[{\"colorbar\":{\"outlinewidth\":0,\"ticks\":\"\"},\"type\":\"choropleth\"}],\"contourcarpet\":[{\"colorbar\":{\"outlinewidth\":0,\"ticks\":\"\"},\"type\":\"contourcarpet\"}],\"contour\":[{\"colorbar\":{\"outlinewidth\":0,\"ticks\":\"\"},\"colorscale\":[[0.0,\"#0d0887\"],[0.1111111111111111,\"#46039f\"],[0.2222222222222222,\"#7201a8\"],[0.3333333333333333,\"#9c179e\"],[0.4444444444444444,\"#bd3786\"],[0.5555555555555556,\"#d8576b\"],[0.6666666666666666,\"#ed7953\"],[0.7777777777777778,\"#fb9f3a\"],[0.8888888888888888,\"#fdca26\"],[1.0,\"#f0f921\"]],\"type\":\"contour\"}],\"heatmapgl\":[{\"colorbar\":{\"outlinewidth\":0,\"ticks\":\"\"},\"colorscale\":[[0.0,\"#0d0887\"],[0.1111111111111111,\"#46039f\"],[0.2222222222222222,\"#7201a8\"],[0.3333333333333333,\"#9c179e\"],[0.4444444444444444,\"#bd3786\"],[0.5555555555555556,\"#d8576b\"],[0.6666666666666666,\"#ed7953\"],[0.7777777777777778,\"#fb9f3a\"],[0.8888888888888888,\"#fdca26\"],[1.0,\"#f0f921\"]],\"type\":\"heatmapgl\"}],\"heatmap\":[{\"colorbar\":{\"outlinewidth\":0,\"ticks\":\"\"},\"colorscale\":[[0.0,\"#0d0887\"],[0.1111111111111111,\"#46039f\"],[0.2222222222222222,\"#7201a8\"],[0.3333333333333333,\"#9c179e\"],[0.4444444444444444,\"#bd3786\"],[0.5555555555555556,\"#d8576b\"],[0.6666666666666666,\"#ed7953\"],[0.7777777777777778,\"#fb9f3a\"],[0.8888888888888888,\"#fdca26\"],[1.0,\"#f0f921\"]],\"type\":\"heatmap\"}],\"histogram2dcontour\":[{\"colorbar\":{\"outlinewidth\":0,\"ticks\":\"\"},\"colorscale\":[[0.0,\"#0d0887\"],[0.1111111111111111,\"#46039f\"],[0.2222222222222222,\"#7201a8\"],[0.3333333333333333,\"#9c179e\"],[0.4444444444444444,\"#bd3786\"],[0.5555555555555556,\"#d8576b\"],[0.6666666666666666,\"#ed7953\"],[0.7777777777777778,\"#fb9f3a\"],[0.8888888888888888,\"#fdca26\"],[1.0,\"#f0f921\"]],\"type\":\"histogram2dcontour\"}],\"histogram2d\":[{\"colorbar\":{\"outlinewidth\":0,\"ticks\":\"\"},\"colorscale\":[[0.0,\"#0d0887\"],[0.1111111111111111,\"#46039f\"],[0.2222222222222222,\"#7201a8\"],[0.3333333333333333,\"#9c179e\"],[0.4444444444444444,\"#bd3786\"],[0.5555555555555556,\"#d8576b\"],[0.6666666666666666,\"#ed7953\"],[0.7777777777777778,\"#fb9f3a\"],[0.8888888888888888,\"#fdca26\"],[1.0,\"#f0f921\"]],\"type\":\"histogram2d\"}],\"histogram\":[{\"marker\":{\"pattern\":{\"fillmode\":\"overlay\",\"size\":10,\"solidity\":0.2}},\"type\":\"histogram\"}],\"mesh3d\":[{\"colorbar\":{\"outlinewidth\":0,\"ticks\":\"\"},\"type\":\"mesh3d\"}],\"parcoords\":[{\"line\":{\"colorbar\":{\"outlinewidth\":0,\"ticks\":\"\"}},\"type\":\"parcoords\"}],\"pie\":[{\"automargin\":true,\"type\":\"pie\"}],\"scatter3d\":[{\"line\":{\"colorbar\":{\"outlinewidth\":0,\"ticks\":\"\"}},\"marker\":{\"colorbar\":{\"outlinewidth\":0,\"ticks\":\"\"}},\"type\":\"scatter3d\"}],\"scattercarpet\":[{\"marker\":{\"colorbar\":{\"outlinewidth\":0,\"ticks\":\"\"}},\"type\":\"scattercarpet\"}],\"scattergeo\":[{\"marker\":{\"colorbar\":{\"outlinewidth\":0,\"ticks\":\"\"}},\"type\":\"scattergeo\"}],\"scattergl\":[{\"marker\":{\"colorbar\":{\"outlinewidth\":0,\"ticks\":\"\"}},\"type\":\"scattergl\"}],\"scattermapbox\":[{\"marker\":{\"colorbar\":{\"outlinewidth\":0,\"ticks\":\"\"}},\"type\":\"scattermapbox\"}],\"scatterpolargl\":[{\"marker\":{\"colorbar\":{\"outlinewidth\":0,\"ticks\":\"\"}},\"type\":\"scatterpolargl\"}],\"scatterpolar\":[{\"marker\":{\"colorbar\":{\"outlinewidth\":0,\"ticks\":\"\"}},\"type\":\"scatterpolar\"}],\"scatter\":[{\"fillpattern\":{\"fillmode\":\"overlay\",\"size\":10,\"solidity\":0.2},\"type\":\"scatter\"}],\"scatterternary\":[{\"marker\":{\"colorbar\":{\"outlinewidth\":0,\"ticks\":\"\"}},\"type\":\"scatterternary\"}],\"surface\":[{\"colorbar\":{\"outlinewidth\":0,\"ticks\":\"\"},\"colorscale\":[[0.0,\"#0d0887\"],[0.1111111111111111,\"#46039f\"],[0.2222222222222222,\"#7201a8\"],[0.3333333333333333,\"#9c179e\"],[0.4444444444444444,\"#bd3786\"],[0.5555555555555556,\"#d8576b\"],[0.6666666666666666,\"#ed7953\"],[0.7777777777777778,\"#fb9f3a\"],[0.8888888888888888,\"#fdca26\"],[1.0,\"#f0f921\"]],\"type\":\"surface\"}],\"table\":[{\"cells\":{\"fill\":{\"color\":\"#EBF0F8\"},\"line\":{\"color\":\"white\"}},\"header\":{\"fill\":{\"color\":\"#C8D4E3\"},\"line\":{\"color\":\"white\"}},\"type\":\"table\"}]},\"layout\":{\"annotationdefaults\":{\"arrowcolor\":\"#2a3f5f\",\"arrowhead\":0,\"arrowwidth\":1},\"autotypenumbers\":\"strict\",\"coloraxis\":{\"colorbar\":{\"outlinewidth\":0,\"ticks\":\"\"}},\"colorscale\":{\"diverging\":[[0,\"#8e0152\"],[0.1,\"#c51b7d\"],[0.2,\"#de77ae\"],[0.3,\"#f1b6da\"],[0.4,\"#fde0ef\"],[0.5,\"#f7f7f7\"],[0.6,\"#e6f5d0\"],[0.7,\"#b8e186\"],[0.8,\"#7fbc41\"],[0.9,\"#4d9221\"],[1,\"#276419\"]],\"sequential\":[[0.0,\"#0d0887\"],[0.1111111111111111,\"#46039f\"],[0.2222222222222222,\"#7201a8\"],[0.3333333333333333,\"#9c179e\"],[0.4444444444444444,\"#bd3786\"],[0.5555555555555556,\"#d8576b\"],[0.6666666666666666,\"#ed7953\"],[0.7777777777777778,\"#fb9f3a\"],[0.8888888888888888,\"#fdca26\"],[1.0,\"#f0f921\"]],\"sequentialminus\":[[0.0,\"#0d0887\"],[0.1111111111111111,\"#46039f\"],[0.2222222222222222,\"#7201a8\"],[0.3333333333333333,\"#9c179e\"],[0.4444444444444444,\"#bd3786\"],[0.5555555555555556,\"#d8576b\"],[0.6666666666666666,\"#ed7953\"],[0.7777777777777778,\"#fb9f3a\"],[0.8888888888888888,\"#fdca26\"],[1.0,\"#f0f921\"]]},\"colorway\":[\"#636efa\",\"#EF553B\",\"#00cc96\",\"#ab63fa\",\"#FFA15A\",\"#19d3f3\",\"#FF6692\",\"#B6E880\",\"#FF97FF\",\"#FECB52\"],\"font\":{\"color\":\"#2a3f5f\"},\"geo\":{\"bgcolor\":\"white\",\"lakecolor\":\"white\",\"landcolor\":\"#E5ECF6\",\"showlakes\":true,\"showland\":true,\"subunitcolor\":\"white\"},\"hoverlabel\":{\"align\":\"left\"},\"hovermode\":\"closest\",\"mapbox\":{\"style\":\"light\"},\"paper_bgcolor\":\"white\",\"plot_bgcolor\":\"#E5ECF6\",\"polar\":{\"angularaxis\":{\"gridcolor\":\"white\",\"linecolor\":\"white\",\"ticks\":\"\"},\"bgcolor\":\"#E5ECF6\",\"radialaxis\":{\"gridcolor\":\"white\",\"linecolor\":\"white\",\"ticks\":\"\"}},\"scene\":{\"xaxis\":{\"backgroundcolor\":\"#E5ECF6\",\"gridcolor\":\"white\",\"gridwidth\":2,\"linecolor\":\"white\",\"showbackground\":true,\"ticks\":\"\",\"zerolinecolor\":\"white\"},\"yaxis\":{\"backgroundcolor\":\"#E5ECF6\",\"gridcolor\":\"white\",\"gridwidth\":2,\"linecolor\":\"white\",\"showbackground\":true,\"ticks\":\"\",\"zerolinecolor\":\"white\"},\"zaxis\":{\"backgroundcolor\":\"#E5ECF6\",\"gridcolor\":\"white\",\"gridwidth\":2,\"linecolor\":\"white\",\"showbackground\":true,\"ticks\":\"\",\"zerolinecolor\":\"white\"}},\"shapedefaults\":{\"line\":{\"color\":\"#2a3f5f\"}},\"ternary\":{\"aaxis\":{\"gridcolor\":\"white\",\"linecolor\":\"white\",\"ticks\":\"\"},\"baxis\":{\"gridcolor\":\"white\",\"linecolor\":\"white\",\"ticks\":\"\"},\"bgcolor\":\"#E5ECF6\",\"caxis\":{\"gridcolor\":\"white\",\"linecolor\":\"white\",\"ticks\":\"\"}},\"title\":{\"x\":0.05},\"xaxis\":{\"automargin\":true,\"gridcolor\":\"white\",\"linecolor\":\"white\",\"ticks\":\"\",\"title\":{\"standoff\":15},\"zerolinecolor\":\"white\",\"zerolinewidth\":2},\"yaxis\":{\"automargin\":true,\"gridcolor\":\"white\",\"linecolor\":\"white\",\"ticks\":\"\",\"title\":{\"standoff\":15},\"zerolinecolor\":\"white\",\"zerolinewidth\":2}}},\"title\":{\"font\":{\"color\":\"#4D5663\"},\"text\":\"daily returns\"},\"xaxis\":{\"gridcolor\":\"#E1E5ED\",\"showgrid\":true,\"tickfont\":{\"color\":\"#4D5663\"},\"tickformat\":\"0.2%\",\"title\":{\"font\":{\"color\":\"#4D5663\"},\"text\":\"IWM\"},\"zerolinecolor\":\"#E1E5ED\"},\"yaxis\":{\"gridcolor\":\"#E1E5ED\",\"showgrid\":true,\"tickfont\":{\"color\":\"#4D5663\"},\"tickformat\":\"0.2%\",\"title\":{\"font\":{\"color\":\"#4D5663\"},\"text\":\"Warrants Portfolio\"},\"zerolinecolor\":\"#E1E5ED\"}},                        {\"showLink\": true, \"linkText\": \"Export to plot.ly\", \"plotlyServerURL\": \"https://plot.ly\", \"responsive\": true}                    ).then(function(){\n",
       "                            \n",
       "var gd = document.getElementById('d1b3f782-2c6d-49b8-94db-6124a71c13c4');\n",
       "var x = new MutationObserver(function (mutations, observer) {{\n",
       "        var display = window.getComputedStyle(gd).display;\n",
       "        if (!display || display === 'none') {{\n",
       "            console.log([gd, 'removed!']);\n",
       "            Plotly.purge(gd);\n",
       "            observer.disconnect();\n",
       "        }}\n",
       "}});\n",
       "\n",
       "// Listen for the removal of the full notebook cells\n",
       "var notebookContainer = gd.closest('#notebook-container');\n",
       "if (notebookContainer) {{\n",
       "    x.observe(notebookContainer, {childList: true});\n",
       "}}\n",
       "\n",
       "// Listen for the clearing of the current output cell\n",
       "var outputEl = gd.closest('.output');\n",
       "if (outputEl) {{\n",
       "    x.observe(outputEl, {childList: true});\n",
       "}}\n",
       "\n",
       "                        })                };                });            </script>        </div>"
      ]
     },
     "metadata": {},
     "output_type": "display_data"
    }
   ],
   "source": [
    "df_plot.iplot(\n",
    "    kind='scatter', \n",
    "    x=etf_tkr+'_return_adjusted', \n",
    "    y='port_warrants_return', \n",
    "    mode='markers', \n",
    "    title='daily returns', \n",
    "    xTitle=etf_tkr,\n",
    "    xaxis_tickformat='0.2%',\n",
    "    yTitle='Warrants Portfolio',\n",
    "    yaxis_tickformat='0.2%',\n",
    "    bestfit=True\n",
    ")"
   ]
  },
  {
   "cell_type": "markdown",
   "id": "8d10bbb0",
   "metadata": {},
   "source": [
    "#### 9) What additional risks does hedging in this manner introduce?"
   ]
  },
  {
   "cell_type": "code",
   "execution_count": 13,
   "id": "0deffe31",
   "metadata": {},
   "outputs": [
    {
     "name": "stdout",
     "output_type": "stream",
     "text": [
      "The market etfs only explain a tiny amount of the warrants portfolio risk and introduce additional risk factors\n",
      "SPY explains 1.32% of the warrant portfolio's price movements\n",
      "IWM explains 2.58% of the warrant portfolio's price movements\n"
     ]
    }
   ],
   "source": [
    "print(f\"The market etfs only explain a tiny amount of the warrants portfolio risk and introduce additional risk factors\")\n",
    "print(f\"SPY explains {spy_corr**2:0.2%} of the warrant portfolio's price movements\")\n",
    "print(f\"IWM explains {iwm_corr**2:0.2%} of the warrant portfolio's price movements\")"
   ]
  }
 ],
 "metadata": {
  "kernelspec": {
   "display_name": "leffertz-py39-env",
   "language": "python",
   "name": "leffertz-py39-env"
  },
  "language_info": {
   "codemirror_mode": {
    "name": "ipython",
    "version": 3
   },
   "file_extension": ".py",
   "mimetype": "text/x-python",
   "name": "python",
   "nbconvert_exporter": "python",
   "pygments_lexer": "ipython3",
   "version": "3.9.19"
  }
 },
 "nbformat": 4,
 "nbformat_minor": 5
}
