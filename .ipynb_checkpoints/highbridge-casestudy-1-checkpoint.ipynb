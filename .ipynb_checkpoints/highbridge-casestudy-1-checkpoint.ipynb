{
 "cells": [
  {
   "cell_type": "code",
   "execution_count": 1,
   "id": "3766ea8f",
   "metadata": {},
   "outputs": [],
   "source": [
    "import pandas as pd\n",
    "import QuantLib as ql"
   ]
  },
  {
   "cell_type": "code",
   "execution_count": 2,
   "id": "bc5e2fae",
   "metadata": {},
   "outputs": [],
   "source": [
    "df = pd.read_excel('case_study_q1_data.xlsx', skiprows=2)"
   ]
  },
  {
   "cell_type": "code",
   "execution_count": 3,
   "id": "99d7058c",
   "metadata": {},
   "outputs": [
    {
     "data": {
      "text/html": [
       "<div>\n",
       "<style scoped>\n",
       "    .dataframe tbody tr th:only-of-type {\n",
       "        vertical-align: middle;\n",
       "    }\n",
       "\n",
       "    .dataframe tbody tr th {\n",
       "        vertical-align: top;\n",
       "    }\n",
       "\n",
       "    .dataframe thead th {\n",
       "        text-align: right;\n",
       "    }\n",
       "</style>\n",
       "<table border=\"1\" class=\"dataframe\">\n",
       "  <thead>\n",
       "    <tr style=\"text-align: right;\">\n",
       "      <th></th>\n",
       "      <th>LVWR</th>\n",
       "      <th>LVWR.1</th>\n",
       "      <th>TLSI</th>\n",
       "      <th>TLSI.1</th>\n",
       "      <th>AFRI</th>\n",
       "      <th>AFRI.1</th>\n",
       "      <th>CLBT</th>\n",
       "      <th>CLBT.1</th>\n",
       "      <th>GRND</th>\n",
       "      <th>GRND.1</th>\n",
       "    </tr>\n",
       "  </thead>\n",
       "  <tbody>\n",
       "    <tr>\n",
       "      <th>0</th>\n",
       "      <td>2024-01-02</td>\n",
       "      <td>10.89</td>\n",
       "      <td>2024-01-02</td>\n",
       "      <td>8.250</td>\n",
       "      <td>2024-01-02</td>\n",
       "      <td>10.59</td>\n",
       "      <td>2024-01-02</td>\n",
       "      <td>8.43</td>\n",
       "      <td>2024-01-02</td>\n",
       "      <td>8.56</td>\n",
       "    </tr>\n",
       "    <tr>\n",
       "      <th>1</th>\n",
       "      <td>2024-01-03</td>\n",
       "      <td>11.61</td>\n",
       "      <td>2024-01-03</td>\n",
       "      <td>8.090</td>\n",
       "      <td>2024-01-03</td>\n",
       "      <td>10.69</td>\n",
       "      <td>2024-01-03</td>\n",
       "      <td>8.20</td>\n",
       "      <td>2024-01-03</td>\n",
       "      <td>8.20</td>\n",
       "    </tr>\n",
       "    <tr>\n",
       "      <th>2</th>\n",
       "      <td>2024-01-04</td>\n",
       "      <td>11.62</td>\n",
       "      <td>2024-01-04</td>\n",
       "      <td>8.330</td>\n",
       "      <td>2024-01-04</td>\n",
       "      <td>10.68</td>\n",
       "      <td>2024-01-04</td>\n",
       "      <td>8.22</td>\n",
       "      <td>2024-01-04</td>\n",
       "      <td>8.33</td>\n",
       "    </tr>\n",
       "    <tr>\n",
       "      <th>3</th>\n",
       "      <td>2024-01-05</td>\n",
       "      <td>11.18</td>\n",
       "      <td>2024-01-05</td>\n",
       "      <td>8.790</td>\n",
       "      <td>2024-01-05</td>\n",
       "      <td>10.68</td>\n",
       "      <td>2024-01-05</td>\n",
       "      <td>8.23</td>\n",
       "      <td>2024-01-05</td>\n",
       "      <td>8.30</td>\n",
       "    </tr>\n",
       "    <tr>\n",
       "      <th>4</th>\n",
       "      <td>2024-01-08</td>\n",
       "      <td>10.90</td>\n",
       "      <td>2024-01-08</td>\n",
       "      <td>8.985</td>\n",
       "      <td>2024-01-08</td>\n",
       "      <td>10.63</td>\n",
       "      <td>2024-01-08</td>\n",
       "      <td>8.48</td>\n",
       "      <td>2024-01-08</td>\n",
       "      <td>8.78</td>\n",
       "    </tr>\n",
       "  </tbody>\n",
       "</table>\n",
       "</div>"
      ],
      "text/plain": [
       "        LVWR  LVWR.1       TLSI  TLSI.1       AFRI  AFRI.1       CLBT  CLBT.1  \\\n",
       "0 2024-01-02   10.89 2024-01-02   8.250 2024-01-02   10.59 2024-01-02    8.43   \n",
       "1 2024-01-03   11.61 2024-01-03   8.090 2024-01-03   10.69 2024-01-03    8.20   \n",
       "2 2024-01-04   11.62 2024-01-04   8.330 2024-01-04   10.68 2024-01-04    8.22   \n",
       "3 2024-01-05   11.18 2024-01-05   8.790 2024-01-05   10.68 2024-01-05    8.23   \n",
       "4 2024-01-08   10.90 2024-01-08   8.985 2024-01-08   10.63 2024-01-08    8.48   \n",
       "\n",
       "        GRND  GRND.1  \n",
       "0 2024-01-02    8.56  \n",
       "1 2024-01-03    8.20  \n",
       "2 2024-01-04    8.33  \n",
       "3 2024-01-05    8.30  \n",
       "4 2024-01-08    8.78  "
      ]
     },
     "execution_count": 3,
     "metadata": {},
     "output_type": "execute_result"
    }
   ],
   "source": [
    "df.head()"
   ]
  },
  {
   "cell_type": "code",
   "execution_count": null,
   "id": "b7e1515f",
   "metadata": {},
   "outputs": [],
   "source": []
  }
 ],
 "metadata": {
  "kernelspec": {
   "display_name": "leffertz py3.12",
   "language": "python",
   "name": "leffertz-py312-env"
  },
  "language_info": {
   "codemirror_mode": {
    "name": "ipython",
    "version": 3
   },
   "file_extension": ".py",
   "mimetype": "text/x-python",
   "name": "python",
   "nbconvert_exporter": "python",
   "pygments_lexer": "ipython3",
   "version": "3.12.3"
  }
 },
 "nbformat": 4,
 "nbformat_minor": 5
}
