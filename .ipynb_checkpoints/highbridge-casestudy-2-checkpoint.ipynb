{
 "cells": [
  {
   "cell_type": "markdown",
   "id": "ac95fb9d",
   "metadata": {},
   "source": [
    "#### imports and function definitions"
   ]
  },
  {
   "cell_type": "code",
   "execution_count": 1,
   "id": "e75ca1c3",
   "metadata": {},
   "outputs": [],
   "source": [
    "import pandas as pd\n",
    "\n",
    "def load_positions():\n",
    "\n",
    "    fund_pos = {\n",
    "        'USCB-ABSD_4.25_1/26': ['USCB', 'ABSD_4.25_1/26', 'Convertible Bond', 106.25, 1000.00, 1000000.00, 1064093.75],\n",
    "        'WWCB-ABSD_4.25_1/26': ['WWCB', 'ABSD_4.25_1/26', 'Convertible Bond', 106.25, 5000.00, 5000000.00, 5320468.75]\n",
    "    }\n",
    "\n",
    "    df = pd.DataFrame.from_dict(fund_pos, orient='index', columns=['fund_code', 'security_name', 'security_type', 'mark', 'quantity', 'notional', 'market_value'])    \n",
    "    df = df.join(df_fund_pos_tgt, how='left')    \n",
    "    df = df.join(df_fund_navs[['nav']], on='fund_code')    \n",
    "    df['exposure_%_nav'] = df['market_value'] / df['nav']\n",
    "    \n",
    "    return df\n",
    "\n",
    "def load_trades(fields):\n",
    "\n",
    "    trades = {\n",
    "        1: fields\n",
    "    }\n",
    "\n",
    "    return pd.DataFrame.from_dict(trades, orient='index', columns=['security_name', 'security_type', 'price', 'quantity', 'notional', 'timestamp'])\n",
    "\n",
    "def load_fund_position_targets():\n",
    "    \n",
    "    fund_pos_tgt= {\n",
    "        'USCB-ABSD_4.25_1/26': [0.02],\n",
    "        'WWCB-ABSD_4.25_1/26': [0.015],\n",
    "        'MSFD-ABSD_4.25_1/26': [0.0075],\n",
    "        'DDFD-ABSD_4.25_1/26': [0.03],\n",
    "        'DFD2-ABSD_4.25_1/26': [0.05]\n",
    "    }\n",
    "\n",
    "    df_fund_pos_tgt = pd.DataFrame.from_dict(fund_pos_tgt, orient='index', columns=['default_exposure_target_%_nav'])\n",
    "    \n",
    "    return df_fund_pos_tgt\n",
    "\n",
    "def load_fund_navs(funds=None):\n",
    "    \n",
    "    fund_navs = {\n",
    "        'USCB': ['US CB Fund', 1128462384],\n",
    "        'WWCB': ['Global CB Fund', 389452323],\n",
    "        'MSFD': ['Multi-strat Fund', 2879546658],\n",
    "        'DDFD': ['Drawdown Fund 1', 200000000],\n",
    "        'DFD2': ['Drawdown Fund 2', 104000000]\n",
    "    }\n",
    "    \n",
    "    df_fund_navs = pd.DataFrame.from_dict(fund_navs, orient='index', columns=['fund_name', 'nav'])\n",
    "    if funds is None:\n",
    "        df_fund_navs['nav_%_firm'] = df_fund_navs['nav'] / df_fund_navs['nav'].sum()\n",
    "        return df_fund_navs\n",
    "    else:\n",
    "        df_fund_navs.loc[funds, 'nav_%_firm'] = df_fund_navs.loc[funds, 'nav'] / df_fund_navs.loc[funds, 'nav'].sum()\n",
    "        return df_fund_navs.loc[funds]\n",
    "\n",
    "def update_position_exposure(trade_price):\n",
    "\n",
    "    df_fund_pos.loc[df_fund_pos['security_name'] == trade['security_name'].iloc[0], 'mark'] = trade['price'].iloc[0]\n",
    "    df_fund_pos['market_value'] = df_fund_pos['notional'] * df_fund_pos['mark'] * 0.01\n",
    "    df_fund_pos['exposure_%_nav'] = df_fund_pos['market_value'] / df_fund_pos['nav']    \n",
    "    \n",
    "def update_position_exposure(trade):\n",
    "\n",
    "    df_fund_pos.loc[df_fund_pos['security_name'] == trade['security_name'].iloc[0], 'mark'] = trade['price'].iloc[0]\n",
    "    df_fund_pos['market_value'] = df_fund_pos['notional'] * df_fund_pos['mark'] * 0.01\n",
    "    df_fund_pos['exposure_%_nav'] = df_fund_pos['market_value'] / df_fund_pos['nav']    \n",
    "    \n",
    "def allocate_trade(trade, funds=None):\n",
    "    \n",
    "    if funds is None:\n",
    "        df_alloc = df_fund_navs[['nav_%_firm']].mul(trade['notional'].iloc[0])\n",
    "    else:\n",
    "        df_alloc = df_fund_navs.loc[funds][['nav_%_firm']].mul(trade['notional'].iloc[0])\n",
    "    df_alloc.index = df_alloc.index.values + '-'+ trade['security_name'].iloc[0]\n",
    "    df_alloc.rename(columns={'nav_%_firm': 'notional'}, inplace=True)\n",
    "    df_alloc['price'] = trade['price'].iloc[0]\n",
    "    \n",
    "    return df_alloc\n",
    "\n",
    "def apply_allocations(allocs):\n",
    "    \n",
    "    for k, v in allocs.iterrows():\n",
    "        try:\n",
    "            df_fund_pos.loc[k, 'notional'] = df_fund_pos.loc[k, 'notional'] + v['notional']\n",
    "            df_fund_pos['market_value'] = df_fund_pos['notional'] * df_fund_pos['mark'] * 0.01\n",
    "            df_fund_pos['exposure_%_nav'] = df_fund_pos['market_value'] / df_fund_pos['nav']  \n",
    "        except KeyError:\n",
    "            df_fund_pos.loc[k, 'notional'] = v['notional']\n",
    "            df_fund_pos.loc[k, 'fund_code'] = k.split('-')[0]\n",
    "            df_fund_pos.loc[k, 'security_name'] = k.split('-')[1]            \n",
    "            df_fund_pos.loc[k, 'mark'] = v['price']\n",
    "            df_fund_pos.loc[k, 'market_value'] = df_fund_pos.loc[k, 'notional'] * df_fund_pos.loc[k, 'mark'] * 0.01\n",
    "            df_fund_pos.loc[k, 'nav'] = df_fund_navs.loc[k.split('-')[0]]['nav']\n",
    "            df_fund_pos.loc[k, 'exposure_%_nav'] = df_fund_pos.loc[k, 'market_value'] / df_fund_pos.loc[k, 'nav']\n",
    "            try:\n",
    "                df_fund_pos.loc[k, 'default_exposure_target_%_nav'] = df_fund_pos_tgt.loc[k, 'default_exposure_target_%_nav']\n",
    "            except:\n",
    "                print(f'No default exposure target set for {k}')"
   ]
  },
  {
   "cell_type": "markdown",
   "id": "6d0326d8",
   "metadata": {},
   "source": [
    "### 1) Sketch a logic framework that will provide the basis to allocate this trade based on the information given and any necessary assumptions"
   ]
  },
  {
   "cell_type": "code",
   "execution_count": 2,
   "id": "cdf28c7a",
   "metadata": {},
   "outputs": [
    {
     "name": "stdout",
     "output_type": "stream",
     "text": [
      "1) Update existing fund position sizes based on traded price and re-calculate current position exposures\n",
      "2) Generate baseline trade allocations pro rata using fund NAV\n",
      "3) Apply allocations to existing positions and re-evaluate exposure\n",
      "4) If any position target exposures are set and are exceeded by the baseline trade allocations, \n",
      "\tapply excess pro rata to remaining funds\n",
      "5) Repeat step 4 as needed\n"
     ]
    }
   ],
   "source": [
    "print(f\"1) Update existing fund position sizes based on traded price and re-calculate current position exposures\")\n",
    "print(f\"2) Generate baseline trade allocations pro rata using fund NAV\")\n",
    "print(f\"3) Apply allocations to existing positions and re-evaluate exposure\")\n",
    "print(f\"4) If any position target exposures are set and are exceeded by the baseline trade allocations, \")\n",
    "print(f\"\\tapply excess pro rata to remaining funds\")\n",
    "print(f\"5) Repeat step 4 as needed\")"
   ]
  },
  {
   "cell_type": "markdown",
   "id": "b1102eba",
   "metadata": {},
   "source": [
    "### Allocation steps using trade 1"
   ]
  },
  {
   "cell_type": "markdown",
   "id": "54e30192",
   "metadata": {},
   "source": [
    "#### Load dependent data"
   ]
  },
  {
   "cell_type": "code",
   "execution_count": 3,
   "id": "221fc101",
   "metadata": {},
   "outputs": [],
   "source": [
    "df_fund_navs = load_fund_navs()\n",
    "df_fund_pos_tgt = load_fund_position_targets()\n",
    "df_fund_pos = load_positions()"
   ]
  },
  {
   "cell_type": "markdown",
   "id": "f5ec9e60",
   "metadata": {},
   "source": [
    "#### Set trade to allocate"
   ]
  },
  {
   "cell_type": "code",
   "execution_count": 4,
   "id": "41d9ef07",
   "metadata": {},
   "outputs": [],
   "source": [
    "df_trades = load_trades(fields=['ABSD_4.25_1/26', 'Convertible Bond', 105.375, 10000, 10000000, '10:15 AM'])"
   ]
  },
  {
   "cell_type": "markdown",
   "id": "d2dd995f",
   "metadata": {},
   "source": [
    "#### update existing position exposure based on traded price"
   ]
  },
  {
   "cell_type": "code",
   "execution_count": 5,
   "id": "cbe404f4",
   "metadata": {},
   "outputs": [
    {
     "name": "stdout",
     "output_type": "stream",
     "text": [
      "before...\n"
     ]
    },
    {
     "data": {
      "text/html": [
       "<div>\n",
       "<style scoped>\n",
       "    .dataframe tbody tr th:only-of-type {\n",
       "        vertical-align: middle;\n",
       "    }\n",
       "\n",
       "    .dataframe tbody tr th {\n",
       "        vertical-align: top;\n",
       "    }\n",
       "\n",
       "    .dataframe thead th {\n",
       "        text-align: right;\n",
       "    }\n",
       "</style>\n",
       "<table border=\"1\" class=\"dataframe\">\n",
       "  <thead>\n",
       "    <tr style=\"text-align: right;\">\n",
       "      <th></th>\n",
       "      <th>fund_code</th>\n",
       "      <th>security_name</th>\n",
       "      <th>exposure_%_nav</th>\n",
       "      <th>default_exposure_target_%_nav</th>\n",
       "    </tr>\n",
       "  </thead>\n",
       "  <tbody>\n",
       "    <tr>\n",
       "      <th>USCB-ABSD_4.25_1/26</th>\n",
       "      <td>USCB</td>\n",
       "      <td>ABSD_4.25_1/26</td>\n",
       "      <td>0.09%</td>\n",
       "      <td>2.00%</td>\n",
       "    </tr>\n",
       "    <tr>\n",
       "      <th>WWCB-ABSD_4.25_1/26</th>\n",
       "      <td>WWCB</td>\n",
       "      <td>ABSD_4.25_1/26</td>\n",
       "      <td>1.37%</td>\n",
       "      <td>1.50%</td>\n",
       "    </tr>\n",
       "  </tbody>\n",
       "</table>\n",
       "</div>"
      ],
      "text/plain": [
       "                    fund_code   security_name  exposure_%_nav   \n",
       "USCB-ABSD_4.25_1/26      USCB  ABSD_4.25_1/26           0.09%  \\\n",
       "WWCB-ABSD_4.25_1/26      WWCB  ABSD_4.25_1/26           1.37%   \n",
       "\n",
       "                     default_exposure_target_%_nav  \n",
       "USCB-ABSD_4.25_1/26                          2.00%  \n",
       "WWCB-ABSD_4.25_1/26                          1.50%  "
      ]
     },
     "metadata": {},
     "output_type": "display_data"
    },
    {
     "name": "stdout",
     "output_type": "stream",
     "text": [
      "after...\n"
     ]
    },
    {
     "data": {
      "text/html": [
       "<div>\n",
       "<style scoped>\n",
       "    .dataframe tbody tr th:only-of-type {\n",
       "        vertical-align: middle;\n",
       "    }\n",
       "\n",
       "    .dataframe tbody tr th {\n",
       "        vertical-align: top;\n",
       "    }\n",
       "\n",
       "    .dataframe thead th {\n",
       "        text-align: right;\n",
       "    }\n",
       "</style>\n",
       "<table border=\"1\" class=\"dataframe\">\n",
       "  <thead>\n",
       "    <tr style=\"text-align: right;\">\n",
       "      <th></th>\n",
       "      <th>fund_code</th>\n",
       "      <th>security_name</th>\n",
       "      <th>exposure_%_nav</th>\n",
       "      <th>default_exposure_target_%_nav</th>\n",
       "    </tr>\n",
       "  </thead>\n",
       "  <tbody>\n",
       "    <tr>\n",
       "      <th>USCB-ABSD_4.25_1/26</th>\n",
       "      <td>USCB</td>\n",
       "      <td>ABSD_4.25_1/26</td>\n",
       "      <td>0.09%</td>\n",
       "      <td>2.00%</td>\n",
       "    </tr>\n",
       "    <tr>\n",
       "      <th>WWCB-ABSD_4.25_1/26</th>\n",
       "      <td>WWCB</td>\n",
       "      <td>ABSD_4.25_1/26</td>\n",
       "      <td>1.35%</td>\n",
       "      <td>1.50%</td>\n",
       "    </tr>\n",
       "  </tbody>\n",
       "</table>\n",
       "</div>"
      ],
      "text/plain": [
       "                    fund_code   security_name  exposure_%_nav   \n",
       "USCB-ABSD_4.25_1/26      USCB  ABSD_4.25_1/26           0.09%  \\\n",
       "WWCB-ABSD_4.25_1/26      WWCB  ABSD_4.25_1/26           1.35%   \n",
       "\n",
       "                     default_exposure_target_%_nav  \n",
       "USCB-ABSD_4.25_1/26                          2.00%  \n",
       "WWCB-ABSD_4.25_1/26                          1.50%  "
      ]
     },
     "metadata": {},
     "output_type": "display_data"
    }
   ],
   "source": [
    "pd.options.display.float_format = '{:.2%}'.format\n",
    "\n",
    "print(\"before...\")\n",
    "display(df_fund_pos[['fund_code', 'security_name', 'exposure_%_nav', 'default_exposure_target_%_nav']])\n",
    "\n",
    "print(\"after...\")\n",
    "update_position_exposure(df_trades.iloc[[0]])\n",
    "display(df_fund_pos[['fund_code', 'security_name', 'exposure_%_nav', 'default_exposure_target_%_nav']])"
   ]
  },
  {
   "cell_type": "markdown",
   "id": "67d6d92a",
   "metadata": {},
   "source": [
    "#### allocate trade pro rata based on NAV"
   ]
  },
  {
   "cell_type": "code",
   "execution_count": 6,
   "id": "4fa1a04d",
   "metadata": {},
   "outputs": [
    {
     "data": {
      "text/html": [
       "<div>\n",
       "<style scoped>\n",
       "    .dataframe tbody tr th:only-of-type {\n",
       "        vertical-align: middle;\n",
       "    }\n",
       "\n",
       "    .dataframe tbody tr th {\n",
       "        vertical-align: top;\n",
       "    }\n",
       "\n",
       "    .dataframe thead th {\n",
       "        text-align: right;\n",
       "    }\n",
       "</style>\n",
       "<table border=\"1\" class=\"dataframe\">\n",
       "  <thead>\n",
       "    <tr style=\"text-align: right;\">\n",
       "      <th></th>\n",
       "      <th>notional</th>\n",
       "    </tr>\n",
       "  </thead>\n",
       "  <tbody>\n",
       "    <tr>\n",
       "      <th>USCB-ABSD_4.25_1/26</th>\n",
       "      <td>2,400,237</td>\n",
       "    </tr>\n",
       "    <tr>\n",
       "      <th>WWCB-ABSD_4.25_1/26</th>\n",
       "      <td>828,364</td>\n",
       "    </tr>\n",
       "    <tr>\n",
       "      <th>MSFD-ABSD_4.25_1/26</th>\n",
       "      <td>6,124,791</td>\n",
       "    </tr>\n",
       "    <tr>\n",
       "      <th>DDFD-ABSD_4.25_1/26</th>\n",
       "      <td>425,400</td>\n",
       "    </tr>\n",
       "    <tr>\n",
       "      <th>DFD2-ABSD_4.25_1/26</th>\n",
       "      <td>221,208</td>\n",
       "    </tr>\n",
       "  </tbody>\n",
       "</table>\n",
       "</div>"
      ],
      "text/plain": [
       "                     notional\n",
       "USCB-ABSD_4.25_1/26 2,400,237\n",
       "WWCB-ABSD_4.25_1/26   828,364\n",
       "MSFD-ABSD_4.25_1/26 6,124,791\n",
       "DDFD-ABSD_4.25_1/26   425,400\n",
       "DFD2-ABSD_4.25_1/26   221,208"
      ]
     },
     "metadata": {},
     "output_type": "display_data"
    }
   ],
   "source": [
    "pd.options.display.float_format = '{:,.0f}'.format\n",
    "\n",
    "allocs = allocate_trade(df_trades.loc[[1,]])\n",
    "display(allocs[['notional']])"
   ]
  },
  {
   "cell_type": "markdown",
   "id": "d31982f1",
   "metadata": {},
   "source": [
    "#### apply allocations to existing positions and re-evaluate exposure"
   ]
  },
  {
   "cell_type": "code",
   "execution_count": 7,
   "id": "9558f77f",
   "metadata": {},
   "outputs": [
    {
     "name": "stdout",
     "output_type": "stream",
     "text": [
      "Firm position total\n"
     ]
    },
    {
     "data": {
      "text/html": [
       "<div>\n",
       "<style scoped>\n",
       "    .dataframe tbody tr th:only-of-type {\n",
       "        vertical-align: middle;\n",
       "    }\n",
       "\n",
       "    .dataframe tbody tr th {\n",
       "        vertical-align: top;\n",
       "    }\n",
       "\n",
       "    .dataframe thead th {\n",
       "        text-align: right;\n",
       "    }\n",
       "</style>\n",
       "<table border=\"1\" class=\"dataframe\">\n",
       "  <thead>\n",
       "    <tr style=\"text-align: right;\">\n",
       "      <th></th>\n",
       "      <th>notional</th>\n",
       "      <th>mark</th>\n",
       "      <th>market_value</th>\n",
       "    </tr>\n",
       "    <tr>\n",
       "      <th>security_name</th>\n",
       "      <th></th>\n",
       "      <th></th>\n",
       "      <th></th>\n",
       "    </tr>\n",
       "  </thead>\n",
       "  <tbody>\n",
       "    <tr>\n",
       "      <th>ABSD_4.25_1/26</th>\n",
       "      <td>16,000,000</td>\n",
       "      <td>527</td>\n",
       "      <td>16,860,000</td>\n",
       "    </tr>\n",
       "  </tbody>\n",
       "</table>\n",
       "</div>"
      ],
      "text/plain": [
       "                 notional  mark  market_value\n",
       "security_name                                \n",
       "ABSD_4.25_1/26 16,000,000   527    16,860,000"
      ]
     },
     "metadata": {},
     "output_type": "display_data"
    },
    {
     "name": "stdout",
     "output_type": "stream",
     "text": [
      "Updated position sizes\n"
     ]
    },
    {
     "data": {
      "text/html": [
       "<div>\n",
       "<style scoped>\n",
       "    .dataframe tbody tr th:only-of-type {\n",
       "        vertical-align: middle;\n",
       "    }\n",
       "\n",
       "    .dataframe tbody tr th {\n",
       "        vertical-align: top;\n",
       "    }\n",
       "\n",
       "    .dataframe thead th {\n",
       "        text-align: right;\n",
       "    }\n",
       "</style>\n",
       "<table border=\"1\" class=\"dataframe\">\n",
       "  <thead>\n",
       "    <tr style=\"text-align: right;\">\n",
       "      <th></th>\n",
       "      <th>fund_code</th>\n",
       "      <th>security_name</th>\n",
       "      <th>notional</th>\n",
       "      <th>mark</th>\n",
       "      <th>market_value</th>\n",
       "    </tr>\n",
       "  </thead>\n",
       "  <tbody>\n",
       "    <tr>\n",
       "      <th>USCB-ABSD_4.25_1/26</th>\n",
       "      <td>USCB</td>\n",
       "      <td>ABSD_4.25_1/26</td>\n",
       "      <td>3,400,237</td>\n",
       "      <td>105</td>\n",
       "      <td>3,583,000</td>\n",
       "    </tr>\n",
       "    <tr>\n",
       "      <th>WWCB-ABSD_4.25_1/26</th>\n",
       "      <td>WWCB</td>\n",
       "      <td>ABSD_4.25_1/26</td>\n",
       "      <td>5,828,364</td>\n",
       "      <td>105</td>\n",
       "      <td>6,141,639</td>\n",
       "    </tr>\n",
       "    <tr>\n",
       "      <th>MSFD-ABSD_4.25_1/26</th>\n",
       "      <td>MSFD</td>\n",
       "      <td>ABSD_4.25_1/26</td>\n",
       "      <td>6,124,791</td>\n",
       "      <td>105</td>\n",
       "      <td>6,453,998</td>\n",
       "    </tr>\n",
       "    <tr>\n",
       "      <th>DDFD-ABSD_4.25_1/26</th>\n",
       "      <td>DDFD</td>\n",
       "      <td>ABSD_4.25_1/26</td>\n",
       "      <td>425,400</td>\n",
       "      <td>105</td>\n",
       "      <td>448,265</td>\n",
       "    </tr>\n",
       "    <tr>\n",
       "      <th>DFD2-ABSD_4.25_1/26</th>\n",
       "      <td>DFD2</td>\n",
       "      <td>ABSD_4.25_1/26</td>\n",
       "      <td>221,208</td>\n",
       "      <td>105</td>\n",
       "      <td>233,098</td>\n",
       "    </tr>\n",
       "  </tbody>\n",
       "</table>\n",
       "</div>"
      ],
      "text/plain": [
       "                    fund_code   security_name  notional  mark  market_value\n",
       "USCB-ABSD_4.25_1/26      USCB  ABSD_4.25_1/26 3,400,237   105     3,583,000\n",
       "WWCB-ABSD_4.25_1/26      WWCB  ABSD_4.25_1/26 5,828,364   105     6,141,639\n",
       "MSFD-ABSD_4.25_1/26      MSFD  ABSD_4.25_1/26 6,124,791   105     6,453,998\n",
       "DDFD-ABSD_4.25_1/26      DDFD  ABSD_4.25_1/26   425,400   105       448,265\n",
       "DFD2-ABSD_4.25_1/26      DFD2  ABSD_4.25_1/26   221,208   105       233,098"
      ]
     },
     "metadata": {},
     "output_type": "display_data"
    },
    {
     "name": "stdout",
     "output_type": "stream",
     "text": [
      "Updated position exposures\n"
     ]
    },
    {
     "data": {
      "text/html": [
       "<div>\n",
       "<style scoped>\n",
       "    .dataframe tbody tr th:only-of-type {\n",
       "        vertical-align: middle;\n",
       "    }\n",
       "\n",
       "    .dataframe tbody tr th {\n",
       "        vertical-align: top;\n",
       "    }\n",
       "\n",
       "    .dataframe thead th {\n",
       "        text-align: right;\n",
       "    }\n",
       "</style>\n",
       "<table border=\"1\" class=\"dataframe\">\n",
       "  <thead>\n",
       "    <tr style=\"text-align: right;\">\n",
       "      <th></th>\n",
       "      <th>exposure_%_nav</th>\n",
       "      <th>default_exposure_target_%_nav</th>\n",
       "    </tr>\n",
       "  </thead>\n",
       "  <tbody>\n",
       "    <tr>\n",
       "      <th>USCB-ABSD_4.25_1/26</th>\n",
       "      <td>0.32%</td>\n",
       "      <td>2.00%</td>\n",
       "    </tr>\n",
       "    <tr>\n",
       "      <th>WWCB-ABSD_4.25_1/26</th>\n",
       "      <td>1.58%</td>\n",
       "      <td>1.50%</td>\n",
       "    </tr>\n",
       "    <tr>\n",
       "      <th>MSFD-ABSD_4.25_1/26</th>\n",
       "      <td>0.22%</td>\n",
       "      <td>0.75%</td>\n",
       "    </tr>\n",
       "    <tr>\n",
       "      <th>DDFD-ABSD_4.25_1/26</th>\n",
       "      <td>0.22%</td>\n",
       "      <td>3.00%</td>\n",
       "    </tr>\n",
       "    <tr>\n",
       "      <th>DFD2-ABSD_4.25_1/26</th>\n",
       "      <td>0.22%</td>\n",
       "      <td>5.00%</td>\n",
       "    </tr>\n",
       "  </tbody>\n",
       "</table>\n",
       "</div>"
      ],
      "text/plain": [
       "                     exposure_%_nav  default_exposure_target_%_nav\n",
       "USCB-ABSD_4.25_1/26           0.32%                          2.00%\n",
       "WWCB-ABSD_4.25_1/26           1.58%                          1.50%\n",
       "MSFD-ABSD_4.25_1/26           0.22%                          0.75%\n",
       "DDFD-ABSD_4.25_1/26           0.22%                          3.00%\n",
       "DFD2-ABSD_4.25_1/26           0.22%                          5.00%"
      ]
     },
     "metadata": {},
     "output_type": "display_data"
    }
   ],
   "source": [
    "apply_allocations(allocs)\n",
    "\n",
    "pd.options.display.float_format = '{:,.0f}'.format\n",
    "\n",
    "print(f\"Firm position total\")\n",
    "display(df_fund_pos.groupby('security_name')[['notional', 'mark', 'market_value']].sum())\n",
    "\n",
    "print(f\"Updated position sizes\")\n",
    "display(df_fund_pos[['fund_code', 'security_name', 'notional', 'mark', 'market_value']])\n",
    "\n",
    "print(f\"Updated position exposures\")\n",
    "pd.options.display.float_format = '{:.2%}'.format\n",
    "display(df_fund_pos[['exposure_%_nav', 'default_exposure_target_%_nav']])\n"
   ]
  },
  {
   "cell_type": "markdown",
   "id": "104ba7dc",
   "metadata": {},
   "source": [
    "#### Check if any resulting position sizes will be in excess of position target sizes"
   ]
  },
  {
   "cell_type": "code",
   "execution_count": 8,
   "id": "38b5c018",
   "metadata": {},
   "outputs": [
    {
     "data": {
      "text/html": [
       "<div>\n",
       "<style scoped>\n",
       "    .dataframe tbody tr th:only-of-type {\n",
       "        vertical-align: middle;\n",
       "    }\n",
       "\n",
       "    .dataframe tbody tr th {\n",
       "        vertical-align: top;\n",
       "    }\n",
       "\n",
       "    .dataframe thead th {\n",
       "        text-align: right;\n",
       "    }\n",
       "</style>\n",
       "<table border=\"1\" class=\"dataframe\">\n",
       "  <thead>\n",
       "    <tr style=\"text-align: right;\">\n",
       "      <th></th>\n",
       "      <th>fund_code</th>\n",
       "      <th>security_name</th>\n",
       "      <th>notional</th>\n",
       "      <th>mark</th>\n",
       "      <th>market_value</th>\n",
       "    </tr>\n",
       "  </thead>\n",
       "  <tbody>\n",
       "    <tr>\n",
       "      <th>WWCB-ABSD_4.25_1/26</th>\n",
       "      <td>WWCB</td>\n",
       "      <td>ABSD_4.25_1/26</td>\n",
       "      <td>5,828,364.40</td>\n",
       "      <td>105.38</td>\n",
       "      <td>6,141,638.99</td>\n",
       "    </tr>\n",
       "  </tbody>\n",
       "</table>\n",
       "</div>"
      ],
      "text/plain": [
       "                    fund_code   security_name     notional   mark   \n",
       "WWCB-ABSD_4.25_1/26      WWCB  ABSD_4.25_1/26 5,828,364.40 105.38  \\\n",
       "\n",
       "                     market_value  \n",
       "WWCB-ABSD_4.25_1/26  6,141,638.99  "
      ]
     },
     "execution_count": 8,
     "metadata": {},
     "output_type": "execute_result"
    }
   ],
   "source": [
    "pd.options.display.float_format = '{:,.02f}'.format\n",
    "df_fund_pos.loc[df_fund_pos['exposure_%_nav'] > df_fund_pos['default_exposure_target_%_nav']][['fund_code', 'security_name', 'notional', 'mark', 'market_value']]"
   ]
  },
  {
   "cell_type": "markdown",
   "id": "a1cd3171",
   "metadata": {},
   "source": [
    "#### Re-allocate excess "
   ]
  },
  {
   "cell_type": "code",
   "execution_count": 9,
   "id": "87948c34",
   "metadata": {},
   "outputs": [
    {
     "data": {
      "text/html": [
       "<div>\n",
       "<style scoped>\n",
       "    .dataframe tbody tr th:only-of-type {\n",
       "        vertical-align: middle;\n",
       "    }\n",
       "\n",
       "    .dataframe tbody tr th {\n",
       "        vertical-align: top;\n",
       "    }\n",
       "\n",
       "    .dataframe thead th {\n",
       "        text-align: right;\n",
       "    }\n",
       "</style>\n",
       "<table border=\"1\" class=\"dataframe\">\n",
       "  <thead>\n",
       "    <tr style=\"text-align: right;\">\n",
       "      <th></th>\n",
       "      <th>fund_code</th>\n",
       "      <th>security_name</th>\n",
       "      <th>target_overage</th>\n",
       "    </tr>\n",
       "  </thead>\n",
       "  <tbody>\n",
       "    <tr>\n",
       "      <th>WWCB-ABSD_4.25_1/26</th>\n",
       "      <td>WWCB</td>\n",
       "      <td>ABSD_4.25_1/26</td>\n",
       "      <td>299,854.14</td>\n",
       "    </tr>\n",
       "  </tbody>\n",
       "</table>\n",
       "</div>"
      ],
      "text/plain": [
       "                    fund_code   security_name  target_overage\n",
       "WWCB-ABSD_4.25_1/26      WWCB  ABSD_4.25_1/26      299,854.14"
      ]
     },
     "execution_count": 9,
     "metadata": {},
     "output_type": "execute_result"
    }
   ],
   "source": [
    "pd.options.display.float_format = '{:,.2f}'.format\n",
    "df_fund_pos['target_overage'] = (df_fund_pos['exposure_%_nav'] - df_fund_pos['default_exposure_target_%_nav']) * df_fund_pos['nav']\n",
    "df_fund_pos.loc[df_fund_pos['exposure_%_nav'] > df_fund_pos['default_exposure_target_%_nav']][['fund_code', 'security_name', 'target_overage']]"
   ]
  },
  {
   "cell_type": "code",
   "execution_count": 10,
   "id": "420c043c",
   "metadata": {},
   "outputs": [
    {
     "name": "stdout",
     "output_type": "stream",
     "text": [
      "Notional of 284,559 would need to re-allocated amongst the remaining 4 funds\n"
     ]
    }
   ],
   "source": [
    "mv_overage = df_fund_pos.loc[df_fund_pos['exposure_%_nav'] > df_fund_pos['default_exposure_target_%_nav']]['target_overage'].iloc[0]\n",
    "notional_overage = mv_overage / (df_trades.iloc[[0]]['price'].iloc[0] * 0.01)\n",
    "print(f\"Notional of {notional_overage:,.0f} would need to re-allocated amongst the remaining 4 funds\")\n",
    "\n",
    "df_trades = load_trades(fields=['ABSD_4.25_1/26', 'Convertible Bond', 105.375, 10000, notional_overage, '10:15 AM'])\n"
   ]
  },
  {
   "cell_type": "code",
   "execution_count": 11,
   "id": "f3457f69",
   "metadata": {},
   "outputs": [
    {
     "name": "stdout",
     "output_type": "stream",
     "text": [
      "Adjusted allocations\n"
     ]
    },
    {
     "data": {
      "text/html": [
       "<div>\n",
       "<style scoped>\n",
       "    .dataframe tbody tr th:only-of-type {\n",
       "        vertical-align: middle;\n",
       "    }\n",
       "\n",
       "    .dataframe tbody tr th {\n",
       "        vertical-align: top;\n",
       "    }\n",
       "\n",
       "    .dataframe thead th {\n",
       "        text-align: right;\n",
       "    }\n",
       "</style>\n",
       "<table border=\"1\" class=\"dataframe\">\n",
       "  <thead>\n",
       "    <tr style=\"text-align: right;\">\n",
       "      <th></th>\n",
       "      <th>notional</th>\n",
       "      <th>price</th>\n",
       "    </tr>\n",
       "  </thead>\n",
       "  <tbody>\n",
       "    <tr>\n",
       "      <th>USCB-ABSD_4.25_1/26</th>\n",
       "      <td>74,470</td>\n",
       "      <td>105</td>\n",
       "    </tr>\n",
       "    <tr>\n",
       "      <th>MSFD-ABSD_4.25_1/26</th>\n",
       "      <td>190,028</td>\n",
       "      <td>105</td>\n",
       "    </tr>\n",
       "    <tr>\n",
       "      <th>DDFD-ABSD_4.25_1/26</th>\n",
       "      <td>13,198</td>\n",
       "      <td>105</td>\n",
       "    </tr>\n",
       "    <tr>\n",
       "      <th>DFD2-ABSD_4.25_1/26</th>\n",
       "      <td>6,863</td>\n",
       "      <td>105</td>\n",
       "    </tr>\n",
       "    <tr>\n",
       "      <th>WWCB-ABSD_4.25_1/26</th>\n",
       "      <td>-284,559</td>\n",
       "      <td>105</td>\n",
       "    </tr>\n",
       "  </tbody>\n",
       "</table>\n",
       "</div>"
      ],
      "text/plain": [
       "                     notional  price\n",
       "USCB-ABSD_4.25_1/26    74,470    105\n",
       "MSFD-ABSD_4.25_1/26   190,028    105\n",
       "DDFD-ABSD_4.25_1/26    13,198    105\n",
       "DFD2-ABSD_4.25_1/26     6,863    105\n",
       "WWCB-ABSD_4.25_1/26  -284,559    105"
      ]
     },
     "metadata": {},
     "output_type": "display_data"
    },
    {
     "name": "stdout",
     "output_type": "stream",
     "text": [
      "Firm position total\n"
     ]
    },
    {
     "data": {
      "text/html": [
       "<div>\n",
       "<style scoped>\n",
       "    .dataframe tbody tr th:only-of-type {\n",
       "        vertical-align: middle;\n",
       "    }\n",
       "\n",
       "    .dataframe tbody tr th {\n",
       "        vertical-align: top;\n",
       "    }\n",
       "\n",
       "    .dataframe thead th {\n",
       "        text-align: right;\n",
       "    }\n",
       "</style>\n",
       "<table border=\"1\" class=\"dataframe\">\n",
       "  <thead>\n",
       "    <tr style=\"text-align: right;\">\n",
       "      <th></th>\n",
       "      <th>notional</th>\n",
       "      <th>market_value</th>\n",
       "    </tr>\n",
       "    <tr>\n",
       "      <th>security_name</th>\n",
       "      <th></th>\n",
       "      <th></th>\n",
       "    </tr>\n",
       "  </thead>\n",
       "  <tbody>\n",
       "    <tr>\n",
       "      <th>ABSD_4.25_1/26</th>\n",
       "      <td>16,000,000</td>\n",
       "      <td>16,860,000</td>\n",
       "    </tr>\n",
       "  </tbody>\n",
       "</table>\n",
       "</div>"
      ],
      "text/plain": [
       "                 notional  market_value\n",
       "security_name                          \n",
       "ABSD_4.25_1/26 16,000,000    16,860,000"
      ]
     },
     "metadata": {},
     "output_type": "display_data"
    },
    {
     "name": "stdout",
     "output_type": "stream",
     "text": [
      "Updated position sizes\n"
     ]
    },
    {
     "data": {
      "text/html": [
       "<div>\n",
       "<style scoped>\n",
       "    .dataframe tbody tr th:only-of-type {\n",
       "        vertical-align: middle;\n",
       "    }\n",
       "\n",
       "    .dataframe tbody tr th {\n",
       "        vertical-align: top;\n",
       "    }\n",
       "\n",
       "    .dataframe thead th {\n",
       "        text-align: right;\n",
       "    }\n",
       "</style>\n",
       "<table border=\"1\" class=\"dataframe\">\n",
       "  <thead>\n",
       "    <tr style=\"text-align: right;\">\n",
       "      <th></th>\n",
       "      <th>fund_code</th>\n",
       "      <th>security_name</th>\n",
       "      <th>notional</th>\n",
       "      <th>mark</th>\n",
       "      <th>market_value</th>\n",
       "    </tr>\n",
       "  </thead>\n",
       "  <tbody>\n",
       "    <tr>\n",
       "      <th>USCB-ABSD_4.25_1/26</th>\n",
       "      <td>USCB</td>\n",
       "      <td>ABSD_4.25_1/26</td>\n",
       "      <td>3,474,707</td>\n",
       "      <td>105</td>\n",
       "      <td>3,661,473</td>\n",
       "    </tr>\n",
       "    <tr>\n",
       "      <th>WWCB-ABSD_4.25_1/26</th>\n",
       "      <td>WWCB</td>\n",
       "      <td>ABSD_4.25_1/26</td>\n",
       "      <td>5,543,805</td>\n",
       "      <td>105</td>\n",
       "      <td>5,841,785</td>\n",
       "    </tr>\n",
       "    <tr>\n",
       "      <th>MSFD-ABSD_4.25_1/26</th>\n",
       "      <td>MSFD</td>\n",
       "      <td>ABSD_4.25_1/26</td>\n",
       "      <td>6,314,818</td>\n",
       "      <td>105</td>\n",
       "      <td>6,654,240</td>\n",
       "    </tr>\n",
       "    <tr>\n",
       "      <th>DDFD-ABSD_4.25_1/26</th>\n",
       "      <td>DDFD</td>\n",
       "      <td>ABSD_4.25_1/26</td>\n",
       "      <td>438,598</td>\n",
       "      <td>105</td>\n",
       "      <td>462,173</td>\n",
       "    </tr>\n",
       "    <tr>\n",
       "      <th>DFD2-ABSD_4.25_1/26</th>\n",
       "      <td>DFD2</td>\n",
       "      <td>ABSD_4.25_1/26</td>\n",
       "      <td>228,071</td>\n",
       "      <td>105</td>\n",
       "      <td>240,330</td>\n",
       "    </tr>\n",
       "  </tbody>\n",
       "</table>\n",
       "</div>"
      ],
      "text/plain": [
       "                    fund_code   security_name  notional  mark  market_value\n",
       "USCB-ABSD_4.25_1/26      USCB  ABSD_4.25_1/26 3,474,707   105     3,661,473\n",
       "WWCB-ABSD_4.25_1/26      WWCB  ABSD_4.25_1/26 5,543,805   105     5,841,785\n",
       "MSFD-ABSD_4.25_1/26      MSFD  ABSD_4.25_1/26 6,314,818   105     6,654,240\n",
       "DDFD-ABSD_4.25_1/26      DDFD  ABSD_4.25_1/26   438,598   105       462,173\n",
       "DFD2-ABSD_4.25_1/26      DFD2  ABSD_4.25_1/26   228,071   105       240,330"
      ]
     },
     "metadata": {},
     "output_type": "display_data"
    },
    {
     "name": "stdout",
     "output_type": "stream",
     "text": [
      "Updated position exposures\n"
     ]
    },
    {
     "data": {
      "text/html": [
       "<div>\n",
       "<style scoped>\n",
       "    .dataframe tbody tr th:only-of-type {\n",
       "        vertical-align: middle;\n",
       "    }\n",
       "\n",
       "    .dataframe tbody tr th {\n",
       "        vertical-align: top;\n",
       "    }\n",
       "\n",
       "    .dataframe thead th {\n",
       "        text-align: right;\n",
       "    }\n",
       "</style>\n",
       "<table border=\"1\" class=\"dataframe\">\n",
       "  <thead>\n",
       "    <tr style=\"text-align: right;\">\n",
       "      <th></th>\n",
       "      <th>exposure_%_nav</th>\n",
       "      <th>default_exposure_target_%_nav</th>\n",
       "    </tr>\n",
       "  </thead>\n",
       "  <tbody>\n",
       "    <tr>\n",
       "      <th>USCB-ABSD_4.25_1/26</th>\n",
       "      <td>0.32%</td>\n",
       "      <td>2.00%</td>\n",
       "    </tr>\n",
       "    <tr>\n",
       "      <th>WWCB-ABSD_4.25_1/26</th>\n",
       "      <td>1.50%</td>\n",
       "      <td>1.50%</td>\n",
       "    </tr>\n",
       "    <tr>\n",
       "      <th>MSFD-ABSD_4.25_1/26</th>\n",
       "      <td>0.23%</td>\n",
       "      <td>0.75%</td>\n",
       "    </tr>\n",
       "    <tr>\n",
       "      <th>DDFD-ABSD_4.25_1/26</th>\n",
       "      <td>0.23%</td>\n",
       "      <td>3.00%</td>\n",
       "    </tr>\n",
       "    <tr>\n",
       "      <th>DFD2-ABSD_4.25_1/26</th>\n",
       "      <td>0.23%</td>\n",
       "      <td>5.00%</td>\n",
       "    </tr>\n",
       "  </tbody>\n",
       "</table>\n",
       "</div>"
      ],
      "text/plain": [
       "                     exposure_%_nav  default_exposure_target_%_nav\n",
       "USCB-ABSD_4.25_1/26           0.32%                          2.00%\n",
       "WWCB-ABSD_4.25_1/26           1.50%                          1.50%\n",
       "MSFD-ABSD_4.25_1/26           0.23%                          0.75%\n",
       "DDFD-ABSD_4.25_1/26           0.23%                          3.00%\n",
       "DFD2-ABSD_4.25_1/26           0.23%                          5.00%"
      ]
     },
     "metadata": {},
     "output_type": "display_data"
    }
   ],
   "source": [
    "df_fund_navs = load_fund_navs(funds=['USCB', 'MSFD', 'DDFD', 'DFD2'])\n",
    "allocs = allocate_trade(df_trades.loc[[1,]], funds=['USCB', 'MSFD', 'DDFD', 'DFD2'])\n",
    "\n",
    "allocs.loc['WWCB-ABSD_4.25_1/26', 'notional'] = -notional_overage\n",
    "allocs.loc['WWCB-ABSD_4.25_1/26', 'price'] = df_trades.iloc[[0]]['price'].iloc[0]\n",
    "\n",
    "print(f\"Adjusted allocations\")\n",
    "pd.options.display.float_format = '{:,.0f}'.format\n",
    "display(allocs)\n",
    "\n",
    "apply_allocations(allocs)\n",
    "\n",
    "print(f\"Firm position total\")\n",
    "display(df_fund_pos.groupby('security_name')[['notional', 'market_value']].sum())\n",
    "\n",
    "print(f\"Updated position sizes\")\n",
    "display(df_fund_pos[['fund_code', 'security_name', 'notional', 'mark', 'market_value']])\n",
    "\n",
    "print(f\"Updated position exposures\")\n",
    "pd.options.display.float_format = '{:.2%}'.format\n",
    "display(df_fund_pos[['exposure_%_nav', 'default_exposure_target_%_nav']])\n"
   ]
  },
  {
   "cell_type": "markdown",
   "id": "69437cdd",
   "metadata": {},
   "source": [
    "#### 1a) What goals does your allocation framework achieve?"
   ]
  },
  {
   "cell_type": "code",
   "execution_count": 12,
   "id": "5867f6d1",
   "metadata": {},
   "outputs": [
    {
     "name": "stdout",
     "output_type": "stream",
     "text": [
      "Allocate a trade consistent with proportion of fund nav to total firm nav while adhering to position\n",
      "\texposure targets.\n"
     ]
    }
   ],
   "source": [
    "print(f\"Allocate a trade consistent with proportion of fund nav to total firm nav while adhering to position\")\n",
    "print(f\"\\texposure targets.\")"
   ]
  },
  {
   "cell_type": "markdown",
   "id": "c7e4a993",
   "metadata": {},
   "source": [
    "#### 1b) What are the key assumptions you made to build this framework?"
   ]
  },
  {
   "cell_type": "code",
   "execution_count": 13,
   "id": "1d5142b0",
   "metadata": {},
   "outputs": [
    {
     "name": "stdout",
     "output_type": "stream",
     "text": [
      "Default exposure target for bonds is market value regardless of bond type.\n",
      "Assumes positions are already balanced.\n",
      "Every instrument is eligible to held by each fund.\n",
      "NAVs include MTD performance.\n"
     ]
    }
   ],
   "source": [
    "print(f\"Default exposure target for bonds is market value regardless of bond type.\")\n",
    "print(f\"Assumes positions are already balanced.\")\n",
    "print(f\"Every instrument is eligible to held by each fund.\")\n",
    "print(f\"NAVs include MTD performance.\")"
   ]
  },
  {
   "cell_type": "markdown",
   "id": "3f49e3cf",
   "metadata": {},
   "source": [
    "#### 1c) Do any of these assumptions give you pause? If so, why? "
   ]
  },
  {
   "cell_type": "code",
   "execution_count": 14,
   "id": "3ffbdb38",
   "metadata": {},
   "outputs": [
    {
     "name": "stdout",
     "output_type": "stream",
     "text": [
      "The market value may not be the approriate measure to use when allocating risk of convertible bonds.\n",
      "In the first trade example the existing positions are not balanced and the resulting positions are only slightly closer\n",
      "\tto fund NAV ratios after allocation\n",
      "Not every instrument may fit within the mandate of each fund.\n"
     ]
    }
   ],
   "source": [
    "print(f\"The market value may not be the approriate measure to use when allocating risk of convertible bonds.\")\n",
    "print(f\"In the first trade example the existing positions are not balanced and the resulting positions are only slightly closer\")\n",
    "print(f\"\\tto fund NAV ratios after allocation\")\n",
    "print(f\"Not every instrument may fit within the mandate of each fund.\")"
   ]
  },
  {
   "cell_type": "markdown",
   "id": "9852b9b3",
   "metadata": {},
   "source": [
    "#### 2) How would you allocate this (the short equity) trade?"
   ]
  },
  {
   "cell_type": "code",
   "execution_count": 15,
   "id": "2306b8d9",
   "metadata": {},
   "outputs": [
    {
     "name": "stdout",
     "output_type": "stream",
     "text": [
      "Allocate pro rata with existing bond fund position sizes based on equity delta\n"
     ]
    }
   ],
   "source": [
    "print(f\"Allocate pro rata with existing bond fund position sizes based on equity delta\")"
   ]
  },
  {
   "cell_type": "code",
   "execution_count": 16,
   "id": "db95a910",
   "metadata": {},
   "outputs": [
    {
     "name": "stdout",
     "output_type": "stream",
     "text": [
      "Trade allocations\n"
     ]
    },
    {
     "data": {
      "text/html": [
       "<div>\n",
       "<style scoped>\n",
       "    .dataframe tbody tr th:only-of-type {\n",
       "        vertical-align: middle;\n",
       "    }\n",
       "\n",
       "    .dataframe tbody tr th {\n",
       "        vertical-align: top;\n",
       "    }\n",
       "\n",
       "    .dataframe thead th {\n",
       "        text-align: right;\n",
       "    }\n",
       "</style>\n",
       "<table border=\"1\" class=\"dataframe\">\n",
       "  <thead>\n",
       "    <tr style=\"text-align: right;\">\n",
       "      <th></th>\n",
       "      <th>notional</th>\n",
       "      <th>price</th>\n",
       "    </tr>\n",
       "  </thead>\n",
       "  <tbody>\n",
       "    <tr>\n",
       "      <th>USCB-ABSD_US</th>\n",
       "      <td>-14,199</td>\n",
       "      <td>2,547</td>\n",
       "    </tr>\n",
       "    <tr>\n",
       "      <th>WWCB-ABSD_US</th>\n",
       "      <td>-22,655</td>\n",
       "      <td>2,547</td>\n",
       "    </tr>\n",
       "    <tr>\n",
       "      <th>MSFD-ABSD_US</th>\n",
       "      <td>-25,806</td>\n",
       "      <td>2,547</td>\n",
       "    </tr>\n",
       "    <tr>\n",
       "      <th>DDFD-ABSD_US</th>\n",
       "      <td>-1,792</td>\n",
       "      <td>2,547</td>\n",
       "    </tr>\n",
       "    <tr>\n",
       "      <th>DFD2-ABSD_US</th>\n",
       "      <td>-932</td>\n",
       "      <td>2,547</td>\n",
       "    </tr>\n",
       "  </tbody>\n",
       "</table>\n",
       "</div>"
      ],
      "text/plain": [
       "              notional  price\n",
       "USCB-ABSD_US   -14,199  2,547\n",
       "WWCB-ABSD_US   -22,655  2,547\n",
       "MSFD-ABSD_US   -25,806  2,547\n",
       "DDFD-ABSD_US    -1,792  2,547\n",
       "DFD2-ABSD_US      -932  2,547"
      ]
     },
     "metadata": {},
     "output_type": "display_data"
    },
    {
     "name": "stdout",
     "output_type": "stream",
     "text": [
      "No default exposure target set for USCB-ABSD_US\n",
      "No default exposure target set for WWCB-ABSD_US\n",
      "No default exposure target set for MSFD-ABSD_US\n",
      "No default exposure target set for DDFD-ABSD_US\n",
      "No default exposure target set for DFD2-ABSD_US\n",
      "\n",
      "Firm position total\n"
     ]
    },
    {
     "data": {
      "text/html": [
       "<div>\n",
       "<style scoped>\n",
       "    .dataframe tbody tr th:only-of-type {\n",
       "        vertical-align: middle;\n",
       "    }\n",
       "\n",
       "    .dataframe tbody tr th {\n",
       "        vertical-align: top;\n",
       "    }\n",
       "\n",
       "    .dataframe thead th {\n",
       "        text-align: right;\n",
       "    }\n",
       "</style>\n",
       "<table border=\"1\" class=\"dataframe\">\n",
       "  <thead>\n",
       "    <tr style=\"text-align: right;\">\n",
       "      <th></th>\n",
       "      <th>notional</th>\n",
       "      <th>market_value</th>\n",
       "    </tr>\n",
       "    <tr>\n",
       "      <th>security_name</th>\n",
       "      <th></th>\n",
       "      <th></th>\n",
       "    </tr>\n",
       "  </thead>\n",
       "  <tbody>\n",
       "    <tr>\n",
       "      <th>ABSD_4.25_1/26</th>\n",
       "      <td>16,000,000</td>\n",
       "      <td>16,860,000</td>\n",
       "    </tr>\n",
       "    <tr>\n",
       "      <th>ABSD_US</th>\n",
       "      <td>-65,384</td>\n",
       "      <td>-1,665,245</td>\n",
       "    </tr>\n",
       "  </tbody>\n",
       "</table>\n",
       "</div>"
      ],
      "text/plain": [
       "                 notional  market_value\n",
       "security_name                          \n",
       "ABSD_4.25_1/26 16,000,000    16,860,000\n",
       "ABSD_US           -65,384    -1,665,245"
      ]
     },
     "metadata": {},
     "output_type": "display_data"
    },
    {
     "name": "stdout",
     "output_type": "stream",
     "text": [
      "Updated position sizes\n"
     ]
    },
    {
     "data": {
      "text/html": [
       "<div>\n",
       "<style scoped>\n",
       "    .dataframe tbody tr th:only-of-type {\n",
       "        vertical-align: middle;\n",
       "    }\n",
       "\n",
       "    .dataframe tbody tr th {\n",
       "        vertical-align: top;\n",
       "    }\n",
       "\n",
       "    .dataframe thead th {\n",
       "        text-align: right;\n",
       "    }\n",
       "</style>\n",
       "<table border=\"1\" class=\"dataframe\">\n",
       "  <thead>\n",
       "    <tr style=\"text-align: right;\">\n",
       "      <th></th>\n",
       "      <th>fund_code</th>\n",
       "      <th>security_name</th>\n",
       "      <th>notional</th>\n",
       "      <th>mark</th>\n",
       "      <th>market_value</th>\n",
       "    </tr>\n",
       "  </thead>\n",
       "  <tbody>\n",
       "    <tr>\n",
       "      <th>USCB-ABSD_4.25_1/26</th>\n",
       "      <td>USCB</td>\n",
       "      <td>ABSD_4.25_1/26</td>\n",
       "      <td>3,474,707</td>\n",
       "      <td>105</td>\n",
       "      <td>3,661,473</td>\n",
       "    </tr>\n",
       "    <tr>\n",
       "      <th>WWCB-ABSD_4.25_1/26</th>\n",
       "      <td>WWCB</td>\n",
       "      <td>ABSD_4.25_1/26</td>\n",
       "      <td>5,543,805</td>\n",
       "      <td>105</td>\n",
       "      <td>5,841,785</td>\n",
       "    </tr>\n",
       "    <tr>\n",
       "      <th>MSFD-ABSD_4.25_1/26</th>\n",
       "      <td>MSFD</td>\n",
       "      <td>ABSD_4.25_1/26</td>\n",
       "      <td>6,314,818</td>\n",
       "      <td>105</td>\n",
       "      <td>6,654,240</td>\n",
       "    </tr>\n",
       "    <tr>\n",
       "      <th>DDFD-ABSD_4.25_1/26</th>\n",
       "      <td>DDFD</td>\n",
       "      <td>ABSD_4.25_1/26</td>\n",
       "      <td>438,598</td>\n",
       "      <td>105</td>\n",
       "      <td>462,173</td>\n",
       "    </tr>\n",
       "    <tr>\n",
       "      <th>DFD2-ABSD_4.25_1/26</th>\n",
       "      <td>DFD2</td>\n",
       "      <td>ABSD_4.25_1/26</td>\n",
       "      <td>228,071</td>\n",
       "      <td>105</td>\n",
       "      <td>240,330</td>\n",
       "    </tr>\n",
       "    <tr>\n",
       "      <th>USCB-ABSD_US</th>\n",
       "      <td>USCB</td>\n",
       "      <td>ABSD_US</td>\n",
       "      <td>-14,199</td>\n",
       "      <td>2,547</td>\n",
       "      <td>-361,640</td>\n",
       "    </tr>\n",
       "    <tr>\n",
       "      <th>WWCB-ABSD_US</th>\n",
       "      <td>WWCB</td>\n",
       "      <td>ABSD_US</td>\n",
       "      <td>-22,655</td>\n",
       "      <td>2,547</td>\n",
       "      <td>-576,987</td>\n",
       "    </tr>\n",
       "    <tr>\n",
       "      <th>MSFD-ABSD_US</th>\n",
       "      <td>MSFD</td>\n",
       "      <td>ABSD_US</td>\n",
       "      <td>-25,806</td>\n",
       "      <td>2,547</td>\n",
       "      <td>-657,233</td>\n",
       "    </tr>\n",
       "    <tr>\n",
       "      <th>DDFD-ABSD_US</th>\n",
       "      <td>DDFD</td>\n",
       "      <td>ABSD_US</td>\n",
       "      <td>-1,792</td>\n",
       "      <td>2,547</td>\n",
       "      <td>-45,648</td>\n",
       "    </tr>\n",
       "    <tr>\n",
       "      <th>DFD2-ABSD_US</th>\n",
       "      <td>DFD2</td>\n",
       "      <td>ABSD_US</td>\n",
       "      <td>-932</td>\n",
       "      <td>2,547</td>\n",
       "      <td>-23,737</td>\n",
       "    </tr>\n",
       "  </tbody>\n",
       "</table>\n",
       "</div>"
      ],
      "text/plain": [
       "                    fund_code   security_name  notional  mark  market_value\n",
       "USCB-ABSD_4.25_1/26      USCB  ABSD_4.25_1/26 3,474,707   105     3,661,473\n",
       "WWCB-ABSD_4.25_1/26      WWCB  ABSD_4.25_1/26 5,543,805   105     5,841,785\n",
       "MSFD-ABSD_4.25_1/26      MSFD  ABSD_4.25_1/26 6,314,818   105     6,654,240\n",
       "DDFD-ABSD_4.25_1/26      DDFD  ABSD_4.25_1/26   438,598   105       462,173\n",
       "DFD2-ABSD_4.25_1/26      DFD2  ABSD_4.25_1/26   228,071   105       240,330\n",
       "USCB-ABSD_US             USCB         ABSD_US   -14,199 2,547      -361,640\n",
       "WWCB-ABSD_US             WWCB         ABSD_US   -22,655 2,547      -576,987\n",
       "MSFD-ABSD_US             MSFD         ABSD_US   -25,806 2,547      -657,233\n",
       "DDFD-ABSD_US             DDFD         ABSD_US    -1,792 2,547       -45,648\n",
       "DFD2-ABSD_US             DFD2         ABSD_US      -932 2,547       -23,737"
      ]
     },
     "metadata": {},
     "output_type": "display_data"
    },
    {
     "name": "stdout",
     "output_type": "stream",
     "text": [
      "Updated position exposures\n"
     ]
    },
    {
     "data": {
      "text/html": [
       "<div>\n",
       "<style scoped>\n",
       "    .dataframe tbody tr th:only-of-type {\n",
       "        vertical-align: middle;\n",
       "    }\n",
       "\n",
       "    .dataframe tbody tr th {\n",
       "        vertical-align: top;\n",
       "    }\n",
       "\n",
       "    .dataframe thead th {\n",
       "        text-align: right;\n",
       "    }\n",
       "</style>\n",
       "<table border=\"1\" class=\"dataframe\">\n",
       "  <thead>\n",
       "    <tr style=\"text-align: right;\">\n",
       "      <th></th>\n",
       "      <th>exposure_%_nav</th>\n",
       "      <th>default_exposure_target_%_nav</th>\n",
       "    </tr>\n",
       "  </thead>\n",
       "  <tbody>\n",
       "    <tr>\n",
       "      <th>USCB-ABSD_4.25_1/26</th>\n",
       "      <td>0.32%</td>\n",
       "      <td>2.00%</td>\n",
       "    </tr>\n",
       "    <tr>\n",
       "      <th>WWCB-ABSD_4.25_1/26</th>\n",
       "      <td>1.50%</td>\n",
       "      <td>1.50%</td>\n",
       "    </tr>\n",
       "    <tr>\n",
       "      <th>MSFD-ABSD_4.25_1/26</th>\n",
       "      <td>0.23%</td>\n",
       "      <td>0.75%</td>\n",
       "    </tr>\n",
       "    <tr>\n",
       "      <th>DDFD-ABSD_4.25_1/26</th>\n",
       "      <td>0.23%</td>\n",
       "      <td>3.00%</td>\n",
       "    </tr>\n",
       "    <tr>\n",
       "      <th>DFD2-ABSD_4.25_1/26</th>\n",
       "      <td>0.23%</td>\n",
       "      <td>5.00%</td>\n",
       "    </tr>\n",
       "    <tr>\n",
       "      <th>USCB-ABSD_US</th>\n",
       "      <td>-0.03%</td>\n",
       "      <td>NaN</td>\n",
       "    </tr>\n",
       "    <tr>\n",
       "      <th>WWCB-ABSD_US</th>\n",
       "      <td>-0.15%</td>\n",
       "      <td>NaN</td>\n",
       "    </tr>\n",
       "    <tr>\n",
       "      <th>MSFD-ABSD_US</th>\n",
       "      <td>-0.02%</td>\n",
       "      <td>NaN</td>\n",
       "    </tr>\n",
       "    <tr>\n",
       "      <th>DDFD-ABSD_US</th>\n",
       "      <td>-0.02%</td>\n",
       "      <td>NaN</td>\n",
       "    </tr>\n",
       "    <tr>\n",
       "      <th>DFD2-ABSD_US</th>\n",
       "      <td>-0.02%</td>\n",
       "      <td>NaN</td>\n",
       "    </tr>\n",
       "  </tbody>\n",
       "</table>\n",
       "</div>"
      ],
      "text/plain": [
       "                     exposure_%_nav  default_exposure_target_%_nav\n",
       "USCB-ABSD_4.25_1/26           0.32%                          2.00%\n",
       "WWCB-ABSD_4.25_1/26           1.50%                          1.50%\n",
       "MSFD-ABSD_4.25_1/26           0.23%                          0.75%\n",
       "DDFD-ABSD_4.25_1/26           0.23%                          3.00%\n",
       "DFD2-ABSD_4.25_1/26           0.23%                          5.00%\n",
       "USCB-ABSD_US                 -0.03%                            NaN\n",
       "WWCB-ABSD_US                 -0.15%                            NaN\n",
       "MSFD-ABSD_US                 -0.02%                            NaN\n",
       "DDFD-ABSD_US                 -0.02%                            NaN\n",
       "DFD2-ABSD_US                 -0.02%                            NaN"
      ]
     },
     "metadata": {},
     "output_type": "display_data"
    }
   ],
   "source": [
    "pd.options.display.float_format = '{:,.0f}'.format\n",
    "\n",
    "df_fund_navs = load_fund_navs()\n",
    "df_trades = load_trades(fields=['ABSD.US', 'Stock', 25.4687, -65384, -1665245, '11:00 AM'])\n",
    "\n",
    "print(f\"Trade allocations\")\n",
    "allocs = df_fund_pos[['notional']] / df_fund_pos['notional'].sum() * df_trades.iloc[0]['quantity']\n",
    "#workaround to support default price factor of 0.01\n",
    "allocs['price'] = 2546.87\n",
    "\n",
    "allocs.index = ['USCB-ABSD_US', 'WWCB-ABSD_US', 'MSFD-ABSD_US', 'DDFD-ABSD_US', 'DFD2-ABSD_US']\n",
    "\n",
    "display(allocs)\n",
    "apply_allocations(allocs)\n",
    "\n",
    "print(f\"\\nFirm position total\")\n",
    "display(df_fund_pos.groupby('security_name')[['notional', 'market_value']].sum())\n",
    "\n",
    "print(f\"Updated position sizes\")\n",
    "display(df_fund_pos[['fund_code', 'security_name', 'notional', 'mark', 'market_value']])\n",
    "\n",
    "print(f\"Updated position exposures\")\n",
    "pd.options.display.float_format = '{:.2%}'.format\n",
    "display(df_fund_pos[['exposure_%_nav', 'default_exposure_target_%_nav']])\n"
   ]
  },
  {
   "cell_type": "markdown",
   "id": "560c2e88",
   "metadata": {},
   "source": [
    "#### 2a) How do the goals of your allocation framework change?"
   ]
  },
  {
   "cell_type": "code",
   "execution_count": 17,
   "id": "30726944",
   "metadata": {},
   "outputs": [
    {
     "name": "stdout",
     "output_type": "stream",
     "text": [
      "The allocations should be based on the position size of the existing instrument rather than pro rata to fund NAVs.\n"
     ]
    }
   ],
   "source": [
    "print(f\"The allocations should be based on the position size of the existing instrument rather than pro rata to fund NAVs.\")"
   ]
  },
  {
   "cell_type": "markdown",
   "id": "79a89b0b",
   "metadata": {},
   "source": [
    "#### 2b) What are the key assumptions you made to adjust your framework?"
   ]
  },
  {
   "cell_type": "code",
   "execution_count": 18,
   "id": "bf2506ec",
   "metadata": {},
   "outputs": [
    {
     "name": "stdout",
     "output_type": "stream",
     "text": [
      "The equity is assumed to be a hedge for the convertible bond rather than a new risk.\n",
      "All funds are assumed to have a locate for a short stock position.\n",
      "All funds are using the same hedge ratio for the convertible bond.\n"
     ]
    }
   ],
   "source": [
    "print(f\"The equity is assumed to be a hedge for the convertible bond rather than a new risk.\")\n",
    "print(f\"All funds are assumed to have a locate for a short stock position.\")\n",
    "print(f\"All funds are using the same hedge ratio for the convertible bond.\")"
   ]
  },
  {
   "cell_type": "markdown",
   "id": "e9531050",
   "metadata": {},
   "source": [
    "#### 2c) Do any of these assumptions give you pause? If so, why?"
   ]
  },
  {
   "cell_type": "code",
   "execution_count": 19,
   "id": "0e976668",
   "metadata": {},
   "outputs": [
    {
     "name": "stdout",
     "output_type": "stream",
     "text": [
      "An equity short position may not be possible for a drawdown fund, with the assumption that a drawdown fund is\n",
      "\tfully-funding all risk and the most that can be lost is invested capital.\n"
     ]
    }
   ],
   "source": [
    "print(f\"An equity short position may not be possible for a drawdown fund, with the assumption that a drawdown fund is\")\n",
    "print(f\"\\tfully-funding all risk and the most that can be lost is invested capital.\")"
   ]
  },
  {
   "cell_type": "markdown",
   "id": "72c64acd",
   "metadata": {},
   "source": [
    "#### 3) What difficulty can you foresee with a manual (think excel spreadsheet) implementation of your framework? "
   ]
  },
  {
   "cell_type": "code",
   "execution_count": 20,
   "id": "6358687f",
   "metadata": {},
   "outputs": [
    {
     "name": "stdout",
     "output_type": "stream",
     "text": [
      "In order to achieve the goal of allocating trades fairly while remaining in compliance with individual fund mandates,\n",
      "\tseveral passes may be required to solve for the final allocation that adheres to fund-level position target exposures.\n"
     ]
    }
   ],
   "source": [
    "print(f\"In order to achieve the goal of allocating trades fairly while remaining in compliance with individual fund mandates,\")\n",
    "print(f\"\\tseveral passes may be required to solve for the final allocation that adheres to fund-level position target exposures.\")\n"
   ]
  },
  {
   "cell_type": "markdown",
   "id": "d342bf74",
   "metadata": {},
   "source": [
    "#### 4) Alternatively, if you were to automate this process, what real-world pain points do you envision with its creation?"
   ]
  },
  {
   "cell_type": "code",
   "execution_count": 21,
   "id": "ddb3c239",
   "metadata": {},
   "outputs": [
    {
     "name": "stdout",
     "output_type": "stream",
     "text": [
      "If a position is not balanced at the start of the day the trade should not follow the baseline allocation framework.\n",
      "Risk instruments and related hedges should must remain balanced.\n",
      "Properly identifying linked trades will require user-defined tags.\n",
      "Allocations should minimize odd-lot allocations.\n"
     ]
    }
   ],
   "source": [
    "print(f\"If a position is not balanced at the start of the day the trade should not follow the baseline allocation framework.\")\n",
    "print(f\"Risk instruments and related hedges should must remain balanced.\")\n",
    "print(f\"Properly identifying linked trades will require user-defined tags.\")\n",
    "print(f\"Allocations should minimize odd-lot allocations.\")"
   ]
  },
  {
   "cell_type": "markdown",
   "id": "f256f0f7",
   "metadata": {},
   "source": [
    "#### 4a) What data, systems, and processes would you need to build and maintain in order to automate this process? "
   ]
  },
  {
   "cell_type": "code",
   "execution_count": 22,
   "id": "bab0c22d",
   "metadata": {},
   "outputs": [
    {
     "name": "stdout",
     "output_type": "stream",
     "text": [
      "Start of the day positions sizes and position exposure targets.\n",
      "Current MTD performance.\n",
      "A trade tag to identify related positions.\n"
     ]
    }
   ],
   "source": [
    "print(f\"Start of the day positions sizes and position exposure targets.\")\n",
    "print(f\"Current MTD performance.\")\n",
    "print(f\"A trade tag to identify related positions.\")"
   ]
  },
  {
   "cell_type": "markdown",
   "id": "5843f6e8",
   "metadata": {},
   "source": [
    "#### 5) As a thought exercise (no need to build another framework) what approach would you use to allocate these two trades assuming they needed to be paired and were eligible for multiple funds?"
   ]
  },
  {
   "cell_type": "code",
   "execution_count": 23,
   "id": "1f5a88a4",
   "metadata": {},
   "outputs": [
    {
     "name": "stdout",
     "output_type": "stream",
     "text": [
      "If no default exposure target, allocate both trades pro rata with fund navs.\n",
      "Assumes each fund has a locate in place for the short position.\n"
     ]
    }
   ],
   "source": [
    "print(f\"If no default exposure target, allocate both trades pro rata with fund navs.\")\n",
    "print(f\"Assumes each fund has a locate in place for the short position.\")"
   ]
  },
  {
   "cell_type": "markdown",
   "id": "79a48345",
   "metadata": {},
   "source": [
    "#### 6) What makes this question more difficult than the earlier allocation decisions?"
   ]
  },
  {
   "cell_type": "code",
   "execution_count": 24,
   "id": "2be4b0a0",
   "metadata": {},
   "outputs": [
    {
     "name": "stdout",
     "output_type": "stream",
     "text": [
      "The risk side (warrants) should be allocated first in case there are any fund-level restrictions,\n",
      "\tthen the hedge side (stock) should be allocated pro rata with the risk side allocations\n",
      "When measuring net exposure the warrants should be expressed in delta notional; \n",
      "\tnet 0 market value does not imply 0 exposure.\n"
     ]
    }
   ],
   "source": [
    "print(f\"The risk side (warrants) should be allocated first in case there are any fund-level restrictions,\")\n",
    "print(f\"\\tthen the hedge side (stock) should be allocated pro rata with the risk side allocations\")\n",
    "print(f\"When measuring net exposure the warrants should be expressed in delta notional; \")\n",
    "print(f\"\\tnet 0 market value does not imply 0 exposure.\")"
   ]
  },
  {
   "cell_type": "markdown",
   "id": "a5e7a8e7",
   "metadata": {},
   "source": [
    "#### 7) What simplifying assumption could you make in order to arrive at a reasonable answer? "
   ]
  },
  {
   "cell_type": "code",
   "execution_count": 25,
   "id": "b981c2a2",
   "metadata": {},
   "outputs": [
    {
     "name": "stdout",
     "output_type": "stream",
     "text": [
      "Equities will always be allocated using delta rather than market value.\n",
      "Warrant trades should be allocated ahead of stock trades.\n"
     ]
    }
   ],
   "source": [
    "print(f\"Equities will always be allocated using delta rather than market value.\")\n",
    "print(f\"Warrant trades should be allocated ahead of stock trades.\")"
   ]
  },
  {
   "cell_type": "markdown",
   "id": "79227f53",
   "metadata": {},
   "source": [
    "#### 8) What additional information would you like to know to complete this exercise more accurately?"
   ]
  },
  {
   "cell_type": "code",
   "execution_count": 26,
   "id": "32ee0018",
   "metadata": {},
   "outputs": [
    {
     "name": "stdout",
     "output_type": "stream",
     "text": [
      "Identify the target exposure measure (equity delta, market value, vega, etc.\n",
      "More information about the individual mandates and restricted instruments for each fund.\n"
     ]
    }
   ],
   "source": [
    "print(f\"Identify the target exposure measure (equity delta, market value, vega, etc.\")\n",
    "print(f\"More information about the individual mandates and restricted instruments for each fund.\")"
   ]
  }
 ],
 "metadata": {
  "kernelspec": {
   "display_name": "leffertz-py39-env",
   "language": "python",
   "name": "leffertz-py39-env"
  },
  "language_info": {
   "codemirror_mode": {
    "name": "ipython",
    "version": 3
   },
   "file_extension": ".py",
   "mimetype": "text/x-python",
   "name": "python",
   "nbconvert_exporter": "python",
   "pygments_lexer": "ipython3",
   "version": "3.9.19"
  }
 },
 "nbformat": 4,
 "nbformat_minor": 5
}
