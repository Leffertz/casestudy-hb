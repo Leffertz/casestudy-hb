{
 "cells": [
  {
   "cell_type": "code",
   "execution_count": 1,
   "id": "a197bdcd",
   "metadata": {},
   "outputs": [],
   "source": [
    "import pandas as pd"
   ]
  },
  {
   "cell_type": "code",
   "execution_count": 30,
   "id": "246b4f3d",
   "metadata": {},
   "outputs": [
    {
     "data": {
      "text/html": [
       "<div>\n",
       "<style scoped>\n",
       "    .dataframe tbody tr th:only-of-type {\n",
       "        vertical-align: middle;\n",
       "    }\n",
       "\n",
       "    .dataframe tbody tr th {\n",
       "        vertical-align: top;\n",
       "    }\n",
       "\n",
       "    .dataframe thead th {\n",
       "        text-align: right;\n",
       "    }\n",
       "</style>\n",
       "<table border=\"1\" class=\"dataframe\">\n",
       "  <thead>\n",
       "    <tr style=\"text-align: right;\">\n",
       "      <th></th>\n",
       "      <th>fund_name</th>\n",
       "      <th>nav</th>\n",
       "      <th>nav_%_firm</th>\n",
       "    </tr>\n",
       "  </thead>\n",
       "  <tbody>\n",
       "    <tr>\n",
       "      <th>USCB</th>\n",
       "      <td>US CB Fund</td>\n",
       "      <td>1128462384</td>\n",
       "      <td>24.00%</td>\n",
       "    </tr>\n",
       "    <tr>\n",
       "      <th>WWCB</th>\n",
       "      <td>Global CB Fund</td>\n",
       "      <td>389452323</td>\n",
       "      <td>8.28%</td>\n",
       "    </tr>\n",
       "    <tr>\n",
       "      <th>MSFD</th>\n",
       "      <td>Multi-strat Fund</td>\n",
       "      <td>2879546658</td>\n",
       "      <td>61.25%</td>\n",
       "    </tr>\n",
       "    <tr>\n",
       "      <th>DDFD</th>\n",
       "      <td>Drawdown Fund 1</td>\n",
       "      <td>200000000</td>\n",
       "      <td>4.25%</td>\n",
       "    </tr>\n",
       "    <tr>\n",
       "      <th>DFD2</th>\n",
       "      <td>Drawdown Fund 1</td>\n",
       "      <td>104000000</td>\n",
       "      <td>2.21%</td>\n",
       "    </tr>\n",
       "  </tbody>\n",
       "</table>\n",
       "</div>"
      ],
      "text/plain": [
       "             fund_name         nav  nav_%_firm\n",
       "USCB        US CB Fund  1128462384      24.00%\n",
       "WWCB    Global CB Fund   389452323       8.28%\n",
       "MSFD  Multi-strat Fund  2879546658      61.25%\n",
       "DDFD   Drawdown Fund 1   200000000       4.25%\n",
       "DFD2   Drawdown Fund 1   104000000       2.21%"
      ]
     },
     "metadata": {},
     "output_type": "display_data"
    }
   ],
   "source": [
    "fund_navs = {\n",
    "    'USCB': ['US CB Fund', 1128462384],\n",
    "    'WWCB': ['Global CB Fund', 389452323],\n",
    "    'MSFD': ['Multi-strat Fund', 2879546658],\n",
    "    'DDFD': ['Drawdown Fund 1', 200000000],\n",
    "    'DFD2': ['Drawdown Fund 1', 104000000]\n",
    "}\n",
    "\n",
    "df_fund_navs = pd.DataFrame.from_dict(fund_navs, orient='index', columns=['fund_name', 'nav'])\n",
    "\n",
    "df_fund_navs['nav_%_firm'] = df_fund_navs['nav'] / df_fund_navs['nav'].sum()\n",
    "display(df_fund_navs)"
   ]
  },
  {
   "cell_type": "code",
   "execution_count": 15,
   "id": "e75ca1c3",
   "metadata": {},
   "outputs": [],
   "source": [
    "fund_pos = {\n",
    "    'USCB_ABSD_4.25_1/26': ['USCB', 'ABSD_4.25_1/26', 'Convertible Bond', 106.25, 1000.00, 1000000.00, 1064093.75],\n",
    "    'WWCB_ABSD_4.25_1/26': ['WWCB', 'ABSD_4.25_1/26', 'Convertible Bond', 106.25, 5000.00, 5000000.00, 5320468.75]\n",
    "}\n",
    "\n",
    "df_fund_pos = pd.DataFrame.from_dict(fund_pos, orient='index', columns=['fund_code', 'security_name', 'security_type', 'mark', 'quantity', 'notional', 'market_value'])\n",
    "\n"
   ]
  },
  {
   "cell_type": "code",
   "execution_count": 16,
   "id": "0b501ed1",
   "metadata": {},
   "outputs": [],
   "source": [
    "pd.options.display.float_format = '{:.02%}'.format\n",
    "\n",
    "fund_pos_tgt= {\n",
    "    'USCB_ABSD_4.25_1/26': [0.02],\n",
    "    'WWCB_ABSD_4.25_1/26': [0.015],\n",
    "    'MSFD_ABSD_4.25_1/26': [0.0075],\n",
    "    'DDFD_ABSD_4.25_1/26': [0.03],\n",
    "    'DFD2_ABSD_4.25_1/26': [0.05],    \n",
    "}\n",
    "\n",
    "df_fund_pos_tgt = pd.DataFrame.from_dict(fund_pos_tgt, orient='index', columns=['default_exposure_target_%_nav'])\n"
   ]
  },
  {
   "cell_type": "code",
   "execution_count": 23,
   "id": "9a208ff4",
   "metadata": {},
   "outputs": [
    {
     "data": {
      "text/html": [
       "<div>\n",
       "<style scoped>\n",
       "    .dataframe tbody tr th:only-of-type {\n",
       "        vertical-align: middle;\n",
       "    }\n",
       "\n",
       "    .dataframe tbody tr th {\n",
       "        vertical-align: top;\n",
       "    }\n",
       "\n",
       "    .dataframe thead th {\n",
       "        text-align: right;\n",
       "    }\n",
       "</style>\n",
       "<table border=\"1\" class=\"dataframe\">\n",
       "  <thead>\n",
       "    <tr style=\"text-align: right;\">\n",
       "      <th></th>\n",
       "      <th>fund_code</th>\n",
       "      <th>security_name</th>\n",
       "      <th>security_type</th>\n",
       "      <th>mark</th>\n",
       "      <th>quantity</th>\n",
       "      <th>notional</th>\n",
       "      <th>market_value</th>\n",
       "      <th>fund_name</th>\n",
       "      <th>nav</th>\n",
       "      <th>default_exposure_target_%_nav</th>\n",
       "    </tr>\n",
       "  </thead>\n",
       "  <tbody>\n",
       "    <tr>\n",
       "      <th>USCB_ABSD_4.25_1/26</th>\n",
       "      <td>USCB</td>\n",
       "      <td>ABSD_4.25_1/26</td>\n",
       "      <td>Convertible Bond</td>\n",
       "      <td>10625.00%</td>\n",
       "      <td>100000.00%</td>\n",
       "      <td>100000000.00%</td>\n",
       "      <td>106409375.00%</td>\n",
       "      <td>US CB Fund</td>\n",
       "      <td>1128462384</td>\n",
       "      <td>2.00%</td>\n",
       "    </tr>\n",
       "    <tr>\n",
       "      <th>WWCB_ABSD_4.25_1/26</th>\n",
       "      <td>WWCB</td>\n",
       "      <td>ABSD_4.25_1/26</td>\n",
       "      <td>Convertible Bond</td>\n",
       "      <td>10625.00%</td>\n",
       "      <td>500000.00%</td>\n",
       "      <td>500000000.00%</td>\n",
       "      <td>532046875.00%</td>\n",
       "      <td>Global CB Fund</td>\n",
       "      <td>389452323</td>\n",
       "      <td>1.50%</td>\n",
       "    </tr>\n",
       "  </tbody>\n",
       "</table>\n",
       "</div>"
      ],
      "text/plain": [
       "                    fund_code   security_name     security_type      mark   \n",
       "USCB_ABSD_4.25_1/26      USCB  ABSD_4.25_1/26  Convertible Bond 10625.00%  \\\n",
       "WWCB_ABSD_4.25_1/26      WWCB  ABSD_4.25_1/26  Convertible Bond 10625.00%   \n",
       "\n",
       "                      quantity      notional  market_value       fund_name   \n",
       "USCB_ABSD_4.25_1/26 100000.00% 100000000.00% 106409375.00%      US CB Fund  \\\n",
       "WWCB_ABSD_4.25_1/26 500000.00% 500000000.00% 532046875.00%  Global CB Fund   \n",
       "\n",
       "                            nav  default_exposure_target_%_nav  \n",
       "USCB_ABSD_4.25_1/26  1128462384                          2.00%  \n",
       "WWCB_ABSD_4.25_1/26   389452323                          1.50%  "
      ]
     },
     "metadata": {},
     "output_type": "display_data"
    }
   ],
   "source": [
    "df = df_fund_pos.join(df_fund_navs, on='fund_code', how='left').join(df_fund_pos_tgt, how='left')\n",
    "display(df)"
   ]
  },
  {
   "cell_type": "code",
   "execution_count": 27,
   "id": "ff83ea17",
   "metadata": {},
   "outputs": [
    {
     "data": {
      "text/html": [
       "<div>\n",
       "<style scoped>\n",
       "    .dataframe tbody tr th:only-of-type {\n",
       "        vertical-align: middle;\n",
       "    }\n",
       "\n",
       "    .dataframe tbody tr th {\n",
       "        vertical-align: top;\n",
       "    }\n",
       "\n",
       "    .dataframe thead th {\n",
       "        text-align: right;\n",
       "    }\n",
       "</style>\n",
       "<table border=\"1\" class=\"dataframe\">\n",
       "  <thead>\n",
       "    <tr style=\"text-align: right;\">\n",
       "      <th></th>\n",
       "      <th>security_name</th>\n",
       "      <th>exposure_%_nav</th>\n",
       "      <th>default_exposure_target_%_nav</th>\n",
       "    </tr>\n",
       "  </thead>\n",
       "  <tbody>\n",
       "    <tr>\n",
       "      <th>USCB_ABSD_4.25_1/26</th>\n",
       "      <td>ABSD_4.25_1/26</td>\n",
       "      <td>0.09%</td>\n",
       "      <td>2.00%</td>\n",
       "    </tr>\n",
       "    <tr>\n",
       "      <th>WWCB_ABSD_4.25_1/26</th>\n",
       "      <td>ABSD_4.25_1/26</td>\n",
       "      <td>1.37%</td>\n",
       "      <td>1.50%</td>\n",
       "    </tr>\n",
       "  </tbody>\n",
       "</table>\n",
       "</div>"
      ],
      "text/plain": [
       "                      security_name  exposure_%_nav   \n",
       "USCB_ABSD_4.25_1/26  ABSD_4.25_1/26           0.09%  \\\n",
       "WWCB_ABSD_4.25_1/26  ABSD_4.25_1/26           1.37%   \n",
       "\n",
       "                     default_exposure_target_%_nav  \n",
       "USCB_ABSD_4.25_1/26                          2.00%  \n",
       "WWCB_ABSD_4.25_1/26                          1.50%  "
      ]
     },
     "metadata": {},
     "output_type": "display_data"
    }
   ],
   "source": [
    "df['exposure_%_nav'] = df['market_value'] / df['nav']\n",
    "\n",
    "display(df[['security_name', 'exposure_%_nav', 'default_exposure_target_%_nav']])"
   ]
  },
  {
   "cell_type": "code",
   "execution_count": 92,
   "id": "10308320",
   "metadata": {},
   "outputs": [],
   "source": [
    "trades = {\n",
    "    1: ['ABSD_4.25_1/26', 'Convertible Bond', 105.375, 10000, 10000000, '10:15 AM']\n",
    "}\n",
    "\n",
    "df_trades = pd.DataFrame.from_dict(trades, orient='index', columns=['security_name', 'security_type', 'price', 'quantity', 'notional', 'timestamp'])"
   ]
  },
  {
   "cell_type": "code",
   "execution_count": 105,
   "id": "795d93d4",
   "metadata": {},
   "outputs": [],
   "source": [
    "def allocate_trade_by_fund(trade):\n",
    "    \n",
    "    \n",
    "    df_alloc = pd.DataFrame(df_fund_navs[['nav_%_firm']] * trade['notional'])\n",
    "    \n",
    "    df_alloc.index = df_alloc.index.values + '_'+ [trade['security_name']]\n",
    "    \n",
    "    return df_alloc\n",
    "    \n",
    "    "
   ]
  },
  {
   "cell_type": "code",
   "execution_count": 106,
   "id": "4c7409d5",
   "metadata": {},
   "outputs": [
    {
     "data": {
      "text/html": [
       "<div>\n",
       "<style scoped>\n",
       "    .dataframe tbody tr th:only-of-type {\n",
       "        vertical-align: middle;\n",
       "    }\n",
       "\n",
       "    .dataframe tbody tr th {\n",
       "        vertical-align: top;\n",
       "    }\n",
       "\n",
       "    .dataframe thead th {\n",
       "        text-align: right;\n",
       "    }\n",
       "</style>\n",
       "<table border=\"1\" class=\"dataframe\">\n",
       "  <thead>\n",
       "    <tr style=\"text-align: right;\">\n",
       "      <th></th>\n",
       "      <th>nav_%_firm</th>\n",
       "    </tr>\n",
       "  </thead>\n",
       "  <tbody>\n",
       "    <tr>\n",
       "      <th>USCB_ABSD_4.25_1/26</th>\n",
       "      <td>2,400,237.49</td>\n",
       "    </tr>\n",
       "    <tr>\n",
       "      <th>WWCB_ABSD_4.25_1/26</th>\n",
       "      <td>828,364.40</td>\n",
       "    </tr>\n",
       "    <tr>\n",
       "      <th>MSFD_ABSD_4.25_1/26</th>\n",
       "      <td>6,124,790.64</td>\n",
       "    </tr>\n",
       "    <tr>\n",
       "      <th>DDFD_ABSD_4.25_1/26</th>\n",
       "      <td>425,399.65</td>\n",
       "    </tr>\n",
       "    <tr>\n",
       "      <th>DFD2_ABSD_4.25_1/26</th>\n",
       "      <td>221,207.82</td>\n",
       "    </tr>\n",
       "  </tbody>\n",
       "</table>\n",
       "</div>"
      ],
      "text/plain": [
       "                      nav_%_firm\n",
       "USCB_ABSD_4.25_1/26 2,400,237.49\n",
       "WWCB_ABSD_4.25_1/26   828,364.40\n",
       "MSFD_ABSD_4.25_1/26 6,124,790.64\n",
       "DDFD_ABSD_4.25_1/26   425,399.65\n",
       "DFD2_ABSD_4.25_1/26   221,207.82"
      ]
     },
     "metadata": {},
     "output_type": "display_data"
    }
   ],
   "source": [
    "pd.options.display.float_format = '{:,.2f}'.format\n",
    "\n",
    "df = allocate_trade_by_fund(df_trades.iloc[0,:])\n",
    "display(df)"
   ]
  },
  {
   "cell_type": "code",
   "execution_count": 103,
   "id": "de3e7e56",
   "metadata": {},
   "outputs": [
    {
     "data": {
      "text/html": [
       "<div>\n",
       "<style scoped>\n",
       "    .dataframe tbody tr th:only-of-type {\n",
       "        vertical-align: middle;\n",
       "    }\n",
       "\n",
       "    .dataframe tbody tr th {\n",
       "        vertical-align: top;\n",
       "    }\n",
       "\n",
       "    .dataframe thead th {\n",
       "        text-align: right;\n",
       "    }\n",
       "</style>\n",
       "<table border=\"1\" class=\"dataframe\">\n",
       "  <thead>\n",
       "    <tr style=\"text-align: right;\">\n",
       "      <th></th>\n",
       "      <th>fund_code</th>\n",
       "      <th>security_name</th>\n",
       "      <th>security_type</th>\n",
       "      <th>mark</th>\n",
       "      <th>quantity</th>\n",
       "      <th>notional</th>\n",
       "      <th>market_value</th>\n",
       "    </tr>\n",
       "  </thead>\n",
       "  <tbody>\n",
       "    <tr>\n",
       "      <th>USCB_ABSD_4.25_1/26</th>\n",
       "      <td>USCB</td>\n",
       "      <td>ABSD_4.25_1/26</td>\n",
       "      <td>Convertible Bond</td>\n",
       "      <td>106.25</td>\n",
       "      <td>1,000.00</td>\n",
       "      <td>1,000,000.00</td>\n",
       "      <td>1,064,093.75</td>\n",
       "    </tr>\n",
       "    <tr>\n",
       "      <th>WWCB_ABSD_4.25_1/26</th>\n",
       "      <td>WWCB</td>\n",
       "      <td>ABSD_4.25_1/26</td>\n",
       "      <td>Convertible Bond</td>\n",
       "      <td>106.25</td>\n",
       "      <td>5,000.00</td>\n",
       "      <td>5,000,000.00</td>\n",
       "      <td>5,320,468.75</td>\n",
       "    </tr>\n",
       "  </tbody>\n",
       "</table>\n",
       "</div>"
      ],
      "text/plain": [
       "                    fund_code   security_name     security_type   mark   \n",
       "USCB_ABSD_4.25_1/26      USCB  ABSD_4.25_1/26  Convertible Bond 106.25  \\\n",
       "WWCB_ABSD_4.25_1/26      WWCB  ABSD_4.25_1/26  Convertible Bond 106.25   \n",
       "\n",
       "                     quantity     notional  market_value  \n",
       "USCB_ABSD_4.25_1/26  1,000.00 1,000,000.00  1,064,093.75  \n",
       "WWCB_ABSD_4.25_1/26  5,000.00 5,000,000.00  5,320,468.75  "
      ]
     },
     "execution_count": 103,
     "metadata": {},
     "output_type": "execute_result"
    }
   ],
   "source": [
    "df_fund_pos"
   ]
  },
  {
   "cell_type": "code",
   "execution_count": null,
   "id": "1083603a",
   "metadata": {},
   "outputs": [],
   "source": []
  }
 ],
 "metadata": {
  "kernelspec": {
   "display_name": "leffertz-py39-env",
   "language": "python",
   "name": "leffertz-py39-env"
  },
  "language_info": {
   "codemirror_mode": {
    "name": "ipython",
    "version": 3
   },
   "file_extension": ".py",
   "mimetype": "text/x-python",
   "name": "python",
   "nbconvert_exporter": "python",
   "pygments_lexer": "ipython3",
   "version": "3.9.19"
  }
 },
 "nbformat": 4,
 "nbformat_minor": 5
}
