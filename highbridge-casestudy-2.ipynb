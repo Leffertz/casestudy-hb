{
 "cells": [
  {
   "cell_type": "code",
   "execution_count": 1,
   "id": "a197bdcd",
   "metadata": {},
   "outputs": [],
   "source": [
    "import pandas as pd"
   ]
  },
  {
   "cell_type": "code",
   "execution_count": 2,
   "id": "e75ca1c3",
   "metadata": {},
   "outputs": [],
   "source": [
    "def load_positions():\n",
    "\n",
    "    fund_pos = {\n",
    "        'USCB-ABSD_4.25_1/26': ['USCB', 'ABSD_4.25_1/26', 'Convertible Bond', 106.25, 1000.00, 1000000.00, 1064093.75],\n",
    "        'WWCB-ABSD_4.25_1/26': ['WWCB', 'ABSD_4.25_1/26', 'Convertible Bond', 106.25, 5000.00, 5000000.00, 5320468.75]\n",
    "    }\n",
    "\n",
    "    df = pd.DataFrame.from_dict(fund_pos, orient='index', columns=['fund_code', 'security_name', 'security_type', 'mark', 'quantity', 'notional', 'market_value'])\n",
    "    \n",
    "    df = df.join(df_fund_pos_tgt, how='left')\n",
    "    \n",
    "    df = df.join(df_fund_navs[['nav']], on='fund_code')\n",
    "    \n",
    "    df['exposure_%_nav'] = df['market_value'] / df['nav']\n",
    "    \n",
    "    return df\n",
    "\n",
    "def load_trades():\n",
    "\n",
    "    trades = {\n",
    "        1: ['ABSD_4.25_1/26', 'Convertible Bond', 105.375, 10000, 10000000, '10:15 AM']\n",
    "    }\n",
    "\n",
    "    return pd.DataFrame.from_dict(trades, orient='index', columns=['security_name', 'security_type', 'price', 'quantity', 'notional', 'timestamp'])\n",
    "\n",
    "def load_fund_position_targets():\n",
    "    fund_pos_tgt= {\n",
    "        'USCB-ABSD_4.25_1/26': [0.02],\n",
    "        'WWCB-ABSD_4.25_1/26': [0.015],\n",
    "        'MSFD-ABSD_4.25_1/26': [0.0075],\n",
    "        'DDFD-ABSD_4.25_1/26': [0.03],\n",
    "        'DFD2-ABSD_4.25_1/26': [0.05]\n",
    "    }\n",
    "\n",
    "    df_fund_pos_tgt = pd.DataFrame.from_dict(fund_pos_tgt, orient='index', columns=['default_exposure_target_%_nav'])\n",
    "    \n",
    "    return df_fund_pos_tgt\n",
    "\n",
    "def load_fund_navs():\n",
    "    fund_navs = {\n",
    "        'USCB': ['US CB Fund', 1128462384],\n",
    "        'WWCB': ['Global CB Fund', 389452323],\n",
    "        'MSFD': ['Multi-strat Fund', 2879546658],\n",
    "        'DDFD': ['Drawdown Fund 1', 200000000],\n",
    "        'DFD2': ['Drawdown Fund 2', 104000000]\n",
    "    }\n",
    "\n",
    "    df_fund_navs = pd.DataFrame.from_dict(fund_navs, orient='index', columns=['fund_name', 'nav'])\n",
    "\n",
    "    df_fund_navs['nav_%_firm'] = df_fund_navs['nav'] / df_fund_navs['nav'].sum()\n",
    "    \n",
    "    return df_fund_navs"
   ]
  },
  {
   "cell_type": "code",
   "execution_count": 7,
   "id": "64af2832",
   "metadata": {},
   "outputs": [],
   "source": [
    "df_fund_navs = load_fund_navs()\n",
    "# display(df_fund_navs)\n",
    "df_fund_pos_tgt = load_fund_position_targets()\n",
    "# display(df_fund_pos_tgt)\n",
    "df_fund_pos = load_positions()\n",
    "# display(df_fund_pos)\n",
    "df_trades = load_trades()\n",
    "# display(df_trades)\n"
   ]
  },
  {
   "cell_type": "code",
   "execution_count": 8,
   "id": "0df3bc94",
   "metadata": {},
   "outputs": [],
   "source": [
    "def update_position_exposure(trade_price):\n",
    "\n",
    "    df_fund_pos.loc[df_fund_pos['security_name'] == trade['security_name'].iloc[0], 'mark'] = trade['price'].iloc[0]\n",
    "    df_fund_pos['market_value'] = df_fund_pos['notional'] * df_fund_pos['mark'] * 0.01\n",
    "    df_fund_pos['exposure_%_nav'] = df_fund_pos['market_value'] / df_fund_pos['nav']    \n",
    "    \n",
    "def update_position_exposure(trade):\n",
    "\n",
    "    df_fund_pos.loc[df_fund_pos['security_name'] == trade['security_name'].iloc[0], 'mark'] = trade['price'].iloc[0]\n",
    "    df_fund_pos['market_value'] = df_fund_pos['notional'] * df_fund_pos['mark'] * 0.01\n",
    "    df_fund_pos['exposure_%_nav'] = df_fund_pos['market_value'] / df_fund_pos['nav']    \n",
    "    \n",
    "def allocate_trade_by_fund(trade):\n",
    "        \n",
    "    df_alloc = df_fund_navs[['nav_%_firm']].mul(trade['notional'].iloc[0])\n",
    "    df_alloc.index = df_alloc.index.values + '-'+ trade['security_name'].iloc[0]\n",
    "    df_alloc.rename(columns={'nav_%_firm': 'notional'}, inplace=True)\n",
    "    df_alloc['price'] = trade['price'].iloc[0]\n",
    "    \n",
    "    return df_alloc\n",
    "\n",
    "def apply_allocations(allocs):\n",
    "    \n",
    "    for k, v in allocs.iterrows():\n",
    "        try:\n",
    "            df_fund_pos.loc[k, 'notional'] = df_fund_pos.loc[k, 'notional'] + v['notional']\n",
    "            df_fund_pos['market_value'] = df_fund_pos['notional'] * df_fund_pos['mark'] * 0.01\n",
    "            df_fund_pos['exposure_%_nav'] = df_fund_pos['market_value'] / df_fund_pos['nav']  \n",
    "        except KeyError:\n",
    "            df_fund_pos.loc[k, 'notional'] = v['notional']\n",
    "            df_fund_pos.loc[k, 'fund_code'] = k.split('-')[0]\n",
    "            df_fund_pos.loc[k, 'security_name'] = k.split('-')[1]            \n",
    "            df_fund_pos.loc[k, 'mark'] = v['price']\n",
    "            df_fund_pos.loc[k, 'market_value'] = df_fund_pos.loc[k, 'notional'] * df_fund_pos.loc[k, 'mark'] * 0.01\n",
    "            df_fund_pos.loc[k, 'nav'] = df_fund_navs.loc[k.split('-')[0]]['nav']\n",
    "            df_fund_pos.loc[k, 'exposure_%_nav'] = df_fund_pos.loc[k, 'market_value'] / df_fund_pos.loc[k, 'nav']\n",
    "            df_fund_pos.loc[k, 'default_exposure_target_%_nav'] = df_fund_pos_tgt.loc[k, 'default_exposure_target_%_nav']"
   ]
  },
  {
   "cell_type": "markdown",
   "id": "6d0326d8",
   "metadata": {},
   "source": [
    "### 1) Sketch a logic framework that will provide the basis to allocate this trade based on the information given and any necessary assumptions"
   ]
  },
  {
   "cell_type": "code",
   "execution_count": 20,
   "id": "cdf28c7a",
   "metadata": {},
   "outputs": [
    {
     "name": "stdout",
     "output_type": "stream",
     "text": [
      "1) Update existing fund position sizes based on traded price and re-calculate current position exposures\n",
      "2) Generate baseline trade allocations pro rata using fund NAV\n",
      "3) Apply allocations to existing positions and re-evaluate exposure\n",
      "4) If any position target exposures are set and are exceeded by the baseline trade allocations, apply excess pro rata to remaining funds\n",
      "5) Repeat step 4 as needed\n"
     ]
    }
   ],
   "source": [
    "#insert proposed allocation\n",
    "print(f\"1) Update existing fund position sizes based on traded price and re-calculate current position exposures\")\n",
    "print(f\"2) Generate baseline trade allocations pro rata using fund NAV\")\n",
    "print(f\"3) Apply allocations to existing positions and re-evaluate exposure\")\n",
    "print(f\"4) If any position target exposures are set and are exceeded by the baseline trade allocations, apply excess pro rata to remaining funds\")\n",
    "print(f\"5) Repeat step 4 as needed\")"
   ]
  },
  {
   "cell_type": "markdown",
   "id": "69437cdd",
   "metadata": {},
   "source": [
    "#### 1a) What goals does your allocation framework achieve?"
   ]
  },
  {
   "cell_type": "code",
   "execution_count": 21,
   "id": "5867f6d1",
   "metadata": {},
   "outputs": [
    {
     "name": "stdout",
     "output_type": "stream",
     "text": [
      "Achieve fund position sizes consistent with proportion of fund nav to total firm nav but constrain position size to exposure target\n"
     ]
    }
   ],
   "source": [
    "print(f\"Achieve fund position sizes consistent with proportion of fund nav to total firm nav but constrain position size to exposure target\")"
   ]
  },
  {
   "cell_type": "markdown",
   "id": "c7e4a993",
   "metadata": {},
   "source": [
    "#### 1b) What are the key assumptions you made to build this framework?"
   ]
  },
  {
   "cell_type": "code",
   "execution_count": 23,
   "id": "1d5142b0",
   "metadata": {},
   "outputs": [
    {
     "name": "stdout",
     "output_type": "stream",
     "text": [
      "Default exposure target for bonds is market value regardless of bond type\n",
      "Assumes positions are re-balanced monthly to reflect any capital flows\n",
      "Fund MTD performance is added to start of month NAV when evaluating target exposures\n"
     ]
    }
   ],
   "source": [
    "print(f\"Default exposure target for bonds is market value regardless of bond type\")\n",
    "print(f\"Assumes positions are re-balanced monthly to reflect any capital flows\")\n",
    "print(f\"Fund MTD performance is added to start of month NAV when evaluating target exposures\")"
   ]
  },
  {
   "cell_type": "markdown",
   "id": "3f49e3cf",
   "metadata": {},
   "source": [
    "#### 1c) Do any of these assumptions give you pause? If so, why? "
   ]
  },
  {
   "cell_type": "code",
   "execution_count": 32,
   "id": "3ffbdb38",
   "metadata": {},
   "outputs": [
    {
     "name": "stdout",
     "output_type": "stream",
     "text": [
      "The market value may not be the approriate measure to use when allocating risk\n",
      "Not every instrument will fit within the mandate of each fund\n"
     ]
    }
   ],
   "source": [
    "print(f\"The market value may not be the approriate measure to use when allocating risk\")\n",
    "print(f\"Not every instrument will fit within the mandate of each fund\")"
   ]
  },
  {
   "cell_type": "markdown",
   "id": "9852b9b3",
   "metadata": {},
   "source": [
    "#### 2) How would you allocate this (the short equity) trade?"
   ]
  },
  {
   "cell_type": "code",
   "execution_count": 26,
   "id": "2306b8d9",
   "metadata": {},
   "outputs": [
    {
     "name": "stdout",
     "output_type": "stream",
     "text": [
      "Allocate pro rata with existing bond fund position sizes based on equity delta\n"
     ]
    }
   ],
   "source": [
    "#insert proposed allocation\n",
    "print(f\"Allocate pro rata with existing bond fund position sizes based on equity delta\")"
   ]
  },
  {
   "cell_type": "markdown",
   "id": "560c2e88",
   "metadata": {},
   "source": [
    "#### 2a) How do the goals of your allocation framework change?"
   ]
  },
  {
   "cell_type": "code",
   "execution_count": 28,
   "id": "30726944",
   "metadata": {},
   "outputs": [
    {
     "name": "stdout",
     "output_type": "stream",
     "text": [
      "The trade is assumed to be a hedge for an existing instrument rather than a new risk.\n",
      "The allocations should be based on the position size of the existing instrument rather than pro rata to fund NAVs\n"
     ]
    }
   ],
   "source": [
    "print(f\"The allocations should be based on the position size of the existing instrument rather than pro rata to fund NAVs\")"
   ]
  },
  {
   "cell_type": "markdown",
   "id": "79a89b0b",
   "metadata": {},
   "source": [
    "#### 2b) What are the key assumptions you made to adjust your framework?"
   ]
  },
  {
   "cell_type": "code",
   "execution_count": 31,
   "id": "bf2506ec",
   "metadata": {},
   "outputs": [
    {
     "name": "stdout",
     "output_type": "stream",
     "text": [
      "The trade is assumed to be a hedge for an existing instrument rather than a new risk.\n",
      "All funds are assumed to have a locate for a short stock position\n",
      "All funds are following the same approach to hedging a long position in the convertible bond\n"
     ]
    }
   ],
   "source": [
    "print(f\"The trade is assumed to be a hedge for an existing instrument rather than a new risk.\")\n",
    "print(f\"All funds are assumed to have a locate for a short stock position\")\n",
    "print(f\"All funds are following the same approach to hedging a long position in the convertible bond\")"
   ]
  },
  {
   "cell_type": "markdown",
   "id": "e9531050",
   "metadata": {},
   "source": [
    "#### 2c) Do any of these assumptions give you pause? If so, why?"
   ]
  },
  {
   "cell_type": "code",
   "execution_count": 33,
   "id": "0e976668",
   "metadata": {},
   "outputs": [
    {
     "name": "stdout",
     "output_type": "stream",
     "text": [
      "An equity short position may not be possible for a drawdown fund, with the assumption that a drawdown fund is fully-funding all risk and the most that can be lost is invested capital.\n"
     ]
    }
   ],
   "source": [
    "print(f\"An equity short position may not be possible for a drawdown fund, with the assumption that a drawdown fund is fully-funding all risk and the most that can be lost is invested capital.\")"
   ]
  },
  {
   "cell_type": "markdown",
   "id": "72c64acd",
   "metadata": {},
   "source": [
    "#### 3) What difficulty can you foresee with a manual (think excel spreadsheet) implementation of your framework? "
   ]
  },
  {
   "cell_type": "code",
   "execution_count": 36,
   "id": "6358687f",
   "metadata": {},
   "outputs": [
    {
     "name": "stdout",
     "output_type": "stream",
     "text": [
      "In order to achieve the goal of allocating trades fairly while remaining in compliance with individual fund mandates,\n",
      "several passes may be required to solve for the final allocation that adheres to fund-level position target exposures.\n"
     ]
    }
   ],
   "source": [
    "print(f\"In order to achieve the goal of allocating trades fairly while remaining in compliance with individual fund mandates,\")\n",
    "print(f\"several passes may be required to solve for the final allocation that adheres to fund-level position target exposures.\")\n"
   ]
  },
  {
   "cell_type": "markdown",
   "id": "d342bf74",
   "metadata": {},
   "source": [
    "#### 4) Alternatively, if you were to automate this process, what real-world pain points do you envision with its creation?"
   ]
  },
  {
   "cell_type": "code",
   "execution_count": 38,
   "id": "ddb3c239",
   "metadata": {},
   "outputs": [
    {
     "name": "stdout",
     "output_type": "stream",
     "text": [
      "If a position is not balanced at the start of the day the trade should not follow the baseline allocation framework.\n",
      "Hedges and related positions must remain balanced.\n",
      "Properly identifying linked trades will require user-defined tags.\n"
     ]
    }
   ],
   "source": [
    "print(f\"If a position is not balanced at the start of the day the trade should not follow the baseline allocation framework.\")\n",
    "print(f\"Hedges and related positions must remain balanced.\")\n",
    "print(f\"Properly identifying linked trades will require user-defined tags.\")"
   ]
  },
  {
   "cell_type": "markdown",
   "id": "f256f0f7",
   "metadata": {},
   "source": [
    "#### 4a) What data, systems, and processes would you need to build and maintain in order to automate this process? "
   ]
  },
  {
   "cell_type": "code",
   "execution_count": 39,
   "id": "bab0c22d",
   "metadata": {},
   "outputs": [
    {
     "name": "stdout",
     "output_type": "stream",
     "text": [
      "Start of the day positions sizes\n",
      "Current MTD performance\n",
      "A trade tag to identify related positions\n"
     ]
    }
   ],
   "source": [
    "print(f\"Start of the day positions sizes\")\n",
    "print(f\"Current MTD performance\")\n",
    "print(f\"A trade tag to identify related positions\")"
   ]
  },
  {
   "cell_type": "markdown",
   "id": "5843f6e8",
   "metadata": {},
   "source": [
    "#### 5) As a thought exercise (no need to build another framework) what approach would you use to allocate these two trades assuming they needed to be paired and were eligible for multiple funds?"
   ]
  },
  {
   "cell_type": "code",
   "execution_count": 40,
   "id": "1f5a88a4",
   "metadata": {},
   "outputs": [
    {
     "name": "stdout",
     "output_type": "stream",
     "text": [
      "If no default exposure target, allocate both trades pro rata with fund navs\n",
      "Assumes each fund has a locate in place for the short position\n"
     ]
    }
   ],
   "source": [
    "print(f\"If no default exposure target, allocate both trades pro rata with fund navs\")\n",
    "print(f\"Assumes each fund has a locate in place for the short position\")"
   ]
  },
  {
   "cell_type": "markdown",
   "id": "79a48345",
   "metadata": {},
   "source": [
    "#### 6) What makes this question more difficult than the earlier allocation decisions?"
   ]
  },
  {
   "cell_type": "code",
   "execution_count": 41,
   "id": "2be4b0a0",
   "metadata": {},
   "outputs": [
    {
     "name": "stdout",
     "output_type": "stream",
     "text": [
      "The allocation should be based on delta exposure rather than market value.\n"
     ]
    }
   ],
   "source": [
    "print(f\"The allocation should be based on delta exposure rather than market value.\")"
   ]
  },
  {
   "cell_type": "markdown",
   "id": "a5e7a8e7",
   "metadata": {},
   "source": [
    "#### 7) What simplifying assumption could you make in order to arrive at a reasonable answer? "
   ]
  },
  {
   "cell_type": "code",
   "execution_count": 42,
   "id": "b981c2a2",
   "metadata": {},
   "outputs": [
    {
     "name": "stdout",
     "output_type": "stream",
     "text": [
      "Equities will always be allocated using delta rather than market value\n"
     ]
    }
   ],
   "source": [
    "print(f\"Equities will always be allocated using delta rather than market value\")"
   ]
  },
  {
   "cell_type": "markdown",
   "id": "79227f53",
   "metadata": {},
   "source": [
    "#### 8) What additional information would you like to know to complete this exercise more accurately?"
   ]
  },
  {
   "cell_type": "code",
   "execution_count": 49,
   "id": "32ee0018",
   "metadata": {},
   "outputs": [
    {
     "name": "stdout",
     "output_type": "stream",
     "text": [
      "Identify the target exposure measure (equity delta, market value, vega, etc.\n",
      "More information about the individual mandates and restricted instruments for each fund\n"
     ]
    }
   ],
   "source": [
    "print(f\"Identify the target exposure measure (equity delta, market value, vega, etc.\")\n",
    "print(f\"More information about the individual mandates and restricted instruments for each fund\")"
   ]
  },
  {
   "cell_type": "markdown",
   "id": "5b673cb9",
   "metadata": {},
   "source": [
    "#### update existing position exposure based on traded price"
   ]
  },
  {
   "cell_type": "code",
   "execution_count": 46,
   "id": "dbdde34a",
   "metadata": {},
   "outputs": [
    {
     "data": {
      "text/html": [
       "<div>\n",
       "<style scoped>\n",
       "    .dataframe tbody tr th:only-of-type {\n",
       "        vertical-align: middle;\n",
       "    }\n",
       "\n",
       "    .dataframe tbody tr th {\n",
       "        vertical-align: top;\n",
       "    }\n",
       "\n",
       "    .dataframe thead th {\n",
       "        text-align: right;\n",
       "    }\n",
       "</style>\n",
       "<table border=\"1\" class=\"dataframe\">\n",
       "  <thead>\n",
       "    <tr style=\"text-align: right;\">\n",
       "      <th></th>\n",
       "      <th>fund_code</th>\n",
       "      <th>security_name</th>\n",
       "      <th>exposure_%_nav</th>\n",
       "      <th>default_exposure_target_%_nav</th>\n",
       "    </tr>\n",
       "  </thead>\n",
       "  <tbody>\n",
       "    <tr>\n",
       "      <th>USCB-ABSD_4.25_1/26</th>\n",
       "      <td>USCB</td>\n",
       "      <td>ABSD_4.25_1/26</td>\n",
       "      <td>0.09%</td>\n",
       "      <td>2.00%</td>\n",
       "    </tr>\n",
       "    <tr>\n",
       "      <th>WWCB-ABSD_4.25_1/26</th>\n",
       "      <td>WWCB</td>\n",
       "      <td>ABSD_4.25_1/26</td>\n",
       "      <td>1.37%</td>\n",
       "      <td>1.50%</td>\n",
       "    </tr>\n",
       "  </tbody>\n",
       "</table>\n",
       "</div>"
      ],
      "text/plain": [
       "                    fund_code   security_name  exposure_%_nav   \n",
       "USCB-ABSD_4.25_1/26      USCB  ABSD_4.25_1/26           0.09%  \\\n",
       "WWCB-ABSD_4.25_1/26      WWCB  ABSD_4.25_1/26           1.37%   \n",
       "\n",
       "                     default_exposure_target_%_nav  \n",
       "USCB-ABSD_4.25_1/26                          2.00%  \n",
       "WWCB-ABSD_4.25_1/26                          1.50%  "
      ]
     },
     "metadata": {},
     "output_type": "display_data"
    },
    {
     "data": {
      "text/html": [
       "<div>\n",
       "<style scoped>\n",
       "    .dataframe tbody tr th:only-of-type {\n",
       "        vertical-align: middle;\n",
       "    }\n",
       "\n",
       "    .dataframe tbody tr th {\n",
       "        vertical-align: top;\n",
       "    }\n",
       "\n",
       "    .dataframe thead th {\n",
       "        text-align: right;\n",
       "    }\n",
       "</style>\n",
       "<table border=\"1\" class=\"dataframe\">\n",
       "  <thead>\n",
       "    <tr style=\"text-align: right;\">\n",
       "      <th></th>\n",
       "      <th>fund_code</th>\n",
       "      <th>security_name</th>\n",
       "      <th>exposure_%_nav</th>\n",
       "      <th>default_exposure_target_%_nav</th>\n",
       "    </tr>\n",
       "  </thead>\n",
       "  <tbody>\n",
       "    <tr>\n",
       "      <th>USCB-ABSD_4.25_1/26</th>\n",
       "      <td>USCB</td>\n",
       "      <td>ABSD_4.25_1/26</td>\n",
       "      <td>0.09%</td>\n",
       "      <td>2.00%</td>\n",
       "    </tr>\n",
       "    <tr>\n",
       "      <th>WWCB-ABSD_4.25_1/26</th>\n",
       "      <td>WWCB</td>\n",
       "      <td>ABSD_4.25_1/26</td>\n",
       "      <td>1.35%</td>\n",
       "      <td>1.50%</td>\n",
       "    </tr>\n",
       "  </tbody>\n",
       "</table>\n",
       "</div>"
      ],
      "text/plain": [
       "                    fund_code   security_name  exposure_%_nav   \n",
       "USCB-ABSD_4.25_1/26      USCB  ABSD_4.25_1/26           0.09%  \\\n",
       "WWCB-ABSD_4.25_1/26      WWCB  ABSD_4.25_1/26           1.35%   \n",
       "\n",
       "                     default_exposure_target_%_nav  \n",
       "USCB-ABSD_4.25_1/26                          2.00%  \n",
       "WWCB-ABSD_4.25_1/26                          1.50%  "
      ]
     },
     "metadata": {},
     "output_type": "display_data"
    }
   ],
   "source": [
    "pd.options.display.float_format = '{:.2%}'.format\n",
    "trade = df_trades.loc[[1,]]\n",
    "\n",
    "df_fund_pos = load_positions()\n",
    "display(df_fund_pos[['fund_code', 'security_name', 'exposure_%_nav', 'default_exposure_target_%_nav']])\n",
    "\n",
    "update_position_exposure(trade)\n",
    "display(df_fund_pos[['fund_code', 'security_name', 'exposure_%_nav', 'default_exposure_target_%_nav']])"
   ]
  },
  {
   "cell_type": "markdown",
   "id": "db490907",
   "metadata": {},
   "source": [
    "#### allocate trade pro rata based on NAV"
   ]
  },
  {
   "cell_type": "code",
   "execution_count": 47,
   "id": "173f5211",
   "metadata": {},
   "outputs": [
    {
     "data": {
      "text/html": [
       "<div>\n",
       "<style scoped>\n",
       "    .dataframe tbody tr th:only-of-type {\n",
       "        vertical-align: middle;\n",
       "    }\n",
       "\n",
       "    .dataframe tbody tr th {\n",
       "        vertical-align: top;\n",
       "    }\n",
       "\n",
       "    .dataframe thead th {\n",
       "        text-align: right;\n",
       "    }\n",
       "</style>\n",
       "<table border=\"1\" class=\"dataframe\">\n",
       "  <thead>\n",
       "    <tr style=\"text-align: right;\">\n",
       "      <th></th>\n",
       "      <th>notional</th>\n",
       "    </tr>\n",
       "  </thead>\n",
       "  <tbody>\n",
       "    <tr>\n",
       "      <th>USCB-ABSD_4.25_1/26</th>\n",
       "      <td>2,400,237</td>\n",
       "    </tr>\n",
       "    <tr>\n",
       "      <th>WWCB-ABSD_4.25_1/26</th>\n",
       "      <td>828,364</td>\n",
       "    </tr>\n",
       "    <tr>\n",
       "      <th>MSFD-ABSD_4.25_1/26</th>\n",
       "      <td>6,124,791</td>\n",
       "    </tr>\n",
       "    <tr>\n",
       "      <th>DDFD-ABSD_4.25_1/26</th>\n",
       "      <td>425,400</td>\n",
       "    </tr>\n",
       "    <tr>\n",
       "      <th>DFD2-ABSD_4.25_1/26</th>\n",
       "      <td>221,208</td>\n",
       "    </tr>\n",
       "  </tbody>\n",
       "</table>\n",
       "</div>"
      ],
      "text/plain": [
       "                     notional\n",
       "USCB-ABSD_4.25_1/26 2,400,237\n",
       "WWCB-ABSD_4.25_1/26   828,364\n",
       "MSFD-ABSD_4.25_1/26 6,124,791\n",
       "DDFD-ABSD_4.25_1/26   425,400\n",
       "DFD2-ABSD_4.25_1/26   221,208"
      ]
     },
     "metadata": {},
     "output_type": "display_data"
    }
   ],
   "source": [
    "pd.options.display.float_format = '{:,.0f}'.format\n",
    "\n",
    "allocs = allocate_trade_by_fund(trade)\n",
    "display(allocs[['notional']])"
   ]
  },
  {
   "cell_type": "markdown",
   "id": "17fb590f",
   "metadata": {},
   "source": [
    "#### apply allocations to existing positions and re-evaluate exposure"
   ]
  },
  {
   "cell_type": "code",
   "execution_count": 48,
   "id": "62bf7771",
   "metadata": {},
   "outputs": [
    {
     "data": {
      "text/html": [
       "<div>\n",
       "<style scoped>\n",
       "    .dataframe tbody tr th:only-of-type {\n",
       "        vertical-align: middle;\n",
       "    }\n",
       "\n",
       "    .dataframe tbody tr th {\n",
       "        vertical-align: top;\n",
       "    }\n",
       "\n",
       "    .dataframe thead th {\n",
       "        text-align: right;\n",
       "    }\n",
       "</style>\n",
       "<table border=\"1\" class=\"dataframe\">\n",
       "  <thead>\n",
       "    <tr style=\"text-align: right;\">\n",
       "      <th></th>\n",
       "      <th>fund_code</th>\n",
       "      <th>security_name</th>\n",
       "      <th>notional</th>\n",
       "      <th>mark</th>\n",
       "      <th>market_value</th>\n",
       "      <th>nav</th>\n",
       "      <th>exposure_%_nav</th>\n",
       "      <th>default_exposure_target_%_nav</th>\n",
       "    </tr>\n",
       "  </thead>\n",
       "  <tbody>\n",
       "    <tr>\n",
       "      <th>USCB-ABSD_4.25_1/26</th>\n",
       "      <td>USCB</td>\n",
       "      <td>ABSD_4.25_1/26</td>\n",
       "      <td>340023749.30%</td>\n",
       "      <td>10537.50%</td>\n",
       "      <td>358300025.82%</td>\n",
       "      <td>112846238400.00%</td>\n",
       "      <td>0.32%</td>\n",
       "      <td>2.00%</td>\n",
       "    </tr>\n",
       "    <tr>\n",
       "      <th>WWCB-ABSD_4.25_1/26</th>\n",
       "      <td>WWCB</td>\n",
       "      <td>ABSD_4.25_1/26</td>\n",
       "      <td>582836440.15%</td>\n",
       "      <td>10537.50%</td>\n",
       "      <td>614163898.81%</td>\n",
       "      <td>38945232300.00%</td>\n",
       "      <td>1.58%</td>\n",
       "      <td>1.50%</td>\n",
       "    </tr>\n",
       "    <tr>\n",
       "      <th>MSFD-ABSD_4.25_1/26</th>\n",
       "      <td>MSFD</td>\n",
       "      <td>ABSD_4.25_1/26</td>\n",
       "      <td>612479064.37%</td>\n",
       "      <td>10537.50%</td>\n",
       "      <td>645399814.08%</td>\n",
       "      <td>287954665800.00%</td>\n",
       "      <td>0.22%</td>\n",
       "      <td>0.75%</td>\n",
       "    </tr>\n",
       "    <tr>\n",
       "      <th>DDFD-ABSD_4.25_1/26</th>\n",
       "      <td>DDFD</td>\n",
       "      <td>ABSD_4.25_1/26</td>\n",
       "      <td>42539964.59%</td>\n",
       "      <td>10537.50%</td>\n",
       "      <td>44826487.69%</td>\n",
       "      <td>20000000000.00%</td>\n",
       "      <td>0.22%</td>\n",
       "      <td>3.00%</td>\n",
       "    </tr>\n",
       "    <tr>\n",
       "      <th>DFD2-ABSD_4.25_1/26</th>\n",
       "      <td>DFD2</td>\n",
       "      <td>ABSD_4.25_1/26</td>\n",
       "      <td>22120781.59%</td>\n",
       "      <td>10537.50%</td>\n",
       "      <td>23309773.60%</td>\n",
       "      <td>10400000000.00%</td>\n",
       "      <td>0.22%</td>\n",
       "      <td>5.00%</td>\n",
       "    </tr>\n",
       "  </tbody>\n",
       "</table>\n",
       "</div>"
      ],
      "text/plain": [
       "                    fund_code   security_name      notional      mark   \n",
       "USCB-ABSD_4.25_1/26      USCB  ABSD_4.25_1/26 340023749.30% 10537.50%  \\\n",
       "WWCB-ABSD_4.25_1/26      WWCB  ABSD_4.25_1/26 582836440.15% 10537.50%   \n",
       "MSFD-ABSD_4.25_1/26      MSFD  ABSD_4.25_1/26 612479064.37% 10537.50%   \n",
       "DDFD-ABSD_4.25_1/26      DDFD  ABSD_4.25_1/26  42539964.59% 10537.50%   \n",
       "DFD2-ABSD_4.25_1/26      DFD2  ABSD_4.25_1/26  22120781.59% 10537.50%   \n",
       "\n",
       "                     market_value              nav  exposure_%_nav   \n",
       "USCB-ABSD_4.25_1/26 358300025.82% 112846238400.00%           0.32%  \\\n",
       "WWCB-ABSD_4.25_1/26 614163898.81%  38945232300.00%           1.58%   \n",
       "MSFD-ABSD_4.25_1/26 645399814.08% 287954665800.00%           0.22%   \n",
       "DDFD-ABSD_4.25_1/26  44826487.69%  20000000000.00%           0.22%   \n",
       "DFD2-ABSD_4.25_1/26  23309773.60%  10400000000.00%           0.22%   \n",
       "\n",
       "                     default_exposure_target_%_nav  \n",
       "USCB-ABSD_4.25_1/26                          2.00%  \n",
       "WWCB-ABSD_4.25_1/26                          1.50%  \n",
       "MSFD-ABSD_4.25_1/26                          0.75%  \n",
       "DDFD-ABSD_4.25_1/26                          3.00%  \n",
       "DFD2-ABSD_4.25_1/26                          5.00%  "
      ]
     },
     "metadata": {},
     "output_type": "display_data"
    }
   ],
   "source": [
    "pd.options.display.float_format = '{:.2%}'.format\n",
    "\n",
    "apply_allocations(allocs)\n",
    "display(df_fund_pos[['fund_code', 'security_name', 'notional', 'mark', 'market_value', 'nav', 'exposure_%_nav', 'default_exposure_target_%_nav']])"
   ]
  }
 ],
 "metadata": {
  "kernelspec": {
   "display_name": "leffertz-py39-env",
   "language": "python",
   "name": "leffertz-py39-env"
  },
  "language_info": {
   "codemirror_mode": {
    "name": "ipython",
    "version": 3
   },
   "file_extension": ".py",
   "mimetype": "text/x-python",
   "name": "python",
   "nbconvert_exporter": "python",
   "pygments_lexer": "ipython3",
   "version": "3.9.19"
  }
 },
 "nbformat": 4,
 "nbformat_minor": 5
}
